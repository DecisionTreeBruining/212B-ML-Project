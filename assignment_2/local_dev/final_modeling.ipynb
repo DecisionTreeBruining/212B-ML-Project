{
 "cells": [
  {
   "cell_type": "code",
   "execution_count": 6,
   "metadata": {},
   "outputs": [],
   "source": [
    "import os\n",
    "import time\n",
    "import numpy as np\n",
    "import pandas as pd\n",
    "import seaborn as sns\n",
    "import matplotlib.pyplot as plt\n",
    "from sklearn.pipeline import Pipeline\n",
    "from sklearn.ensemble import RandomForestClassifier\n",
    "from sklearn.model_selection import train_test_split, GridSearchCV\n",
    "from sklearn.metrics import (\n",
    "    accuracy_score, confusion_matrix, classification_report,\n",
    "    roc_auc_score, roc_curve, auc\n",
    ")\n",
    "from sklearn.tree import export_graphviz\n",
    "import xgboost as xgb\n",
    "from xgboost import XGBClassifier as xgbclass\n",
    "from scipy import stats\n",
    "import pickle\n",
    "from sklearn.linear_model import LogisticRegression\n",
    "from sklearn.preprocessing import StandardScaler\n",
    "from sklearn.metrics import (\n",
    "    make_scorer, precision_score, recall_score, f1_score,\n",
    "    classification_report\n",
    ")\n",
    "from sklearn.neighbors import KNeighborsClassifier\n",
    "from sklearn.model_selection import cross_val_score, StratifiedKFold\n",
    "\n",
    "root_path = \"../../Data/GoogleDrive/\""
   ]
  },
  {
   "cell_type": "markdown",
   "metadata": {},
   "source": [
    "### Parallel computing:"
   ]
  },
  {
   "cell_type": "code",
   "execution_count": 2,
   "metadata": {},
   "outputs": [
    {
     "name": "stdout",
     "output_type": "stream",
     "text": [
      "Number of CPU cores available: 8\n",
      "Number of threads set to: 6\n"
     ]
    }
   ],
   "source": [
    "# Get the number of available CPU cores\n",
    "num_cores = os.cpu_count()\n",
    "\n",
    "print(\"Number of CPU cores available:\", num_cores)\n",
    "\n",
    "# Set number of cores\n",
    "threads = os.cpu_count() - 2\n",
    "\n",
    "print(\"Number of threads set to:\", threads)"
   ]
  },
  {
   "cell_type": "markdown",
   "metadata": {},
   "source": [
    "### Load in Data"
   ]
  },
  {
   "cell_type": "code",
   "execution_count": 8,
   "metadata": {},
   "outputs": [],
   "source": [
    "X_train = pd.read_parquet(root_path + \"X_train.parquet\")\n",
    "X_test = pd.read_parquet(root_path + \"X_test.parquet\")\n",
    "y_train = pd.read_parquet(root_path + \"y_train.parquet\")\n",
    "y_test = pd.read_parquet(root_path + \"y_test.parquet\")\n",
    "#data_id = \"full\" # For determining if full or selected dataset.\n",
    "data_id = \"nostate\""
   ]
  },
  {
   "cell_type": "markdown",
   "metadata": {},
   "source": [
    "Converting target to 1D array for sklearn Random Forest:"
   ]
  },
  {
   "cell_type": "code",
   "execution_count": 9,
   "metadata": {},
   "outputs": [],
   "source": [
    "y_train = y_train.values.ravel()"
   ]
  },
  {
   "cell_type": "code",
   "execution_count": null,
   "metadata": {},
   "outputs": [],
   "source": [
    "# test code chunk to train on no state variable \n",
    "X_train_nostate = X_train.iloc[:, 54:]\n",
    "X_test_nostate = X_test.iloc[:, 54:]"
   ]
  },
  {
   "cell_type": "markdown",
   "metadata": {},
   "source": [
    "### backward selection for logistic regression\n",
    "Uncomment to run backwards selection. Takes about 3 hours to run."
   ]
  },
  {
   "cell_type": "code",
   "execution_count": 5,
   "metadata": {},
   "outputs": [],
   "source": [
    "# from sklearn.feature_selection import SequentialFeatureSelector\n",
    "# b_logi = LogisticRegression(max_iter = 300,\n",
    "#                             solver = 'liblinear')\n",
    "# back_selector = SequentialFeatureSelector(b_logi, direction = 'backward', \n",
    "#                                           scoring = 'f1')\n",
    "# back_selector.fit(X_train, y_train)\n",
    "\n",
    "# print(back_selector.k_feature_names_)"
   ]
  },
  {
   "cell_type": "code",
   "execution_count": 6,
   "metadata": {},
   "outputs": [],
   "source": [
    "# saving the selection model\n",
    "# with open(root_path + 'back_selection.pkl', 'wb') as file:\n",
    "#     pickle.dump(back_selector, file)"
   ]
  },
  {
   "cell_type": "markdown",
   "metadata": {},
   "source": [
    "### To use the backward selected features, uncomment tthe following code chunk\n",
    "- and use X_train_selected and X_test_selected for all models"
   ]
  },
  {
   "cell_type": "code",
   "execution_count": 10,
   "metadata": {},
   "outputs": [],
   "source": [
    "# with open(root_path + \"back_selection.pkl\", \"rb\") as file:\n",
    "#     back_selector = pickle.load(file)\n",
    "\n",
    "# # Get the selected feature names\n",
    "# selected_features = back_selector.get_feature_names_out()\n",
    "# # Filter the feature names based on the selected features\n",
    "# #selected_feature_names = X_train.columns[selected_features]\n",
    "\n",
    "# # Naming Dataframes\n",
    "# data_id = \"select\"\n",
    "\n",
    "# # Transform the training and testing data using the selected feature names\n",
    "# X_train = X_train[selected_features]\n",
    "# X_test = X_test[selected_features]\n"
   ]
  },
  {
   "cell_type": "markdown",
   "metadata": {},
   "source": [
    "## **Logistic Regression**"
   ]
  },
  {
   "cell_type": "code",
   "execution_count": 4,
   "metadata": {},
   "outputs": [
    {
     "ename": "NameError",
     "evalue": "name 'threads' is not defined",
     "output_type": "error",
     "traceback": [
      "\u001b[0;31m---------------------------------------------------------------------------\u001b[0m",
      "\u001b[0;31mNameError\u001b[0m                                 Traceback (most recent call last)",
      "Cell \u001b[0;32mIn[4], line 27\u001b[0m\n\u001b[1;32m     20\u001b[0m cv \u001b[38;5;241m=\u001b[39m StratifiedKFold(n_splits\u001b[38;5;241m=\u001b[39m\u001b[38;5;241m5\u001b[39m, shuffle\u001b[38;5;241m=\u001b[39m\u001b[38;5;28;01mTrue\u001b[39;00m, random_state \u001b[38;5;241m=\u001b[39m \u001b[38;5;241m69\u001b[39m)\n\u001b[1;32m     22\u001b[0m \u001b[38;5;66;03m# define a grid search with cross-validation\u001b[39;00m\n\u001b[1;32m     23\u001b[0m log_grid_search \u001b[38;5;241m=\u001b[39m GridSearchCV(estimator \u001b[38;5;241m=\u001b[39m log_pipe,\n\u001b[1;32m     24\u001b[0m                                param_grid \u001b[38;5;241m=\u001b[39m logi_grid,\n\u001b[1;32m     25\u001b[0m                                cv \u001b[38;5;241m=\u001b[39m cv,\n\u001b[1;32m     26\u001b[0m                                scoring \u001b[38;5;241m=\u001b[39m roc_auc_scorer,\n\u001b[0;32m---> 27\u001b[0m                                n_jobs \u001b[38;5;241m=\u001b[39m \u001b[43mthreads\u001b[49m,\n\u001b[1;32m     28\u001b[0m                                verbose \u001b[38;5;241m=\u001b[39m \u001b[38;5;241m0\u001b[39m)\n\u001b[1;32m     30\u001b[0m \u001b[38;5;66;03m# fit the grid search\u001b[39;00m\n\u001b[1;32m     31\u001b[0m log_grid_search\u001b[38;5;241m.\u001b[39mfit(X_train, y_train)\n",
      "\u001b[0;31mNameError\u001b[0m: name 'threads' is not defined"
     ]
    }
   ],
   "source": [
    "roc_auc_scorer = make_scorer(roc_auc_score,\n",
    "                             needs_threshold = True,\n",
    "                             multi_class = 'ovo')\n",
    "\n",
    "# define a tuning grid for logistic regression\n",
    "logi_grid = {\n",
    "    'clf__C': [0.001, 0.01, 0.1, 1,10],\n",
    "    'clf__penalty': ['l1', 'l2','elasticnet'],\n",
    "    'clf__solver': ['liblinear', 'saga'],\n",
    "    'clf__class_weight': [None, 'balanced'],\n",
    "}\n",
    "\n",
    "\n",
    "# define a logistic regression model\n",
    "log_pipe = Pipeline([\n",
    "    ('scaler', StandardScaler()),\n",
    "    ('clf', LogisticRegression(max_iter = 1000))\n",
    "])\n",
    "\n",
    "cv = StratifiedKFold(n_splits=5, shuffle=True, random_state = 69)\n",
    "\n",
    "# define a grid search with cross-validation\n",
    "log_grid_search = GridSearchCV(estimator = log_pipe,\n",
    "                               param_grid = logi_grid,\n",
    "                               cv = cv,\n",
    "                               scoring = roc_auc_scorer,\n",
    "                               n_jobs = threads,\n",
    "                               verbose = 0)\n",
    "\n",
    "# fit the grid search\n",
    "#log_grid_search.fit(X_train, y_train)\n",
    "\n",
    "log_grid_search.fit(X_train_nostate, y_train)\n",
    "\n",
    "# print the best parameters\n",
    "print(\"Best parameters:\", log_grid_search.best_params_)\n",
    "print(\"Best cross-validation ROC AUC score: {:.2f}\".format(log_grid_search.best_score_))"
   ]
  },
  {
   "cell_type": "code",
   "execution_count": 9,
   "metadata": {},
   "outputs": [],
   "source": [
    "# fit the training data with the best logistic regression model\n",
    "log_final = log_grid_search.best_estimator_\n",
    "\n",
    "y_pred_test_logi = log_final.predict(X_test)\n",
    "y_pred_prob_logi = log_final.predict_proba(X_test)[:, 1]"
   ]
  },
  {
   "cell_type": "code",
   "execution_count": 10,
   "metadata": {},
   "outputs": [],
   "source": [
    "with open(root_path + f\"logit_model_{data_id}.pkl\", 'wb') as file:\n",
    "    pickle.dump(log_grid_search, file)"
   ]
  },
  {
   "cell_type": "markdown",
   "metadata": {},
   "source": [
    "## **KNN**"
   ]
  },
  {
   "cell_type": "code",
   "execution_count": 11,
   "metadata": {},
   "outputs": [
    {
     "name": "stdout",
     "output_type": "stream",
     "text": [
      "Best parameters: {'knn__metric': 'manhattan', 'knn__n_neighbors': 40, 'knn__weights': 'uniform'}\n",
      "Best cross-validation score: 0.82\n"
     ]
    }
   ],
   "source": [
    "knn_param_grid = {\n",
    "    'knn__n_neighbors': np.arange(20,41,2),\n",
    "    'knn__weights': ['uniform', 'distance'],\n",
    "    'knn__metric': ['euclidean', 'manhattan']\n",
    "}\n",
    "\n",
    "knn_pipe = Pipeline([\n",
    "    ('scaler', StandardScaler()),\n",
    "    ('knn', KNeighborsClassifier())\n",
    "])\n",
    "\n",
    "cv = StratifiedKFold(n_splits=5, shuffle=True, random_state = 69)\n",
    "\n",
    "knn_grid_search = GridSearchCV(knn_pipe,\n",
    "                               knn_param_grid,\n",
    "                               cv = cv,\n",
    "                               verbose = 0,\n",
    "                               scoring = roc_auc_scorer,\n",
    "                               n_jobs = threads)\n",
    "\n",
    "#knn_grid_search.fit(X_train, y_train)\n",
    "knn_grid_search.fit(X_train_nostate, y_train)\n",
    "\n",
    "print(\"Best parameters:\", knn_grid_search.best_params_)\n",
    "print(\"Best cross-validation score: {:.2f}\".format(knn_grid_search.best_score_))"
   ]
  },
  {
   "cell_type": "code",
   "execution_count": 12,
   "metadata": {},
   "outputs": [],
   "source": [
    "best_knn = knn_grid_search.best_estimator_\n",
    "y_pred_test_knn = best_knn.predict(X_test)\n",
    "y_pred_prob_knn = best_knn.predict_proba(X_test)[:, 1]"
   ]
  },
  {
   "cell_type": "code",
   "execution_count": 13,
   "metadata": {},
   "outputs": [],
   "source": [
    "with open(root_path + f\"knn_model_{data_id}.pkl\", 'wb') as file:\n",
    "    pickle.dump(knn_grid_search, file)"
   ]
  },
  {
   "cell_type": "markdown",
   "metadata": {},
   "source": [
    "## **Random Forest**"
   ]
  },
  {
   "cell_type": "code",
   "execution_count": 14,
   "metadata": {},
   "outputs": [
    {
     "name": "stderr",
     "output_type": "stream",
     "text": [
      "/opt/anaconda3/envs/203C/lib/python3.10/site-packages/joblib/externals/loky/process_executor.py:752: UserWarning: A worker stopped while some jobs were given to the executor. This can be caused by a too short worker timeout or by a memory leak.\n",
      "  warnings.warn(\n"
     ]
    },
    {
     "name": "stdout",
     "output_type": "stream",
     "text": [
      "Best Parameters: {'max_depth': 20, 'max_features': 'sqrt', 'min_samples_leaf': 1, 'min_samples_split': 10, 'n_estimators': 1000}\n",
      "Best Score: 0.8015693067555103\n",
      "Execution time: 4618.202785730362 seconds\n"
     ]
    }
   ],
   "source": [
    "start_time = time.time()\n",
    "\n",
    "# Initialize the Random Forest classifier\n",
    "rf_classifier = RandomForestClassifier(random_state=69)\n",
    "\n",
    "# Define the hyperparameter grid\n",
    "param_grid = {\n",
    "    'n_estimators': [300, 600, 1000],\n",
    "    'max_depth': [10, 20, 50],\n",
    "    'min_samples_split': [2, 5, 10],\n",
    "    'min_samples_leaf': [1, 5, 10],\n",
    "    'max_features': ['sqrt', 'log2']\n",
    "}\n",
    "\n",
    "# Initialize GridSearchCV\n",
    "grid_search = GridSearchCV(estimator=rf_classifier, \n",
    "                           param_grid=param_grid, \n",
    "                           cv=5, \n",
    "                           scoring='accuracy', \n",
    "                           n_jobs=threads) # Parallel\n",
    "\n",
    "# Perform GridSearchCV to find the best parameters\n",
    "#grid_search.fit(X_train, y_train)\n",
    "grid_search.fit(X_train_nostate, y_train)\n",
    "\n",
    "# Get the best parameters and the best score\n",
    "best_rf_params = grid_search.best_params_\n",
    "best_rf_score = grid_search.best_score_\n",
    "\n",
    "print(\"Best Parameters:\", best_rf_params)\n",
    "print(\"Best Score:\", best_rf_score)\n",
    "\n",
    "# Use the best model to make predictions on the testing data\n",
    "best_rf_classifier = grid_search.best_estimator_\n",
    "rf_predictions = best_rf_classifier.predict(X_test)\n",
    "rf_predcitions_prob = best_rf_classifier.predict_proba(X_test)[:, 1]\n",
    "\n",
    "end_time = time.time()\n",
    "\n",
    "execution_time = end_time - start_time\n",
    "print(\"Execution time:\", execution_time, \"seconds\")"
   ]
  },
  {
   "cell_type": "code",
   "execution_count": 15,
   "metadata": {},
   "outputs": [],
   "source": [
    "# Save Model\n",
    "with open(root_path + f\"rf_model_{data_id}.pkl\", 'wb') as file:\n",
    "    pickle.dump(grid_search, file)"
   ]
  },
  {
   "cell_type": "markdown",
   "metadata": {},
   "source": [
    "## **XGBoost**"
   ]
  },
  {
   "cell_type": "code",
   "execution_count": 16,
   "metadata": {},
   "outputs": [
    {
     "name": "stderr",
     "output_type": "stream",
     "text": [
      "/opt/anaconda3/envs/203C/lib/python3.10/site-packages/joblib/externals/loky/process_executor.py:752: UserWarning: A worker stopped while some jobs were given to the executor. This can be caused by a too short worker timeout or by a memory leak.\n",
      "  warnings.warn(\n"
     ]
    },
    {
     "name": "stdout",
     "output_type": "stream",
     "text": [
      "Best set of hyperparameters:  {'learning_rate': 0.1, 'max_depth': 5, 'subsample': 1}\n",
      "Best score:  0.8030990915942653\n",
      "Execution time: 31.264432191848755 seconds\n"
     ]
    }
   ],
   "source": [
    "start_time = time.time()\n",
    "\n",
    "param_grid = {\n",
    "    'max_depth': [3, 5, 7],\n",
    "    'learning_rate': [0.1, 0.01, 0.001],\n",
    "    'subsample': [0.5, 0.7, 1],\n",
    "    # 'n_estimators':stats.randint(50, 200)\n",
    "}\n",
    "\n",
    "# Create the XGBoost model object\n",
    "xgb_model = xgb.XGBClassifier()\n",
    "\n",
    "# Create the GridSearchCV object\n",
    "grid_search = GridSearchCV(xgb_model, \n",
    "                           param_grid, \n",
    "                           cv=5, \n",
    "                           scoring='accuracy',\n",
    "                           n_jobs=threads)\n",
    "\n",
    "# Fit the GridSearchCV object to the training data\n",
    "#grid_search.fit(X_train, y_train)\n",
    "grid_search.fit(X_train_nostate, y_train)\n",
    "\n",
    "# Get the best set of hyperparameters and the corresponding score\n",
    "xgb_best_params = grid_search.best_params_\n",
    "xgb_best_score = grid_search.best_score_\n",
    "\n",
    "# Print the best set of hyperparameters and the corresponding score\n",
    "print(\"Best set of hyperparameters: \", xgb_best_params)\n",
    "print(\"Best score: \", xgb_best_score)\n",
    "\n",
    "# Get the best model\n",
    "best_xgb_model = grid_search.best_estimator_\n",
    "\n",
    "# Use the best model to make predictions on the testing data\n",
    "xgb_predictions = best_xgb_model.predict(X_test)\n",
    "xgb_predictions_prob = best_xgb_model.predict_proba(X_test)[:, 1]\n",
    "\n",
    "end_time = time.time()\n",
    "\n",
    "execution_time = end_time - start_time\n",
    "print(\"Execution time:\", execution_time, \"seconds\")"
   ]
  },
  {
   "cell_type": "code",
   "execution_count": 17,
   "metadata": {},
   "outputs": [],
   "source": [
    "# Save Model\n",
    "with open(root_path + f\"xgboost_model_{data_id}.pkl\", 'wb') as file:\n",
    "    pickle.dump(grid_search, file)"
   ]
  },
  {
   "cell_type": "markdown",
   "metadata": {},
   "source": [
    "## DataFrames of Model Prediction and Probability"
   ]
  },
  {
   "cell_type": "markdown",
   "metadata": {},
   "source": [
    "- Reading in the saved models \n",
    "    - \"selected\" models are saved in google drive\n",
    "- Create a table with all predicted values"
   ]
  },
  {
   "cell_type": "code",
   "execution_count": 7,
   "metadata": {},
   "outputs": [],
   "source": [
    "logi_final = pickle.load(open(root_path + 'logit_model_select.pkl', 'rb'))\n",
    "best_knn = pickle.load(open(root_path + 'knn_model_select.pkl', 'rb'))\n",
    "rf_model = pickle.load(open(root_path + 'rf_model_select.pkl', 'rb'))\n",
    "xgb_model = pickle.load(open(root_path + 'xgboost_model_select.pkl', 'rb'))"
   ]
  },
  {
   "cell_type": "code",
   "execution_count": 11,
   "metadata": {},
   "outputs": [],
   "source": [
    "# Get the predictions\n",
    "y_pred_test_logi = logi_final.predict(X_test)\n",
    "y_pred_prob_logi = logi_final.predict_proba(X_test)[:, 1]\n",
    "y_pred_test_knn = best_knn.predict(X_test)\n",
    "y_pred_prob_knn = best_knn.predict_proba(X_test)[:, 1]\n",
    "rf_predictions = rf_model.predict(X_test)\n",
    "rf_predcitions_prob = rf_model.predict_proba(X_test)[:, 1]\n",
    "xgb_predictions = xgb_model.predict(X_test)\n",
    "xgb_predictions_prob = xgb_model.predict_proba(X_test)[:, 1]"
   ]
  },
  {
   "cell_type": "code",
   "execution_count": 18,
   "metadata": {},
   "outputs": [],
   "source": [
    "# # Dictionary to store best models\n",
    "# best_models = {\n",
    "#     'Random Forest': best_rf_classifier,\n",
    "#     'XGBoost': best_xgb_model\n",
    "# }\n",
    "\n",
    "# # Dictionary to store predictions\n",
    "# predictions = {\n",
    "#     'Random Forest': rf_predictions,\n",
    "#     'XGBoost': xgb_predictions\n",
    "# }\n",
    "\n",
    "\n",
    "# Save the best models and predictions\n",
    "# pickle.dump(best_models, open(root_path + 'best_models.pkl', 'wb'))\n",
    "# pickle.dump(predictions, open(root_path + 'predictions.pkl', 'wb'))"
   ]
  },
  {
   "cell_type": "code",
   "execution_count": 14,
   "metadata": {},
   "outputs": [],
   "source": [
    "# save predicted values to a parquet file\n",
    "out_dir = '../../Data/GoogleDrive/'\n",
    "out_file = out_dir + 'select_test_predicted.parquet'\n",
    "\n",
    "test_predicted = pd.DataFrame({'logi_predicted': y_pred_test_logi,\n",
    "                               'logi_predicted_prob': y_pred_prob_logi,\n",
    "                               'knn_predicted': y_pred_test_knn,\n",
    "                               'knn_predicted_prob': y_pred_prob_knn,\n",
    "                               'rf_predicted': rf_predictions,\n",
    "                               'rf_predicted_prob': rf_predcitions_prob,\n",
    "                               'xgb_predicted': xgb_predictions,\n",
    "                               'xgb_predicted_prob': xgb_predictions_prob\n",
    "                               })\n",
    "\n",
    "test_predicted.to_parquet(out_file)"
   ]
  }
 ],
 "metadata": {
  "kernelspec": {
   "display_name": "ucla",
   "language": "python",
   "name": "python3"
  },
  "language_info": {
   "codemirror_mode": {
    "name": "ipython",
    "version": 3
   },
   "file_extension": ".py",
   "mimetype": "text/x-python",
   "name": "python",
   "nbconvert_exporter": "python",
   "pygments_lexer": "ipython3",
   "version": "3.11.6"
  }
 },
 "nbformat": 4,
 "nbformat_minor": 2
}
