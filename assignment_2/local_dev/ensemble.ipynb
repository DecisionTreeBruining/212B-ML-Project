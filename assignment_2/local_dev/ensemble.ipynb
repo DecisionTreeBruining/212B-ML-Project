{
 "cells": [
  {
   "cell_type": "markdown",
   "metadata": {},
   "source": [
    "## Ensemble"
   ]
  },
  {
   "cell_type": "code",
   "execution_count": 1,
   "metadata": {},
   "outputs": [],
   "source": [
    "# Libraries\n",
    "import pandas as pd\n",
    "from sklearn.ensemble import VotingClassifier\n",
    "from sklearn.linear_model import LogisticRegression\n",
    "from sklearn.neighbors import KNeighborsClassifier\n",
    "from sklearn.ensemble import RandomForestClassifier\n",
    "from sklearn.metrics import accuracy_score, precision_score, recall_score, f1_score, roc_auc_score\n",
    "from xgboost import XGBClassifier\n",
    "import pickle\n",
    "from pickle import load\n",
    "\n",
    "root_path = \"../../Data/GoogleDrive/\""
   ]
  },
  {
   "cell_type": "code",
   "execution_count": 2,
   "metadata": {},
   "outputs": [],
   "source": [
    "# Load data\n",
    "X_train = pd.read_parquet(root_path + \"X_train.parquet\")\n",
    "X_test = pd.read_parquet(root_path + \"X_test.parquet\")\n",
    "y_train = pd.read_parquet(root_path + \"y_train.parquet\")\n",
    "y_test = pd.read_parquet(root_path + \"y_test.parquet\")"
   ]
  },
  {
   "cell_type": "code",
   "execution_count": 3,
   "metadata": {},
   "outputs": [],
   "source": [
    "# Load models\n",
    "\n",
    "# Root directory\n",
    "root = '../../Data/GoogleDrive/'\n",
    "\n",
    "# File names\n",
    "log_name = 'logit_model_fixed.pkl'\n",
    "knn_name = 'knn_model_fixed.pkl'\n",
    "rf_name = 'rf_model_fixed.pkl'\n",
    "xgb_name = 'xgboost_model_fixed.pkl'\n",
    "\n",
    "with open(root + log_name, 'rb') as f:\n",
    "    logit_model = pickle.load(f)\n",
    "\n",
    "with open(root + knn_name, 'rb') as f:\n",
    "    knn_model = pickle.load(f)\n",
    "\n",
    "with open(root + rf_name, 'rb') as f:\n",
    "    rf_model = pickle.load(f)\n",
    "\n",
    "with open(root + xgb_name, 'rb') as f:\n",
    "    xgb_model = pickle.load(f)"
   ]
  },
  {
   "cell_type": "code",
   "execution_count": 5,
   "metadata": {},
   "outputs": [],
   "source": [
    "# Model\n",
    "ensemble = VotingClassifier(\n",
    "    estimators=[('logit', logit_model), \n",
    "                ('knn', knn_model),\n",
    "                ('rf', rf_model),\n",
    "                ('xgb', xgb_model)], \n",
    "                voting='soft')\n",
    "\n",
    "y_train = y_train.values.ravel()\n",
    "\n",
    "ensemble.fit(X_train, y_train)\n",
    "ensemble.score(X_test, y_test)\n",
    "print('Ensemble model accuracy: ', ensemble.score(X_test, y_test))\n",
    "\n",
    "# Predictions\n",
    "y_pred = ensemble.predict(X_test)"
   ]
  },
  {
   "cell_type": "code",
   "execution_count": null,
   "metadata": {},
   "outputs": [],
   "source": [
    "# create confusion matrix\n",
    "ensemble_cf = confusion_matrix(y_test, y_pred)\n",
    "ensemble_cf = pd.DataFrame(ensemble_cf, \n",
    "                         columns = ['predicted_no_heart_disease', \n",
    "                                    'predicted_heart_disease'],\n",
    "                         index = ['no_heart_disease',\n",
    "                                  'has_heart_disease'])"
   ]
  },
  {
   "cell_type": "code",
   "execution_count": null,
   "metadata": {},
   "outputs": [],
   "source": [
    "# Evaluate\n",
    "\n",
    "# Accuracy\n",
    "ens_accuracy = accuracy_score(y_test, y_pred)\n",
    "\n",
    "# Precision\n",
    "ens_precision = precision_score(y_test, y_pred)\n",
    "\n",
    "# Recall\n",
    "ens_recall = recall_score(y_test, y_pred)\n",
    "\n",
    "# F1\n",
    "ens_f1 = f1_score(y_test, y_pred)\n",
    "\n",
    "# AUC ROC\n",
    "ens_roc = roc_auc_score(y_test, y_pred)"
   ]
  }
 ],
 "metadata": {
  "kernelspec": {
   "display_name": "BIOSTAT203C-24S",
   "language": "python",
   "name": "python3"
  },
  "language_info": {
   "codemirror_mode": {
    "name": "ipython",
    "version": 3
   },
   "file_extension": ".py",
   "mimetype": "text/x-python",
   "name": "python",
   "nbconvert_exporter": "python",
   "pygments_lexer": "ipython3",
   "version": "3.11.8"
  }
 },
 "nbformat": 4,
 "nbformat_minor": 2
}
