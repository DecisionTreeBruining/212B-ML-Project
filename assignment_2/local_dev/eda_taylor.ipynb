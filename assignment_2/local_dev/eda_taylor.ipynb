{
 "cells": [
  {
   "cell_type": "markdown",
   "metadata": {},
   "source": [
    "# Assignement 2: Preprocessing"
   ]
  },
  {
   "cell_type": "markdown",
   "metadata": {},
   "source": [
    "## Table of Contents\n",
    "1. [Notebook Summary](#notebook-summary)\n",
    "2. [Import the Dataset](#import-the-dataset)\n",
    "3. [Add the Target Variable](#add-the-target-variable)\n",
    "4. [Drop Unused Variables and Drop Observations with too Many Missing Values](#4-drop-unused-variables-and-drop-observations-with-too-many-missing-values)\n",
    "5. [Impute Missing Values](#impute-missing-values)\n",
    "7. [Export all Dataframes as Parquet and Lazy Read all Parquet Files](#export-all-dataframes-as-parquet-and-lazy-read-all-parquet-files)\n",
    "\n",
    "\n",
    "\n"
   ]
  },
  {
   "cell_type": "markdown",
   "metadata": {},
   "source": [
    "## 1. Notebook Summary\n",
    "\n",
    "### Dataframe Dictionary Key\n",
    "\n",
    "| Dataframe Name | Description                        |\n",
    "|----------------|------------------------------------|\n",
    "| df_original    | No modifications to the data       |\n",
    "| df             | Added column HadHearDisease. If a target variable is missing, HadHeartDisease missing.|\n",
    "| df_heart_drop  | Drop all observations where a target variable is missing. Dropped `HadHeartAttack`, `HadStroke`, `HadAngina`, and `BMI`|\n",
    "| df_heart_drop_## | Drop observations that pass the ## threshold for missing values |\n",
    "| df*_imp        | Imputed version of all the above dataframes |"
   ]
  },
  {
   "cell_type": "markdown",
   "metadata": {},
   "source": [
    "## 2. Import the Dataset\n",
    "\n",
    "Parquet colomnar storage format is faster than CSV."
   ]
  },
  {
   "cell_type": "code",
   "execution_count": 17,
   "metadata": {},
   "outputs": [],
   "source": [
    "from asgmnt_2_tools import lazydict_to_parquet\n",
    "import polars as pl # Lazy Dataframe Manipulation \n",
    "import pandas as pd # Dataframe\n",
    "\n",
    "data_path = \"../../Data/\" # Relative Path to Data Folder.\n",
    "drive_path = \"../../Data/GoogleDrive/\" # Relative Path to GoogleDrive Folder.\n"
   ]
  },
  {
   "cell_type": "code",
   "execution_count": 18,
   "metadata": {},
   "outputs": [
    {
     "data": {
      "text/html": [
       "<div><style>\n",
       ".dataframe > thead > tr,\n",
       ".dataframe > tbody > tr {\n",
       "  text-align: right;\n",
       "  white-space: pre-wrap;\n",
       "}\n",
       "</style>\n",
       "<small>shape: (5, 40)</small><table border=\"1\" class=\"dataframe\"><thead><tr><th>State</th><th>Sex</th><th>GeneralHealth</th><th>PhysicalHealthDays</th><th>MentalHealthDays</th><th>LastCheckupTime</th><th>PhysicalActivities</th><th>SleepHours</th><th>RemovedTeeth</th><th>HadHeartAttack</th><th>HadAngina</th><th>HadStroke</th><th>HadAsthma</th><th>HadSkinCancer</th><th>HadCOPD</th><th>HadDepressiveDisorder</th><th>HadKidneyDisease</th><th>HadArthritis</th><th>HadDiabetes</th><th>DeafOrHardOfHearing</th><th>BlindOrVisionDifficulty</th><th>DifficultyConcentrating</th><th>DifficultyWalking</th><th>DifficultyDressingBathing</th><th>DifficultyErrands</th><th>SmokerStatus</th><th>ECigaretteUsage</th><th>ChestScan</th><th>RaceEthnicityCategory</th><th>AgeCategory</th><th>HeightInMeters</th><th>WeightInKilograms</th><th>BMI</th><th>AlcoholDrinkers</th><th>HIVTesting</th><th>FluVaxLast12</th><th>PneumoVaxEver</th><th>TetanusLast10Tdap</th><th>HighRiskLastYear</th><th>CovidPos</th></tr><tr><td>str</td><td>str</td><td>str</td><td>f64</td><td>f64</td><td>str</td><td>str</td><td>f64</td><td>str</td><td>str</td><td>str</td><td>str</td><td>str</td><td>str</td><td>str</td><td>str</td><td>str</td><td>str</td><td>str</td><td>str</td><td>str</td><td>str</td><td>str</td><td>str</td><td>str</td><td>str</td><td>str</td><td>str</td><td>str</td><td>str</td><td>f64</td><td>f64</td><td>f64</td><td>str</td><td>str</td><td>str</td><td>str</td><td>str</td><td>str</td><td>str</td></tr></thead><tbody><tr><td>&quot;Alabama&quot;</td><td>&quot;Female&quot;</td><td>&quot;Very good&quot;</td><td>0.0</td><td>0.0</td><td>&quot;Within past ye…</td><td>&quot;No&quot;</td><td>8.0</td><td>null</td><td>&quot;No&quot;</td><td>&quot;No&quot;</td><td>&quot;No&quot;</td><td>&quot;No&quot;</td><td>&quot;No&quot;</td><td>&quot;No&quot;</td><td>&quot;No&quot;</td><td>&quot;No&quot;</td><td>&quot;No&quot;</td><td>&quot;Yes&quot;</td><td>&quot;No&quot;</td><td>&quot;No&quot;</td><td>&quot;No&quot;</td><td>&quot;No&quot;</td><td>&quot;No&quot;</td><td>&quot;No&quot;</td><td>&quot;Never smoked&quot;</td><td>&quot;Not at all (ri…</td><td>&quot;No&quot;</td><td>&quot;White only, No…</td><td>&quot;Age 80 or olde…</td><td>null</td><td>null</td><td>null</td><td>&quot;No&quot;</td><td>&quot;No&quot;</td><td>&quot;Yes&quot;</td><td>&quot;No&quot;</td><td>&quot;Yes, received …</td><td>&quot;No&quot;</td><td>&quot;No&quot;</td></tr><tr><td>&quot;Alabama&quot;</td><td>&quot;Female&quot;</td><td>&quot;Excellent&quot;</td><td>0.0</td><td>0.0</td><td>null</td><td>&quot;No&quot;</td><td>6.0</td><td>null</td><td>&quot;No&quot;</td><td>&quot;No&quot;</td><td>&quot;No&quot;</td><td>&quot;No&quot;</td><td>&quot;Yes&quot;</td><td>&quot;No&quot;</td><td>&quot;No&quot;</td><td>&quot;No&quot;</td><td>&quot;No&quot;</td><td>&quot;No&quot;</td><td>&quot;No&quot;</td><td>&quot;No&quot;</td><td>&quot;No&quot;</td><td>&quot;No&quot;</td><td>&quot;No&quot;</td><td>&quot;No&quot;</td><td>&quot;Never smoked&quot;</td><td>&quot;Never used e-c…</td><td>&quot;No&quot;</td><td>&quot;White only, No…</td><td>&quot;Age 80 or olde…</td><td>1.6</td><td>68.04</td><td>26.57</td><td>&quot;No&quot;</td><td>&quot;No&quot;</td><td>&quot;No&quot;</td><td>&quot;No&quot;</td><td>&quot;No, did not re…</td><td>&quot;No&quot;</td><td>&quot;No&quot;</td></tr><tr><td>&quot;Alabama&quot;</td><td>&quot;Female&quot;</td><td>&quot;Very good&quot;</td><td>2.0</td><td>3.0</td><td>&quot;Within past ye…</td><td>&quot;Yes&quot;</td><td>5.0</td><td>null</td><td>&quot;No&quot;</td><td>&quot;No&quot;</td><td>&quot;No&quot;</td><td>&quot;No&quot;</td><td>&quot;Yes&quot;</td><td>&quot;No&quot;</td><td>&quot;No&quot;</td><td>&quot;No&quot;</td><td>&quot;No&quot;</td><td>&quot;No&quot;</td><td>&quot;No&quot;</td><td>&quot;No&quot;</td><td>&quot;No&quot;</td><td>&quot;No&quot;</td><td>&quot;No&quot;</td><td>&quot;No&quot;</td><td>&quot;Never smoked&quot;</td><td>&quot;Never used e-c…</td><td>&quot;No&quot;</td><td>&quot;White only, No…</td><td>&quot;Age 55 to 59&quot;</td><td>1.57</td><td>63.5</td><td>25.61</td><td>&quot;No&quot;</td><td>&quot;No&quot;</td><td>&quot;No&quot;</td><td>&quot;No&quot;</td><td>null</td><td>&quot;No&quot;</td><td>&quot;Yes&quot;</td></tr><tr><td>&quot;Alabama&quot;</td><td>&quot;Female&quot;</td><td>&quot;Excellent&quot;</td><td>0.0</td><td>0.0</td><td>&quot;Within past ye…</td><td>&quot;Yes&quot;</td><td>7.0</td><td>null</td><td>&quot;No&quot;</td><td>&quot;No&quot;</td><td>&quot;No&quot;</td><td>&quot;Yes&quot;</td><td>&quot;No&quot;</td><td>&quot;No&quot;</td><td>&quot;No&quot;</td><td>&quot;No&quot;</td><td>&quot;Yes&quot;</td><td>&quot;No&quot;</td><td>&quot;No&quot;</td><td>&quot;No&quot;</td><td>&quot;No&quot;</td><td>&quot;No&quot;</td><td>&quot;No&quot;</td><td>&quot;No&quot;</td><td>&quot;Current smoker…</td><td>&quot;Never used e-c…</td><td>&quot;Yes&quot;</td><td>&quot;White only, No…</td><td>null</td><td>1.65</td><td>63.5</td><td>23.3</td><td>&quot;No&quot;</td><td>&quot;No&quot;</td><td>&quot;Yes&quot;</td><td>&quot;Yes&quot;</td><td>&quot;No, did not re…</td><td>&quot;No&quot;</td><td>&quot;No&quot;</td></tr><tr><td>&quot;Alabama&quot;</td><td>&quot;Female&quot;</td><td>&quot;Fair&quot;</td><td>2.0</td><td>0.0</td><td>&quot;Within past ye…</td><td>&quot;Yes&quot;</td><td>9.0</td><td>null</td><td>&quot;No&quot;</td><td>&quot;No&quot;</td><td>&quot;No&quot;</td><td>&quot;No&quot;</td><td>&quot;No&quot;</td><td>&quot;No&quot;</td><td>&quot;No&quot;</td><td>&quot;No&quot;</td><td>&quot;No&quot;</td><td>&quot;No&quot;</td><td>&quot;No&quot;</td><td>&quot;No&quot;</td><td>&quot;No&quot;</td><td>&quot;No&quot;</td><td>&quot;No&quot;</td><td>&quot;No&quot;</td><td>&quot;Never smoked&quot;</td><td>&quot;Never used e-c…</td><td>&quot;Yes&quot;</td><td>&quot;White only, No…</td><td>&quot;Age 40 to 44&quot;</td><td>1.57</td><td>53.98</td><td>21.77</td><td>&quot;Yes&quot;</td><td>&quot;No&quot;</td><td>&quot;No&quot;</td><td>&quot;Yes&quot;</td><td>&quot;No, did not re…</td><td>&quot;No&quot;</td><td>&quot;No&quot;</td></tr></tbody></table></div>"
      ],
      "text/plain": [
       "shape: (5, 40)\n",
       "┌─────────┬────────┬────────────┬────────────┬───┬────────────┬────────────┬────────────┬──────────┐\n",
       "│ State   ┆ Sex    ┆ GeneralHea ┆ PhysicalHe ┆ … ┆ PneumoVaxE ┆ TetanusLas ┆ HighRiskLa ┆ CovidPos │\n",
       "│ ---     ┆ ---    ┆ lth        ┆ althDays   ┆   ┆ ver        ┆ t10Tdap    ┆ stYear     ┆ ---      │\n",
       "│ str     ┆ str    ┆ ---        ┆ ---        ┆   ┆ ---        ┆ ---        ┆ ---        ┆ str      │\n",
       "│         ┆        ┆ str        ┆ f64        ┆   ┆ str        ┆ str        ┆ str        ┆          │\n",
       "╞═════════╪════════╪════════════╪════════════╪═══╪════════════╪════════════╪════════════╪══════════╡\n",
       "│ Alabama ┆ Female ┆ Very good  ┆ 0.0        ┆ … ┆ No         ┆ Yes,       ┆ No         ┆ No       │\n",
       "│         ┆        ┆            ┆            ┆   ┆            ┆ received   ┆            ┆          │\n",
       "│         ┆        ┆            ┆            ┆   ┆            ┆ tetanus    ┆            ┆          │\n",
       "│         ┆        ┆            ┆            ┆   ┆            ┆ shot but   ┆            ┆          │\n",
       "│         ┆        ┆            ┆            ┆   ┆            ┆ n…         ┆            ┆          │\n",
       "│ Alabama ┆ Female ┆ Excellent  ┆ 0.0        ┆ … ┆ No         ┆ No, did    ┆ No         ┆ No       │\n",
       "│         ┆        ┆            ┆            ┆   ┆            ┆ not        ┆            ┆          │\n",
       "│         ┆        ┆            ┆            ┆   ┆            ┆ receive    ┆            ┆          │\n",
       "│         ┆        ┆            ┆            ┆   ┆            ┆ any        ┆            ┆          │\n",
       "│         ┆        ┆            ┆            ┆   ┆            ┆ tetanus …  ┆            ┆          │\n",
       "│ Alabama ┆ Female ┆ Very good  ┆ 2.0        ┆ … ┆ No         ┆ null       ┆ No         ┆ Yes      │\n",
       "│ Alabama ┆ Female ┆ Excellent  ┆ 0.0        ┆ … ┆ Yes        ┆ No, did    ┆ No         ┆ No       │\n",
       "│         ┆        ┆            ┆            ┆   ┆            ┆ not        ┆            ┆          │\n",
       "│         ┆        ┆            ┆            ┆   ┆            ┆ receive    ┆            ┆          │\n",
       "│         ┆        ┆            ┆            ┆   ┆            ┆ any        ┆            ┆          │\n",
       "│         ┆        ┆            ┆            ┆   ┆            ┆ tetanus …  ┆            ┆          │\n",
       "│ Alabama ┆ Female ┆ Fair       ┆ 2.0        ┆ … ┆ Yes        ┆ No, did    ┆ No         ┆ No       │\n",
       "│         ┆        ┆            ┆            ┆   ┆            ┆ not        ┆            ┆          │\n",
       "│         ┆        ┆            ┆            ┆   ┆            ┆ receive    ┆            ┆          │\n",
       "│         ┆        ┆            ┆            ┆   ┆            ┆ any        ┆            ┆          │\n",
       "│         ┆        ┆            ┆            ┆   ┆            ┆ tetanus …  ┆            ┆          │\n",
       "└─────────┴────────┴────────────┴────────────┴───┴────────────┴────────────┴────────────┴──────────┘"
      ]
     },
     "execution_count": 18,
     "metadata": {},
     "output_type": "execute_result"
    }
   ],
   "source": [
    "df_dict = dict() # Dictionary of preprocessing lazyframes\n",
    "df_dict_imp = dict() # Dictionary of imputed lazyframes\n",
    "df_dict_all = dict() #Dictionary of all lazyframes\n",
    "\n",
    "\n",
    "df = pl.scan_csv(data_path + \"heart_2022_with_nans.csv\") # Read CSV\n",
    "df.collect().write_parquet(data_path + \"heart_2022_with_nans.parquet\") # Write as Parquet\n",
    "df = pl.scan_parquet(data_path + \"heart_2022_with_nans.parquet\") # Lazy Read Parquet\n",
    "\n",
    "df_dict['df_original'] = df #Add dataframe with no modifications to the set.\n",
    "df.fetch(5) # Lazy print head"
   ]
  },
  {
   "cell_type": "markdown",
   "metadata": {},
   "source": [
    "## 3. Add the Target Variable\n",
    "\n",
    "Set `HadHeartDisease` to `\"Yes\"` if a least one of the following adverse cardiovascular events is `\"Yes\"`: `HadHeartAttack`, `HadStroke`, `HadAngina`."
   ]
  },
  {
   "cell_type": "code",
   "execution_count": 19,
   "metadata": {},
   "outputs": [
    {
     "data": {
      "text/html": [
       "<div><style>\n",
       ".dataframe > thead > tr,\n",
       ".dataframe > tbody > tr {\n",
       "  text-align: right;\n",
       "  white-space: pre-wrap;\n",
       "}\n",
       "</style>\n",
       "<small>shape: (5, 41)</small><table border=\"1\" class=\"dataframe\"><thead><tr><th>State</th><th>Sex</th><th>GeneralHealth</th><th>PhysicalHealthDays</th><th>MentalHealthDays</th><th>LastCheckupTime</th><th>PhysicalActivities</th><th>SleepHours</th><th>RemovedTeeth</th><th>HadHeartAttack</th><th>HadAngina</th><th>HadStroke</th><th>HadAsthma</th><th>HadSkinCancer</th><th>HadCOPD</th><th>HadDepressiveDisorder</th><th>HadKidneyDisease</th><th>HadArthritis</th><th>HadDiabetes</th><th>DeafOrHardOfHearing</th><th>BlindOrVisionDifficulty</th><th>DifficultyConcentrating</th><th>DifficultyWalking</th><th>DifficultyDressingBathing</th><th>DifficultyErrands</th><th>SmokerStatus</th><th>ECigaretteUsage</th><th>ChestScan</th><th>RaceEthnicityCategory</th><th>AgeCategory</th><th>HeightInMeters</th><th>WeightInKilograms</th><th>BMI</th><th>AlcoholDrinkers</th><th>HIVTesting</th><th>FluVaxLast12</th><th>PneumoVaxEver</th><th>TetanusLast10Tdap</th><th>HighRiskLastYear</th><th>CovidPos</th><th>HadHeartDisease</th></tr><tr><td>str</td><td>str</td><td>str</td><td>f64</td><td>f64</td><td>str</td><td>str</td><td>f64</td><td>str</td><td>str</td><td>str</td><td>str</td><td>str</td><td>str</td><td>str</td><td>str</td><td>str</td><td>str</td><td>str</td><td>str</td><td>str</td><td>str</td><td>str</td><td>str</td><td>str</td><td>str</td><td>str</td><td>str</td><td>str</td><td>str</td><td>f64</td><td>f64</td><td>f64</td><td>str</td><td>str</td><td>str</td><td>str</td><td>str</td><td>str</td><td>str</td><td>str</td></tr></thead><tbody><tr><td>&quot;Alabama&quot;</td><td>&quot;Female&quot;</td><td>&quot;Very good&quot;</td><td>0.0</td><td>0.0</td><td>&quot;Within past ye…</td><td>&quot;No&quot;</td><td>8.0</td><td>null</td><td>&quot;No&quot;</td><td>&quot;No&quot;</td><td>&quot;No&quot;</td><td>&quot;No&quot;</td><td>&quot;No&quot;</td><td>&quot;No&quot;</td><td>&quot;No&quot;</td><td>&quot;No&quot;</td><td>&quot;No&quot;</td><td>&quot;Yes&quot;</td><td>&quot;No&quot;</td><td>&quot;No&quot;</td><td>&quot;No&quot;</td><td>&quot;No&quot;</td><td>&quot;No&quot;</td><td>&quot;No&quot;</td><td>&quot;Never smoked&quot;</td><td>&quot;Not at all (ri…</td><td>&quot;No&quot;</td><td>&quot;White only, No…</td><td>&quot;Age 80 or olde…</td><td>null</td><td>null</td><td>null</td><td>&quot;No&quot;</td><td>&quot;No&quot;</td><td>&quot;Yes&quot;</td><td>&quot;No&quot;</td><td>&quot;Yes, received …</td><td>&quot;No&quot;</td><td>&quot;No&quot;</td><td>&quot;No&quot;</td></tr><tr><td>&quot;Alabama&quot;</td><td>&quot;Female&quot;</td><td>&quot;Excellent&quot;</td><td>0.0</td><td>0.0</td><td>null</td><td>&quot;No&quot;</td><td>6.0</td><td>null</td><td>&quot;No&quot;</td><td>&quot;No&quot;</td><td>&quot;No&quot;</td><td>&quot;No&quot;</td><td>&quot;Yes&quot;</td><td>&quot;No&quot;</td><td>&quot;No&quot;</td><td>&quot;No&quot;</td><td>&quot;No&quot;</td><td>&quot;No&quot;</td><td>&quot;No&quot;</td><td>&quot;No&quot;</td><td>&quot;No&quot;</td><td>&quot;No&quot;</td><td>&quot;No&quot;</td><td>&quot;No&quot;</td><td>&quot;Never smoked&quot;</td><td>&quot;Never used e-c…</td><td>&quot;No&quot;</td><td>&quot;White only, No…</td><td>&quot;Age 80 or olde…</td><td>1.6</td><td>68.04</td><td>26.57</td><td>&quot;No&quot;</td><td>&quot;No&quot;</td><td>&quot;No&quot;</td><td>&quot;No&quot;</td><td>&quot;No, did not re…</td><td>&quot;No&quot;</td><td>&quot;No&quot;</td><td>&quot;No&quot;</td></tr><tr><td>&quot;Alabama&quot;</td><td>&quot;Female&quot;</td><td>&quot;Very good&quot;</td><td>2.0</td><td>3.0</td><td>&quot;Within past ye…</td><td>&quot;Yes&quot;</td><td>5.0</td><td>null</td><td>&quot;No&quot;</td><td>&quot;No&quot;</td><td>&quot;No&quot;</td><td>&quot;No&quot;</td><td>&quot;Yes&quot;</td><td>&quot;No&quot;</td><td>&quot;No&quot;</td><td>&quot;No&quot;</td><td>&quot;No&quot;</td><td>&quot;No&quot;</td><td>&quot;No&quot;</td><td>&quot;No&quot;</td><td>&quot;No&quot;</td><td>&quot;No&quot;</td><td>&quot;No&quot;</td><td>&quot;No&quot;</td><td>&quot;Never smoked&quot;</td><td>&quot;Never used e-c…</td><td>&quot;No&quot;</td><td>&quot;White only, No…</td><td>&quot;Age 55 to 59&quot;</td><td>1.57</td><td>63.5</td><td>25.61</td><td>&quot;No&quot;</td><td>&quot;No&quot;</td><td>&quot;No&quot;</td><td>&quot;No&quot;</td><td>null</td><td>&quot;No&quot;</td><td>&quot;Yes&quot;</td><td>&quot;No&quot;</td></tr><tr><td>&quot;Alabama&quot;</td><td>&quot;Female&quot;</td><td>&quot;Excellent&quot;</td><td>0.0</td><td>0.0</td><td>&quot;Within past ye…</td><td>&quot;Yes&quot;</td><td>7.0</td><td>null</td><td>&quot;No&quot;</td><td>&quot;No&quot;</td><td>&quot;No&quot;</td><td>&quot;Yes&quot;</td><td>&quot;No&quot;</td><td>&quot;No&quot;</td><td>&quot;No&quot;</td><td>&quot;No&quot;</td><td>&quot;Yes&quot;</td><td>&quot;No&quot;</td><td>&quot;No&quot;</td><td>&quot;No&quot;</td><td>&quot;No&quot;</td><td>&quot;No&quot;</td><td>&quot;No&quot;</td><td>&quot;No&quot;</td><td>&quot;Current smoker…</td><td>&quot;Never used e-c…</td><td>&quot;Yes&quot;</td><td>&quot;White only, No…</td><td>null</td><td>1.65</td><td>63.5</td><td>23.3</td><td>&quot;No&quot;</td><td>&quot;No&quot;</td><td>&quot;Yes&quot;</td><td>&quot;Yes&quot;</td><td>&quot;No, did not re…</td><td>&quot;No&quot;</td><td>&quot;No&quot;</td><td>&quot;No&quot;</td></tr><tr><td>&quot;Alabama&quot;</td><td>&quot;Female&quot;</td><td>&quot;Fair&quot;</td><td>2.0</td><td>0.0</td><td>&quot;Within past ye…</td><td>&quot;Yes&quot;</td><td>9.0</td><td>null</td><td>&quot;No&quot;</td><td>&quot;No&quot;</td><td>&quot;No&quot;</td><td>&quot;No&quot;</td><td>&quot;No&quot;</td><td>&quot;No&quot;</td><td>&quot;No&quot;</td><td>&quot;No&quot;</td><td>&quot;No&quot;</td><td>&quot;No&quot;</td><td>&quot;No&quot;</td><td>&quot;No&quot;</td><td>&quot;No&quot;</td><td>&quot;No&quot;</td><td>&quot;No&quot;</td><td>&quot;No&quot;</td><td>&quot;Never smoked&quot;</td><td>&quot;Never used e-c…</td><td>&quot;Yes&quot;</td><td>&quot;White only, No…</td><td>&quot;Age 40 to 44&quot;</td><td>1.57</td><td>53.98</td><td>21.77</td><td>&quot;Yes&quot;</td><td>&quot;No&quot;</td><td>&quot;No&quot;</td><td>&quot;Yes&quot;</td><td>&quot;No, did not re…</td><td>&quot;No&quot;</td><td>&quot;No&quot;</td><td>&quot;No&quot;</td></tr></tbody></table></div>"
      ],
      "text/plain": [
       "shape: (5, 41)\n",
       "┌─────────┬────────┬────────────┬────────────┬───┬────────────┬────────────┬──────────┬────────────┐\n",
       "│ State   ┆ Sex    ┆ GeneralHea ┆ PhysicalHe ┆ … ┆ TetanusLas ┆ HighRiskLa ┆ CovidPos ┆ HadHeartDi │\n",
       "│ ---     ┆ ---    ┆ lth        ┆ althDays   ┆   ┆ t10Tdap    ┆ stYear     ┆ ---      ┆ sease      │\n",
       "│ str     ┆ str    ┆ ---        ┆ ---        ┆   ┆ ---        ┆ ---        ┆ str      ┆ ---        │\n",
       "│         ┆        ┆ str        ┆ f64        ┆   ┆ str        ┆ str        ┆          ┆ str        │\n",
       "╞═════════╪════════╪════════════╪════════════╪═══╪════════════╪════════════╪══════════╪════════════╡\n",
       "│ Alabama ┆ Female ┆ Very good  ┆ 0.0        ┆ … ┆ Yes,       ┆ No         ┆ No       ┆ No         │\n",
       "│         ┆        ┆            ┆            ┆   ┆ received   ┆            ┆          ┆            │\n",
       "│         ┆        ┆            ┆            ┆   ┆ tetanus    ┆            ┆          ┆            │\n",
       "│         ┆        ┆            ┆            ┆   ┆ shot but   ┆            ┆          ┆            │\n",
       "│         ┆        ┆            ┆            ┆   ┆ n…         ┆            ┆          ┆            │\n",
       "│ Alabama ┆ Female ┆ Excellent  ┆ 0.0        ┆ … ┆ No, did    ┆ No         ┆ No       ┆ No         │\n",
       "│         ┆        ┆            ┆            ┆   ┆ not        ┆            ┆          ┆            │\n",
       "│         ┆        ┆            ┆            ┆   ┆ receive    ┆            ┆          ┆            │\n",
       "│         ┆        ┆            ┆            ┆   ┆ any        ┆            ┆          ┆            │\n",
       "│         ┆        ┆            ┆            ┆   ┆ tetanus …  ┆            ┆          ┆            │\n",
       "│ Alabama ┆ Female ┆ Very good  ┆ 2.0        ┆ … ┆ null       ┆ No         ┆ Yes      ┆ No         │\n",
       "│ Alabama ┆ Female ┆ Excellent  ┆ 0.0        ┆ … ┆ No, did    ┆ No         ┆ No       ┆ No         │\n",
       "│         ┆        ┆            ┆            ┆   ┆ not        ┆            ┆          ┆            │\n",
       "│         ┆        ┆            ┆            ┆   ┆ receive    ┆            ┆          ┆            │\n",
       "│         ┆        ┆            ┆            ┆   ┆ any        ┆            ┆          ┆            │\n",
       "│         ┆        ┆            ┆            ┆   ┆ tetanus …  ┆            ┆          ┆            │\n",
       "│ Alabama ┆ Female ┆ Fair       ┆ 2.0        ┆ … ┆ No, did    ┆ No         ┆ No       ┆ No         │\n",
       "│         ┆        ┆            ┆            ┆   ┆ not        ┆            ┆          ┆            │\n",
       "│         ┆        ┆            ┆            ┆   ┆ receive    ┆            ┆          ┆            │\n",
       "│         ┆        ┆            ┆            ┆   ┆ any        ┆            ┆          ┆            │\n",
       "│         ┆        ┆            ┆            ┆   ┆ tetanus …  ┆            ┆          ┆            │\n",
       "└─────────┴────────┴────────────┴────────────┴───┴────────────┴────────────┴──────────┴────────────┘"
      ]
     },
     "execution_count": 19,
     "metadata": {},
     "output_type": "execute_result"
    }
   ],
   "source": [
    "\n",
    "df = df.with_columns(\n",
    "    pl.when(\n",
    "        (pl.col(\"HadHeartAttack\") == \"Yes\") |\n",
    "        (pl.col(\"HadStroke\") == \"Yes\") |\n",
    "        (pl.col(\"HadAngina\") == \"Yes\")\n",
    "    )\n",
    "    .then(pl.lit(\"Yes\"))\n",
    "    .otherwise(\n",
    "        pl.when(\n",
    "            pl.col(\"HadHeartAttack\").is_null() |\n",
    "            pl.col(\"HadStroke\").is_null() |\n",
    "            pl.col(\"HadAngina\").is_null()\n",
    "        )\n",
    "        .then(None)\n",
    "        .otherwise(pl.lit(\"No\"))\n",
    "    )\n",
    "    .alias(\"HadHeartDisease\")\n",
    ")\n",
    "\n",
    "df.fetch(5)"
   ]
  },
  {
   "cell_type": "markdown",
   "metadata": {},
   "source": [
    "## 4. Drop Unused Variables and Drop Observations With Too Many Missing Values\n",
    "\n",
    "1. Create `df_heart_drop` where observations are dropped if `HadHeartAttack`, `HadStroke`, or `HadAngina` are missing.\n",
    "\n",
    "2. Drop `HadHeartAttack`, `HadAngina`, and `HadStroke` because `HadHeartDisease`, replaced them. \n",
    "\n",
    "3. Drop `BMI` because `HeightInMeters` and `WeightInKilograms`, were chosen instead.\n",
    "\n",
    "4. From `df_heart_drop`, make multiple dataframes that drop survey participants based\n",
    "on the number of missing responses.\n",
    "\n",
    "5. Collect the dataframes and return the length of each entry.\n",
    "\n",
    "6. Delete variables: `HadHeartAttack`, `HadAngina`, `HadStroke` and `BMI`\n"
   ]
  },
  {
   "cell_type": "code",
   "execution_count": 20,
   "metadata": {},
   "outputs": [],
   "source": [
    "# Drop observations where HadHeartDisease is missing\n",
    "df_heart_drop_null = df.drop_nulls(\n",
    "    subset=[\"HadHeartDisease\"]\n",
    ")\n",
    "df_dict[\"df_heart_drop_null\"] = df_heart_drop_null\n",
    "\n",
    "\n",
    "# Drop HadHeartAttack, HadStroke, HadAngina, BMI\n",
    "df_heart_drop = df_heart_drop_null.drop(\n",
    "    ['HadHeartAttack', 'HadAngina', 'HadStroke', 'BMI']\n",
    ")"
   ]
  },
  {
   "cell_type": "code",
   "execution_count": 21,
   "metadata": {},
   "outputs": [],
   "source": [
    "df_dict.update({\"df\" : df, \"df_heart_drop\" : df_heart_drop}) # Dictionary of lazy dataframes\n",
    "thresholds = [0, 1, 3, 5, 10, 20, 40] # List of thresholds\n",
    "\n",
    "# If number of missing is > threshold, drop the observation.\n",
    "for threshold in thresholds:\n",
    "    df_name = f\"df_heart_drop_{threshold:02}\"\n",
    "    # Filter observations if # of null values is greater than threshold.\n",
    "    df_filter = df_heart_drop.filter(\n",
    "        pl.sum_horizontal(pl.all().is_null()) <= threshold\n",
    "    )\n",
    "    df_dict[df_name] = df_filter # Add lazy frame to dictionary\n"
   ]
  },
  {
   "cell_type": "markdown",
   "metadata": {},
   "source": [
    "### Impute Missing Values\n",
    "\n",
    "1. Show column types\n",
    "\n",
    "2. Impute float and integer values by median.\n",
    "\n",
    "3. Impute string values by mode.\n",
    "\n",
    "Note: This is applied to df_heart_drop, other dataframes can be imputed.\n"
   ]
  },
  {
   "cell_type": "code",
   "execution_count": 22,
   "metadata": {},
   "outputs": [],
   "source": [
    "### Imputation\n",
    "def impute_df(df):\n",
    "    df = df.collect() # Collect because iteration is needed.\n",
    "    for i in range(len(df.columns)):\n",
    "        col_name = df.columns[i]\n",
    "        dtype = df.dtypes[i]\n",
    "        ## Impute string using the mode\n",
    "        if dtype == pl.Utf8:\n",
    "            mode_value = df[col_name].mode()\n",
    "            df = df.with_columns(df[col_name].fill_null(mode_value))\n",
    "        ## Impute float using the median\n",
    "        elif dtype == pl.Float64 or dtype == pl.Int64:\n",
    "            median_value = df[col_name].median()\n",
    "            df = df.with_columns(df[col_name].fill_null(median_value))\n",
    "        ## Warning catch: if type is not a string or float.\n",
    "        else:\n",
    "            print(\"Unexpected type:\", dtype)\n",
    "    df = pl.LazyFrame(df)\n",
    "    return df\n",
    "\n",
    "### Show the number of missing values for each column\n",
    "# impute_df(df_heart_drop).null_count()\n",
    "for key, value in df_dict.items():\n",
    "    df_name = f\"{key}_imp\"\n",
    "    df_dict_imp[df_name] = impute_df(value)\n"
   ]
  },
  {
   "cell_type": "markdown",
   "metadata": {},
   "source": [
    "### Data Dictionary\n",
    "\n",
    "All lazy dataframes are saved to the data dictionary, all have 37 columns except original.\n",
    "\n",
    "[Dictionary Key](#1-notebook-summary)"
   ]
  },
  {
   "cell_type": "code",
   "execution_count": 23,
   "metadata": {},
   "outputs": [
    {
     "name": "stdout",
     "output_type": "stream",
     "text": [
      "df_original\n",
      "df_heart_drop_null\n",
      "df\n",
      "df_heart_drop\n",
      "df_heart_drop_00\n",
      "df_heart_drop_01\n",
      "df_heart_drop_03\n",
      "df_heart_drop_05\n",
      "df_heart_drop_10\n",
      "df_heart_drop_20\n",
      "df_heart_drop_40\n",
      "df_original_imp\n",
      "df_heart_drop_null_imp\n",
      "df_imp\n",
      "df_heart_drop_imp\n",
      "df_heart_drop_00_imp\n",
      "df_heart_drop_01_imp\n",
      "df_heart_drop_03_imp\n",
      "df_heart_drop_05_imp\n",
      "df_heart_drop_10_imp\n",
      "df_heart_drop_20_imp\n",
      "df_heart_drop_40_imp\n"
     ]
    }
   ],
   "source": [
    "df_dict_all.update(df_dict)\n",
    "\n",
    "df_dict_all.update(df_dict_imp)\n",
    "\n",
    "for key in df_dict_all.keys():\n",
    "    print(key)\n"
   ]
  },
  {
   "cell_type": "markdown",
   "metadata": {},
   "source": [
    "## Export all Dataframes as Parquet and Lazy Read all Parquet Files\n",
    "\n",
    "Save to Google Drive. Create a shortcut of your decisiontreebruining\n",
    "from the shared drive your personal drive then download Google Drive \n",
    "Desktop and create a sys link using `ln -s <source path> <linked folder path>`."
   ]
  },
  {
   "cell_type": "code",
   "execution_count": 24,
   "metadata": {},
   "outputs": [],
   "source": [
    "lazydict_to_parquet(df_dict_all, drive_path)"
   ]
  }
 ],
 "metadata": {
  "kernelspec": {
   "display_name": "Python 3 (ipykernel)",
   "language": "python",
   "name": "python3"
  },
  "language_info": {
   "codemirror_mode": {
    "name": "ipython",
    "version": 3
   },
   "file_extension": ".py",
   "mimetype": "text/x-python",
   "name": "python",
   "nbconvert_exporter": "python",
   "pygments_lexer": "ipython3",
   "version": "3.10.12"
  }
 },
 "nbformat": 4,
 "nbformat_minor": 4
}
