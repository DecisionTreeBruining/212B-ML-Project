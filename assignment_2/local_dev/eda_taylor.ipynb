{
 "cells": [
  {
   "cell_type": "markdown",
   "metadata": {},
   "source": [
    "## Assignement 2: Exploritory Data Analysis\n",
    "\n",
    "William \"Taylor\" Martinez"
   ]
  },
  {
   "cell_type": "markdown",
   "metadata": {},
   "source": [
    "#### Notes and Setup\n",
    "\n",
    "[`dplyr` to `polars`](https://docs.pola.rs/user-guide/migration/pandas/#column-assignment):\n",
    "| Operation                | Syntax                                   |\n",
    "|--------------------------|------------------------------------------|\n",
    "| read (lazy)              | `df.scan_csv()` or `df.scan_parquet()`  |\n",
    "| collect                  | `df.collect()`                           |\n",
    "| select                   | `df.select(\"col_name1\", \"col_name2\")`   |\n",
    "| filter                   | `df.filter(pl.col(\"col_name\") < 10)`    |\n",
    "| mutate                   | `df.with_columns(new_col_name = pl.col(\"col_name\") * 10)` |\n",
    "| mutate (conditional)   | ```df.with_columns( pl.when(pl.col(\"c\") == 2) .then(pl.col(\"b\")) .otherwise(pl.col(\"a\")).alias(\"a\") )``` |\n",
    "| missing                  | `null`                                   |\n",
    "| all columns               | `pl.all()`                                  |\n",
    "\n",
    "`csv` vs `parquet`:\n",
    "    Parquet was chosen over `csv` because it takes up less space, it is columnar formatted, and is has improved query performance. [medium](https://medium.com/@dinesh1.chopra/unveiling-the-battle-apache-parquet-vs-csv-exploring-the-pros-and-cons-of-data-formats-b6bfd8e43107)\n",
    "\n",
    "\n",
    "\n",
    "\n",
    "\n",
    "\n"
   ]
  },
  {
   "cell_type": "code",
   "execution_count": 1,
   "metadata": {},
   "outputs": [
    {
     "ename": "ValueError",
     "evalue": "Timeout value connect was <object object at 0x100f607d0>, but it must be an int, float or None.",
     "output_type": "error",
     "traceback": [
      "\u001b[0;31m---------------------------------------------------------------------------\u001b[0m",
      "\u001b[0;31mValueError\u001b[0m                                Traceback (most recent call last)",
      "Cell \u001b[0;32mIn[1], line 8\u001b[0m\n\u001b[1;32m      4\u001b[0m \u001b[38;5;28;01mimport\u001b[39;00m \u001b[38;5;21;01msidetable\u001b[39;00m \u001b[38;5;66;03m# Table Generation\u001b[39;00m\n\u001b[1;32m      6\u001b[0m \u001b[38;5;28;01mfrom\u001b[39;00m \u001b[38;5;21;01mselenium\u001b[39;00m \u001b[38;5;28;01mimport\u001b[39;00m webdriver\n\u001b[0;32m----> 8\u001b[0m driver \u001b[38;5;241m=\u001b[39m \u001b[43mwebdriver\u001b[49m\u001b[38;5;241;43m.\u001b[39;49m\u001b[43mChrome\u001b[49m\u001b[43m(\u001b[49m\u001b[43m)\u001b[49m\n\u001b[1;32m     10\u001b[0m data_path \u001b[38;5;241m=\u001b[39m \u001b[38;5;124m\"\u001b[39m\u001b[38;5;124m../../Data/\u001b[39m\u001b[38;5;124m\"\u001b[39m \u001b[38;5;66;03m# Relative Path to Data Folder.\u001b[39;00m\n\u001b[1;32m     11\u001b[0m figures_path \u001b[38;5;241m=\u001b[39m \u001b[38;5;124m\"\u001b[39m\u001b[38;5;124m./figures_taylor/\u001b[39m\u001b[38;5;124m\"\u001b[39m \u001b[38;5;66;03m# Relative Path to Figures.\u001b[39;00m\n",
      "File \u001b[0;32m/opt/anaconda3/envs/203C/lib/python3.11/site-packages/selenium/webdriver/chrome/webdriver.py:76\u001b[0m, in \u001b[0;36mWebDriver.__init__\u001b[0;34m(self, executable_path, port, options, service_args, desired_capabilities, service_log_path, chrome_options, keep_alive)\u001b[0m\n\u001b[1;32m     73\u001b[0m \u001b[38;5;28mself\u001b[39m\u001b[38;5;241m.\u001b[39mservice\u001b[38;5;241m.\u001b[39mstart()\n\u001b[1;32m     75\u001b[0m \u001b[38;5;28;01mtry\u001b[39;00m:\n\u001b[0;32m---> 76\u001b[0m     \u001b[43mRemoteWebDriver\u001b[49m\u001b[38;5;241;43m.\u001b[39;49m\u001b[38;5;21;43m__init__\u001b[39;49m\u001b[43m(\u001b[49m\n\u001b[1;32m     77\u001b[0m \u001b[43m        \u001b[49m\u001b[38;5;28;43mself\u001b[39;49m\u001b[43m,\u001b[49m\n\u001b[1;32m     78\u001b[0m \u001b[43m        \u001b[49m\u001b[43mcommand_executor\u001b[49m\u001b[38;5;241;43m=\u001b[39;49m\u001b[43mChromeRemoteConnection\u001b[49m\u001b[43m(\u001b[49m\n\u001b[1;32m     79\u001b[0m \u001b[43m            \u001b[49m\u001b[43mremote_server_addr\u001b[49m\u001b[38;5;241;43m=\u001b[39;49m\u001b[38;5;28;43mself\u001b[39;49m\u001b[38;5;241;43m.\u001b[39;49m\u001b[43mservice\u001b[49m\u001b[38;5;241;43m.\u001b[39;49m\u001b[43mservice_url\u001b[49m\u001b[43m,\u001b[49m\n\u001b[1;32m     80\u001b[0m \u001b[43m            \u001b[49m\u001b[43mkeep_alive\u001b[49m\u001b[38;5;241;43m=\u001b[39;49m\u001b[43mkeep_alive\u001b[49m\u001b[43m)\u001b[49m\u001b[43m,\u001b[49m\n\u001b[1;32m     81\u001b[0m \u001b[43m        \u001b[49m\u001b[43mdesired_capabilities\u001b[49m\u001b[38;5;241;43m=\u001b[39;49m\u001b[43mdesired_capabilities\u001b[49m\u001b[43m)\u001b[49m\n\u001b[1;32m     82\u001b[0m \u001b[38;5;28;01mexcept\u001b[39;00m \u001b[38;5;167;01mException\u001b[39;00m:\n\u001b[1;32m     83\u001b[0m     \u001b[38;5;28mself\u001b[39m\u001b[38;5;241m.\u001b[39mquit()\n",
      "File \u001b[0;32m/opt/anaconda3/envs/203C/lib/python3.11/site-packages/selenium/webdriver/remote/webdriver.py:157\u001b[0m, in \u001b[0;36mWebDriver.__init__\u001b[0;34m(self, command_executor, desired_capabilities, browser_profile, proxy, keep_alive, file_detector, options)\u001b[0m\n\u001b[1;32m    154\u001b[0m \u001b[38;5;28;01mif\u001b[39;00m browser_profile \u001b[38;5;129;01mis\u001b[39;00m \u001b[38;5;129;01mnot\u001b[39;00m \u001b[38;5;28;01mNone\u001b[39;00m:\n\u001b[1;32m    155\u001b[0m     warnings\u001b[38;5;241m.\u001b[39mwarn(\u001b[38;5;124m\"\u001b[39m\u001b[38;5;124mPlease use FirefoxOptions to set browser profile\u001b[39m\u001b[38;5;124m\"\u001b[39m,\n\u001b[1;32m    156\u001b[0m                   \u001b[38;5;167;01mDeprecationWarning\u001b[39;00m, stacklevel\u001b[38;5;241m=\u001b[39m\u001b[38;5;241m2\u001b[39m)\n\u001b[0;32m--> 157\u001b[0m \u001b[38;5;28;43mself\u001b[39;49m\u001b[38;5;241;43m.\u001b[39;49m\u001b[43mstart_session\u001b[49m\u001b[43m(\u001b[49m\u001b[43mcapabilities\u001b[49m\u001b[43m,\u001b[49m\u001b[43m \u001b[49m\u001b[43mbrowser_profile\u001b[49m\u001b[43m)\u001b[49m\n\u001b[1;32m    158\u001b[0m \u001b[38;5;28mself\u001b[39m\u001b[38;5;241m.\u001b[39m_switch_to \u001b[38;5;241m=\u001b[39m SwitchTo(\u001b[38;5;28mself\u001b[39m)\n\u001b[1;32m    159\u001b[0m \u001b[38;5;28mself\u001b[39m\u001b[38;5;241m.\u001b[39m_mobile \u001b[38;5;241m=\u001b[39m Mobile(\u001b[38;5;28mself\u001b[39m)\n",
      "File \u001b[0;32m/opt/anaconda3/envs/203C/lib/python3.11/site-packages/selenium/webdriver/remote/webdriver.py:252\u001b[0m, in \u001b[0;36mWebDriver.start_session\u001b[0;34m(self, capabilities, browser_profile)\u001b[0m\n\u001b[1;32m    249\u001b[0m w3c_caps \u001b[38;5;241m=\u001b[39m _make_w3c_caps(capabilities)\n\u001b[1;32m    250\u001b[0m parameters \u001b[38;5;241m=\u001b[39m {\u001b[38;5;124m\"\u001b[39m\u001b[38;5;124mcapabilities\u001b[39m\u001b[38;5;124m\"\u001b[39m: w3c_caps,\n\u001b[1;32m    251\u001b[0m               \u001b[38;5;124m\"\u001b[39m\u001b[38;5;124mdesiredCapabilities\u001b[39m\u001b[38;5;124m\"\u001b[39m: capabilities}\n\u001b[0;32m--> 252\u001b[0m response \u001b[38;5;241m=\u001b[39m \u001b[38;5;28;43mself\u001b[39;49m\u001b[38;5;241;43m.\u001b[39;49m\u001b[43mexecute\u001b[49m\u001b[43m(\u001b[49m\u001b[43mCommand\u001b[49m\u001b[38;5;241;43m.\u001b[39;49m\u001b[43mNEW_SESSION\u001b[49m\u001b[43m,\u001b[49m\u001b[43m \u001b[49m\u001b[43mparameters\u001b[49m\u001b[43m)\u001b[49m\n\u001b[1;32m    253\u001b[0m \u001b[38;5;28;01mif\u001b[39;00m \u001b[38;5;124m'\u001b[39m\u001b[38;5;124msessionId\u001b[39m\u001b[38;5;124m'\u001b[39m \u001b[38;5;129;01mnot\u001b[39;00m \u001b[38;5;129;01min\u001b[39;00m response:\n\u001b[1;32m    254\u001b[0m     response \u001b[38;5;241m=\u001b[39m response[\u001b[38;5;124m'\u001b[39m\u001b[38;5;124mvalue\u001b[39m\u001b[38;5;124m'\u001b[39m]\n",
      "File \u001b[0;32m/opt/anaconda3/envs/203C/lib/python3.11/site-packages/selenium/webdriver/remote/webdriver.py:319\u001b[0m, in \u001b[0;36mWebDriver.execute\u001b[0;34m(self, driver_command, params)\u001b[0m\n\u001b[1;32m    316\u001b[0m         params[\u001b[38;5;124m'\u001b[39m\u001b[38;5;124msessionId\u001b[39m\u001b[38;5;124m'\u001b[39m] \u001b[38;5;241m=\u001b[39m \u001b[38;5;28mself\u001b[39m\u001b[38;5;241m.\u001b[39msession_id\n\u001b[1;32m    318\u001b[0m params \u001b[38;5;241m=\u001b[39m \u001b[38;5;28mself\u001b[39m\u001b[38;5;241m.\u001b[39m_wrap_value(params)\n\u001b[0;32m--> 319\u001b[0m response \u001b[38;5;241m=\u001b[39m \u001b[38;5;28;43mself\u001b[39;49m\u001b[38;5;241;43m.\u001b[39;49m\u001b[43mcommand_executor\u001b[49m\u001b[38;5;241;43m.\u001b[39;49m\u001b[43mexecute\u001b[49m\u001b[43m(\u001b[49m\u001b[43mdriver_command\u001b[49m\u001b[43m,\u001b[49m\u001b[43m \u001b[49m\u001b[43mparams\u001b[49m\u001b[43m)\u001b[49m\n\u001b[1;32m    320\u001b[0m \u001b[38;5;28;01mif\u001b[39;00m response:\n\u001b[1;32m    321\u001b[0m     \u001b[38;5;28mself\u001b[39m\u001b[38;5;241m.\u001b[39merror_handler\u001b[38;5;241m.\u001b[39mcheck_response(response)\n",
      "File \u001b[0;32m/opt/anaconda3/envs/203C/lib/python3.11/site-packages/selenium/webdriver/remote/remote_connection.py:374\u001b[0m, in \u001b[0;36mRemoteConnection.execute\u001b[0;34m(self, command, params)\u001b[0m\n\u001b[1;32m    372\u001b[0m data \u001b[38;5;241m=\u001b[39m utils\u001b[38;5;241m.\u001b[39mdump_json(params)\n\u001b[1;32m    373\u001b[0m url \u001b[38;5;241m=\u001b[39m \u001b[38;5;124m'\u001b[39m\u001b[38;5;132;01m%s\u001b[39;00m\u001b[38;5;132;01m%s\u001b[39;00m\u001b[38;5;124m'\u001b[39m \u001b[38;5;241m%\u001b[39m (\u001b[38;5;28mself\u001b[39m\u001b[38;5;241m.\u001b[39m_url, path)\n\u001b[0;32m--> 374\u001b[0m \u001b[38;5;28;01mreturn\u001b[39;00m \u001b[38;5;28;43mself\u001b[39;49m\u001b[38;5;241;43m.\u001b[39;49m\u001b[43m_request\u001b[49m\u001b[43m(\u001b[49m\u001b[43mcommand_info\u001b[49m\u001b[43m[\u001b[49m\u001b[38;5;241;43m0\u001b[39;49m\u001b[43m]\u001b[49m\u001b[43m,\u001b[49m\u001b[43m \u001b[49m\u001b[43murl\u001b[49m\u001b[43m,\u001b[49m\u001b[43m \u001b[49m\u001b[43mbody\u001b[49m\u001b[38;5;241;43m=\u001b[39;49m\u001b[43mdata\u001b[49m\u001b[43m)\u001b[49m\n",
      "File \u001b[0;32m/opt/anaconda3/envs/203C/lib/python3.11/site-packages/selenium/webdriver/remote/remote_connection.py:397\u001b[0m, in \u001b[0;36mRemoteConnection._request\u001b[0;34m(self, method, url, body)\u001b[0m\n\u001b[1;32m    394\u001b[0m     body \u001b[38;5;241m=\u001b[39m \u001b[38;5;28;01mNone\u001b[39;00m\n\u001b[1;32m    396\u001b[0m \u001b[38;5;28;01mif\u001b[39;00m \u001b[38;5;28mself\u001b[39m\u001b[38;5;241m.\u001b[39mkeep_alive:\n\u001b[0;32m--> 397\u001b[0m     resp \u001b[38;5;241m=\u001b[39m \u001b[38;5;28;43mself\u001b[39;49m\u001b[38;5;241;43m.\u001b[39;49m\u001b[43m_conn\u001b[49m\u001b[38;5;241;43m.\u001b[39;49m\u001b[43mrequest\u001b[49m\u001b[43m(\u001b[49m\u001b[43mmethod\u001b[49m\u001b[43m,\u001b[49m\u001b[43m \u001b[49m\u001b[43murl\u001b[49m\u001b[43m,\u001b[49m\u001b[43m \u001b[49m\u001b[43mbody\u001b[49m\u001b[38;5;241;43m=\u001b[39;49m\u001b[43mbody\u001b[49m\u001b[43m,\u001b[49m\u001b[43m \u001b[49m\u001b[43mheaders\u001b[49m\u001b[38;5;241;43m=\u001b[39;49m\u001b[43mheaders\u001b[49m\u001b[43m)\u001b[49m\n\u001b[1;32m    399\u001b[0m     statuscode \u001b[38;5;241m=\u001b[39m resp\u001b[38;5;241m.\u001b[39mstatus\n\u001b[1;32m    400\u001b[0m \u001b[38;5;28;01melse\u001b[39;00m:\n",
      "File \u001b[0;32m/opt/anaconda3/envs/203C/lib/python3.11/site-packages/urllib3/_request_methods.py:118\u001b[0m, in \u001b[0;36mRequestMethods.request\u001b[0;34m(self, method, url, body, fields, headers, json, **urlopen_kw)\u001b[0m\n\u001b[1;32m    110\u001b[0m     \u001b[38;5;28;01mreturn\u001b[39;00m \u001b[38;5;28mself\u001b[39m\u001b[38;5;241m.\u001b[39mrequest_encode_url(\n\u001b[1;32m    111\u001b[0m         method,\n\u001b[1;32m    112\u001b[0m         url,\n\u001b[0;32m   (...)\u001b[0m\n\u001b[1;32m    115\u001b[0m         \u001b[38;5;241m*\u001b[39m\u001b[38;5;241m*\u001b[39murlopen_kw,\n\u001b[1;32m    116\u001b[0m     )\n\u001b[1;32m    117\u001b[0m \u001b[38;5;28;01melse\u001b[39;00m:\n\u001b[0;32m--> 118\u001b[0m     \u001b[38;5;28;01mreturn\u001b[39;00m \u001b[38;5;28;43mself\u001b[39;49m\u001b[38;5;241;43m.\u001b[39;49m\u001b[43mrequest_encode_body\u001b[49m\u001b[43m(\u001b[49m\n\u001b[1;32m    119\u001b[0m \u001b[43m        \u001b[49m\u001b[43mmethod\u001b[49m\u001b[43m,\u001b[49m\u001b[43m \u001b[49m\u001b[43murl\u001b[49m\u001b[43m,\u001b[49m\u001b[43m \u001b[49m\u001b[43mfields\u001b[49m\u001b[38;5;241;43m=\u001b[39;49m\u001b[43mfields\u001b[49m\u001b[43m,\u001b[49m\u001b[43m \u001b[49m\u001b[43mheaders\u001b[49m\u001b[38;5;241;43m=\u001b[39;49m\u001b[43mheaders\u001b[49m\u001b[43m,\u001b[49m\u001b[43m \u001b[49m\u001b[38;5;241;43m*\u001b[39;49m\u001b[38;5;241;43m*\u001b[39;49m\u001b[43murlopen_kw\u001b[49m\n\u001b[1;32m    120\u001b[0m \u001b[43m    \u001b[49m\u001b[43m)\u001b[49m\n",
      "File \u001b[0;32m/opt/anaconda3/envs/203C/lib/python3.11/site-packages/urllib3/_request_methods.py:217\u001b[0m, in \u001b[0;36mRequestMethods.request_encode_body\u001b[0;34m(self, method, url, fields, headers, encode_multipart, multipart_boundary, **urlopen_kw)\u001b[0m\n\u001b[1;32m    213\u001b[0m     extra_kw[\u001b[38;5;124m\"\u001b[39m\u001b[38;5;124mheaders\u001b[39m\u001b[38;5;124m\"\u001b[39m]\u001b[38;5;241m.\u001b[39msetdefault(\u001b[38;5;124m\"\u001b[39m\u001b[38;5;124mContent-Type\u001b[39m\u001b[38;5;124m\"\u001b[39m, content_type)\n\u001b[1;32m    215\u001b[0m extra_kw\u001b[38;5;241m.\u001b[39mupdate(urlopen_kw)\n\u001b[0;32m--> 217\u001b[0m \u001b[38;5;28;01mreturn\u001b[39;00m \u001b[38;5;28;43mself\u001b[39;49m\u001b[38;5;241;43m.\u001b[39;49m\u001b[43murlopen\u001b[49m\u001b[43m(\u001b[49m\u001b[43mmethod\u001b[49m\u001b[43m,\u001b[49m\u001b[43m \u001b[49m\u001b[43murl\u001b[49m\u001b[43m,\u001b[49m\u001b[43m \u001b[49m\u001b[38;5;241;43m*\u001b[39;49m\u001b[38;5;241;43m*\u001b[39;49m\u001b[43mextra_kw\u001b[49m\u001b[43m)\u001b[49m\n",
      "File \u001b[0;32m/opt/anaconda3/envs/203C/lib/python3.11/site-packages/urllib3/poolmanager.py:433\u001b[0m, in \u001b[0;36mPoolManager.urlopen\u001b[0;34m(self, method, url, redirect, **kw)\u001b[0m\n\u001b[1;32m    423\u001b[0m \u001b[38;5;28;01mif\u001b[39;00m u\u001b[38;5;241m.\u001b[39mscheme \u001b[38;5;129;01mis\u001b[39;00m \u001b[38;5;28;01mNone\u001b[39;00m:\n\u001b[1;32m    424\u001b[0m     warnings\u001b[38;5;241m.\u001b[39mwarn(\n\u001b[1;32m    425\u001b[0m         \u001b[38;5;124m\"\u001b[39m\u001b[38;5;124mURLs without a scheme (ie \u001b[39m\u001b[38;5;124m'\u001b[39m\u001b[38;5;124mhttps://\u001b[39m\u001b[38;5;124m'\u001b[39m\u001b[38;5;124m) are deprecated and will raise an error \u001b[39m\u001b[38;5;124m\"\u001b[39m\n\u001b[1;32m    426\u001b[0m         \u001b[38;5;124m\"\u001b[39m\u001b[38;5;124min a future version of urllib3. To avoid this DeprecationWarning ensure all URLs \u001b[39m\u001b[38;5;124m\"\u001b[39m\n\u001b[0;32m   (...)\u001b[0m\n\u001b[1;32m    430\u001b[0m         stacklevel\u001b[38;5;241m=\u001b[39m\u001b[38;5;241m2\u001b[39m,\n\u001b[1;32m    431\u001b[0m     )\n\u001b[0;32m--> 433\u001b[0m conn \u001b[38;5;241m=\u001b[39m \u001b[38;5;28;43mself\u001b[39;49m\u001b[38;5;241;43m.\u001b[39;49m\u001b[43mconnection_from_host\u001b[49m\u001b[43m(\u001b[49m\u001b[43mu\u001b[49m\u001b[38;5;241;43m.\u001b[39;49m\u001b[43mhost\u001b[49m\u001b[43m,\u001b[49m\u001b[43m \u001b[49m\u001b[43mport\u001b[49m\u001b[38;5;241;43m=\u001b[39;49m\u001b[43mu\u001b[49m\u001b[38;5;241;43m.\u001b[39;49m\u001b[43mport\u001b[49m\u001b[43m,\u001b[49m\u001b[43m \u001b[49m\u001b[43mscheme\u001b[49m\u001b[38;5;241;43m=\u001b[39;49m\u001b[43mu\u001b[49m\u001b[38;5;241;43m.\u001b[39;49m\u001b[43mscheme\u001b[49m\u001b[43m)\u001b[49m\n\u001b[1;32m    435\u001b[0m kw[\u001b[38;5;124m\"\u001b[39m\u001b[38;5;124massert_same_host\u001b[39m\u001b[38;5;124m\"\u001b[39m] \u001b[38;5;241m=\u001b[39m \u001b[38;5;28;01mFalse\u001b[39;00m\n\u001b[1;32m    436\u001b[0m kw[\u001b[38;5;124m\"\u001b[39m\u001b[38;5;124mredirect\u001b[39m\u001b[38;5;124m\"\u001b[39m] \u001b[38;5;241m=\u001b[39m \u001b[38;5;28;01mFalse\u001b[39;00m\n",
      "File \u001b[0;32m/opt/anaconda3/envs/203C/lib/python3.11/site-packages/urllib3/poolmanager.py:304\u001b[0m, in \u001b[0;36mPoolManager.connection_from_host\u001b[0;34m(self, host, port, scheme, pool_kwargs)\u001b[0m\n\u001b[1;32m    301\u001b[0m request_context[\u001b[38;5;124m\"\u001b[39m\u001b[38;5;124mport\u001b[39m\u001b[38;5;124m\"\u001b[39m] \u001b[38;5;241m=\u001b[39m port\n\u001b[1;32m    302\u001b[0m request_context[\u001b[38;5;124m\"\u001b[39m\u001b[38;5;124mhost\u001b[39m\u001b[38;5;124m\"\u001b[39m] \u001b[38;5;241m=\u001b[39m host\n\u001b[0;32m--> 304\u001b[0m \u001b[38;5;28;01mreturn\u001b[39;00m \u001b[38;5;28;43mself\u001b[39;49m\u001b[38;5;241;43m.\u001b[39;49m\u001b[43mconnection_from_context\u001b[49m\u001b[43m(\u001b[49m\u001b[43mrequest_context\u001b[49m\u001b[43m)\u001b[49m\n",
      "File \u001b[0;32m/opt/anaconda3/envs/203C/lib/python3.11/site-packages/urllib3/poolmanager.py:329\u001b[0m, in \u001b[0;36mPoolManager.connection_from_context\u001b[0;34m(self, request_context)\u001b[0m\n\u001b[1;32m    326\u001b[0m     \u001b[38;5;28;01mraise\u001b[39;00m URLSchemeUnknown(scheme)\n\u001b[1;32m    327\u001b[0m pool_key \u001b[38;5;241m=\u001b[39m pool_key_constructor(request_context)\n\u001b[0;32m--> 329\u001b[0m \u001b[38;5;28;01mreturn\u001b[39;00m \u001b[38;5;28;43mself\u001b[39;49m\u001b[38;5;241;43m.\u001b[39;49m\u001b[43mconnection_from_pool_key\u001b[49m\u001b[43m(\u001b[49m\u001b[43mpool_key\u001b[49m\u001b[43m,\u001b[49m\u001b[43m \u001b[49m\u001b[43mrequest_context\u001b[49m\u001b[38;5;241;43m=\u001b[39;49m\u001b[43mrequest_context\u001b[49m\u001b[43m)\u001b[49m\n",
      "File \u001b[0;32m/opt/anaconda3/envs/203C/lib/python3.11/site-packages/urllib3/poolmanager.py:352\u001b[0m, in \u001b[0;36mPoolManager.connection_from_pool_key\u001b[0;34m(self, pool_key, request_context)\u001b[0m\n\u001b[1;32m    350\u001b[0m     host \u001b[38;5;241m=\u001b[39m request_context[\u001b[38;5;124m\"\u001b[39m\u001b[38;5;124mhost\u001b[39m\u001b[38;5;124m\"\u001b[39m]\n\u001b[1;32m    351\u001b[0m     port \u001b[38;5;241m=\u001b[39m request_context[\u001b[38;5;124m\"\u001b[39m\u001b[38;5;124mport\u001b[39m\u001b[38;5;124m\"\u001b[39m]\n\u001b[0;32m--> 352\u001b[0m     pool \u001b[38;5;241m=\u001b[39m \u001b[38;5;28;43mself\u001b[39;49m\u001b[38;5;241;43m.\u001b[39;49m\u001b[43m_new_pool\u001b[49m\u001b[43m(\u001b[49m\u001b[43mscheme\u001b[49m\u001b[43m,\u001b[49m\u001b[43m \u001b[49m\u001b[43mhost\u001b[49m\u001b[43m,\u001b[49m\u001b[43m \u001b[49m\u001b[43mport\u001b[49m\u001b[43m,\u001b[49m\u001b[43m \u001b[49m\u001b[43mrequest_context\u001b[49m\u001b[38;5;241;43m=\u001b[39;49m\u001b[43mrequest_context\u001b[49m\u001b[43m)\u001b[49m\n\u001b[1;32m    353\u001b[0m     \u001b[38;5;28mself\u001b[39m\u001b[38;5;241m.\u001b[39mpools[pool_key] \u001b[38;5;241m=\u001b[39m pool\n\u001b[1;32m    355\u001b[0m \u001b[38;5;28;01mreturn\u001b[39;00m pool\n",
      "File \u001b[0;32m/opt/anaconda3/envs/203C/lib/python3.11/site-packages/urllib3/poolmanager.py:266\u001b[0m, in \u001b[0;36mPoolManager._new_pool\u001b[0;34m(self, scheme, host, port, request_context)\u001b[0m\n\u001b[1;32m    263\u001b[0m     \u001b[38;5;28;01mfor\u001b[39;00m kw \u001b[38;5;129;01min\u001b[39;00m SSL_KEYWORDS:\n\u001b[1;32m    264\u001b[0m         request_context\u001b[38;5;241m.\u001b[39mpop(kw, \u001b[38;5;28;01mNone\u001b[39;00m)\n\u001b[0;32m--> 266\u001b[0m \u001b[38;5;28;01mreturn\u001b[39;00m \u001b[43mpool_cls\u001b[49m\u001b[43m(\u001b[49m\u001b[43mhost\u001b[49m\u001b[43m,\u001b[49m\u001b[43m \u001b[49m\u001b[43mport\u001b[49m\u001b[43m,\u001b[49m\u001b[43m \u001b[49m\u001b[38;5;241;43m*\u001b[39;49m\u001b[38;5;241;43m*\u001b[39;49m\u001b[43mrequest_context\u001b[49m\u001b[43m)\u001b[49m\n",
      "File \u001b[0;32m/opt/anaconda3/envs/203C/lib/python3.11/site-packages/urllib3/connectionpool.py:196\u001b[0m, in \u001b[0;36mHTTPConnectionPool.__init__\u001b[0;34m(self, host, port, timeout, maxsize, block, headers, retries, _proxy, _proxy_headers, _proxy_config, **conn_kw)\u001b[0m\n\u001b[1;32m    193\u001b[0m RequestMethods\u001b[38;5;241m.\u001b[39m\u001b[38;5;21m__init__\u001b[39m(\u001b[38;5;28mself\u001b[39m, headers)\n\u001b[1;32m    195\u001b[0m \u001b[38;5;28;01mif\u001b[39;00m \u001b[38;5;129;01mnot\u001b[39;00m \u001b[38;5;28misinstance\u001b[39m(timeout, Timeout):\n\u001b[0;32m--> 196\u001b[0m     timeout \u001b[38;5;241m=\u001b[39m \u001b[43mTimeout\u001b[49m\u001b[38;5;241;43m.\u001b[39;49m\u001b[43mfrom_float\u001b[49m\u001b[43m(\u001b[49m\u001b[43mtimeout\u001b[49m\u001b[43m)\u001b[49m\n\u001b[1;32m    198\u001b[0m \u001b[38;5;28;01mif\u001b[39;00m retries \u001b[38;5;129;01mis\u001b[39;00m \u001b[38;5;28;01mNone\u001b[39;00m:\n\u001b[1;32m    199\u001b[0m     retries \u001b[38;5;241m=\u001b[39m Retry\u001b[38;5;241m.\u001b[39mDEFAULT\n",
      "File \u001b[0;32m/opt/anaconda3/envs/203C/lib/python3.11/site-packages/urllib3/util/timeout.py:190\u001b[0m, in \u001b[0;36mTimeout.from_float\u001b[0;34m(cls, timeout)\u001b[0m\n\u001b[1;32m    176\u001b[0m \u001b[38;5;129m@classmethod\u001b[39m\n\u001b[1;32m    177\u001b[0m \u001b[38;5;28;01mdef\u001b[39;00m \u001b[38;5;21mfrom_float\u001b[39m(\u001b[38;5;28mcls\u001b[39m, timeout: _TYPE_TIMEOUT) \u001b[38;5;241m-\u001b[39m\u001b[38;5;241m>\u001b[39m Timeout:\n\u001b[1;32m    178\u001b[0m \u001b[38;5;250m    \u001b[39m\u001b[38;5;124;03m\"\"\"Create a new Timeout from a legacy timeout value.\u001b[39;00m\n\u001b[1;32m    179\u001b[0m \n\u001b[1;32m    180\u001b[0m \u001b[38;5;124;03m    The timeout value used by httplib.py sets the same timeout on the\u001b[39;00m\n\u001b[0;32m   (...)\u001b[0m\n\u001b[1;32m    188\u001b[0m \u001b[38;5;124;03m    :rtype: :class:`Timeout`\u001b[39;00m\n\u001b[1;32m    189\u001b[0m \u001b[38;5;124;03m    \"\"\"\u001b[39;00m\n\u001b[0;32m--> 190\u001b[0m     \u001b[38;5;28;01mreturn\u001b[39;00m \u001b[43mTimeout\u001b[49m\u001b[43m(\u001b[49m\u001b[43mread\u001b[49m\u001b[38;5;241;43m=\u001b[39;49m\u001b[43mtimeout\u001b[49m\u001b[43m,\u001b[49m\u001b[43m \u001b[49m\u001b[43mconnect\u001b[49m\u001b[38;5;241;43m=\u001b[39;49m\u001b[43mtimeout\u001b[49m\u001b[43m)\u001b[49m\n",
      "File \u001b[0;32m/opt/anaconda3/envs/203C/lib/python3.11/site-packages/urllib3/util/timeout.py:119\u001b[0m, in \u001b[0;36mTimeout.__init__\u001b[0;34m(self, total, connect, read)\u001b[0m\n\u001b[1;32m    113\u001b[0m \u001b[38;5;28;01mdef\u001b[39;00m \u001b[38;5;21m__init__\u001b[39m(\n\u001b[1;32m    114\u001b[0m     \u001b[38;5;28mself\u001b[39m,\n\u001b[1;32m    115\u001b[0m     total: _TYPE_TIMEOUT \u001b[38;5;241m=\u001b[39m \u001b[38;5;28;01mNone\u001b[39;00m,\n\u001b[1;32m    116\u001b[0m     connect: _TYPE_TIMEOUT \u001b[38;5;241m=\u001b[39m _DEFAULT_TIMEOUT,\n\u001b[1;32m    117\u001b[0m     read: _TYPE_TIMEOUT \u001b[38;5;241m=\u001b[39m _DEFAULT_TIMEOUT,\n\u001b[1;32m    118\u001b[0m ) \u001b[38;5;241m-\u001b[39m\u001b[38;5;241m>\u001b[39m \u001b[38;5;28;01mNone\u001b[39;00m:\n\u001b[0;32m--> 119\u001b[0m     \u001b[38;5;28mself\u001b[39m\u001b[38;5;241m.\u001b[39m_connect \u001b[38;5;241m=\u001b[39m \u001b[38;5;28;43mself\u001b[39;49m\u001b[38;5;241;43m.\u001b[39;49m\u001b[43m_validate_timeout\u001b[49m\u001b[43m(\u001b[49m\u001b[43mconnect\u001b[49m\u001b[43m,\u001b[49m\u001b[43m \u001b[49m\u001b[38;5;124;43m\"\u001b[39;49m\u001b[38;5;124;43mconnect\u001b[39;49m\u001b[38;5;124;43m\"\u001b[39;49m\u001b[43m)\u001b[49m\n\u001b[1;32m    120\u001b[0m     \u001b[38;5;28mself\u001b[39m\u001b[38;5;241m.\u001b[39m_read \u001b[38;5;241m=\u001b[39m \u001b[38;5;28mself\u001b[39m\u001b[38;5;241m.\u001b[39m_validate_timeout(read, \u001b[38;5;124m\"\u001b[39m\u001b[38;5;124mread\u001b[39m\u001b[38;5;124m\"\u001b[39m)\n\u001b[1;32m    121\u001b[0m     \u001b[38;5;28mself\u001b[39m\u001b[38;5;241m.\u001b[39mtotal \u001b[38;5;241m=\u001b[39m \u001b[38;5;28mself\u001b[39m\u001b[38;5;241m.\u001b[39m_validate_timeout(total, \u001b[38;5;124m\"\u001b[39m\u001b[38;5;124mtotal\u001b[39m\u001b[38;5;124m\"\u001b[39m)\n",
      "File \u001b[0;32m/opt/anaconda3/envs/203C/lib/python3.11/site-packages/urllib3/util/timeout.py:156\u001b[0m, in \u001b[0;36mTimeout._validate_timeout\u001b[0;34m(cls, value, name)\u001b[0m\n\u001b[1;32m    154\u001b[0m     \u001b[38;5;28mfloat\u001b[39m(value)\n\u001b[1;32m    155\u001b[0m \u001b[38;5;28;01mexcept\u001b[39;00m (\u001b[38;5;167;01mTypeError\u001b[39;00m, \u001b[38;5;167;01mValueError\u001b[39;00m):\n\u001b[0;32m--> 156\u001b[0m     \u001b[38;5;28;01mraise\u001b[39;00m \u001b[38;5;167;01mValueError\u001b[39;00m(\n\u001b[1;32m    157\u001b[0m         \u001b[38;5;124m\"\u001b[39m\u001b[38;5;124mTimeout value \u001b[39m\u001b[38;5;132;01m%s\u001b[39;00m\u001b[38;5;124m was \u001b[39m\u001b[38;5;132;01m%s\u001b[39;00m\u001b[38;5;124m, but it must be an \u001b[39m\u001b[38;5;124m\"\u001b[39m\n\u001b[1;32m    158\u001b[0m         \u001b[38;5;124m\"\u001b[39m\u001b[38;5;124mint, float or None.\u001b[39m\u001b[38;5;124m\"\u001b[39m \u001b[38;5;241m%\u001b[39m (name, value)\n\u001b[1;32m    159\u001b[0m     ) \u001b[38;5;28;01mfrom\u001b[39;00m \u001b[38;5;28;01mNone\u001b[39;00m\n\u001b[1;32m    161\u001b[0m \u001b[38;5;28;01mtry\u001b[39;00m:\n\u001b[1;32m    162\u001b[0m     \u001b[38;5;28;01mif\u001b[39;00m value \u001b[38;5;241m<\u001b[39m\u001b[38;5;241m=\u001b[39m \u001b[38;5;241m0\u001b[39m:\n",
      "\u001b[0;31mValueError\u001b[0m: Timeout value connect was <object object at 0x100f607d0>, but it must be an int, float or None."
     ]
    }
   ],
   "source": [
    "import polars as pl # Used for Lazy, Parallel Queries \n",
    "import pandas as pd # Compatibility\n",
    "from great_tables import GT, md, html # Table Generation\n",
    "import sidetable # Table Generation\n",
    "\n",
    "from selenium import webdriver\n",
    "\n",
    "driver = webdriver.Chrome()\n",
    "\n",
    "data_path = \"../../Data/\" # Relative Path to Data Folder.\n",
    "figures_path = \"./figures_taylor/\" # Relative Path to Figures."
   ]
  },
  {
   "cell_type": "code",
   "execution_count": null,
   "metadata": {},
   "outputs": [],
   "source": [
    "df = pl.scan_csv(data_path + \"heart_2022_with_nans.csv\")\n",
    "df.collect().write_parquet(data_path + \"heart_2022_with_nans.parquet\")\n",
    "df = pl.scan_parquet(data_path + \"heart_2022_with_nans.parquet\")"
   ]
  },
  {
   "cell_type": "markdown",
   "metadata": {},
   "source": [
    "### EDA Task 1: Create `HadHeartDisease` column\n",
    "\n",
    "1. Set `HadHeartDisease` to `True` if the survey participant reported having a least one of the following adverse cardiovascular events: heart attack (`HadHeartAttack`), stroke (`HadStroke`), or angina  (`HadAngina`)."
   ]
  },
  {
   "cell_type": "code",
   "execution_count": null,
   "metadata": {},
   "outputs": [
    {
     "data": {
      "text/html": [
       "<div><style>\n",
       ".dataframe > thead > tr,\n",
       ".dataframe > tbody > tr {\n",
       "  text-align: right;\n",
       "  white-space: pre-wrap;\n",
       "}\n",
       "</style>\n",
       "<small>shape: (5, 41)</small><table border=\"1\" class=\"dataframe\"><thead><tr><th>State</th><th>Sex</th><th>GeneralHealth</th><th>PhysicalHealthDays</th><th>MentalHealthDays</th><th>LastCheckupTime</th><th>PhysicalActivities</th><th>SleepHours</th><th>RemovedTeeth</th><th>HadHeartAttack</th><th>HadAngina</th><th>HadStroke</th><th>HadAsthma</th><th>HadSkinCancer</th><th>HadCOPD</th><th>HadDepressiveDisorder</th><th>HadKidneyDisease</th><th>HadArthritis</th><th>HadDiabetes</th><th>DeafOrHardOfHearing</th><th>BlindOrVisionDifficulty</th><th>DifficultyConcentrating</th><th>DifficultyWalking</th><th>DifficultyDressingBathing</th><th>DifficultyErrands</th><th>SmokerStatus</th><th>ECigaretteUsage</th><th>ChestScan</th><th>RaceEthnicityCategory</th><th>AgeCategory</th><th>HeightInMeters</th><th>WeightInKilograms</th><th>BMI</th><th>AlcoholDrinkers</th><th>HIVTesting</th><th>FluVaxLast12</th><th>PneumoVaxEver</th><th>TetanusLast10Tdap</th><th>HighRiskLastYear</th><th>CovidPos</th><th>HadHeartDisease</th></tr><tr><td>str</td><td>str</td><td>str</td><td>f64</td><td>f64</td><td>str</td><td>str</td><td>f64</td><td>str</td><td>str</td><td>str</td><td>str</td><td>str</td><td>str</td><td>str</td><td>str</td><td>str</td><td>str</td><td>str</td><td>str</td><td>str</td><td>str</td><td>str</td><td>str</td><td>str</td><td>str</td><td>str</td><td>str</td><td>str</td><td>str</td><td>f64</td><td>f64</td><td>f64</td><td>str</td><td>str</td><td>str</td><td>str</td><td>str</td><td>str</td><td>str</td><td>str</td></tr></thead><tbody><tr><td>&quot;Alabama&quot;</td><td>&quot;Female&quot;</td><td>&quot;Very good&quot;</td><td>0.0</td><td>0.0</td><td>&quot;Within past ye…</td><td>&quot;No&quot;</td><td>8.0</td><td>null</td><td>&quot;No&quot;</td><td>&quot;No&quot;</td><td>&quot;No&quot;</td><td>&quot;No&quot;</td><td>&quot;No&quot;</td><td>&quot;No&quot;</td><td>&quot;No&quot;</td><td>&quot;No&quot;</td><td>&quot;No&quot;</td><td>&quot;Yes&quot;</td><td>&quot;No&quot;</td><td>&quot;No&quot;</td><td>&quot;No&quot;</td><td>&quot;No&quot;</td><td>&quot;No&quot;</td><td>&quot;No&quot;</td><td>&quot;Never smoked&quot;</td><td>&quot;Not at all (ri…</td><td>&quot;No&quot;</td><td>&quot;White only, No…</td><td>&quot;Age 80 or olde…</td><td>null</td><td>null</td><td>null</td><td>&quot;No&quot;</td><td>&quot;No&quot;</td><td>&quot;Yes&quot;</td><td>&quot;No&quot;</td><td>&quot;Yes, received …</td><td>&quot;No&quot;</td><td>&quot;No&quot;</td><td>&quot;No&quot;</td></tr><tr><td>&quot;Alabama&quot;</td><td>&quot;Female&quot;</td><td>&quot;Excellent&quot;</td><td>0.0</td><td>0.0</td><td>null</td><td>&quot;No&quot;</td><td>6.0</td><td>null</td><td>&quot;No&quot;</td><td>&quot;No&quot;</td><td>&quot;No&quot;</td><td>&quot;No&quot;</td><td>&quot;Yes&quot;</td><td>&quot;No&quot;</td><td>&quot;No&quot;</td><td>&quot;No&quot;</td><td>&quot;No&quot;</td><td>&quot;No&quot;</td><td>&quot;No&quot;</td><td>&quot;No&quot;</td><td>&quot;No&quot;</td><td>&quot;No&quot;</td><td>&quot;No&quot;</td><td>&quot;No&quot;</td><td>&quot;Never smoked&quot;</td><td>&quot;Never used e-c…</td><td>&quot;No&quot;</td><td>&quot;White only, No…</td><td>&quot;Age 80 or olde…</td><td>1.6</td><td>68.04</td><td>26.57</td><td>&quot;No&quot;</td><td>&quot;No&quot;</td><td>&quot;No&quot;</td><td>&quot;No&quot;</td><td>&quot;No, did not re…</td><td>&quot;No&quot;</td><td>&quot;No&quot;</td><td>&quot;No&quot;</td></tr><tr><td>&quot;Alabama&quot;</td><td>&quot;Female&quot;</td><td>&quot;Very good&quot;</td><td>2.0</td><td>3.0</td><td>&quot;Within past ye…</td><td>&quot;Yes&quot;</td><td>5.0</td><td>null</td><td>&quot;No&quot;</td><td>&quot;No&quot;</td><td>&quot;No&quot;</td><td>&quot;No&quot;</td><td>&quot;Yes&quot;</td><td>&quot;No&quot;</td><td>&quot;No&quot;</td><td>&quot;No&quot;</td><td>&quot;No&quot;</td><td>&quot;No&quot;</td><td>&quot;No&quot;</td><td>&quot;No&quot;</td><td>&quot;No&quot;</td><td>&quot;No&quot;</td><td>&quot;No&quot;</td><td>&quot;No&quot;</td><td>&quot;Never smoked&quot;</td><td>&quot;Never used e-c…</td><td>&quot;No&quot;</td><td>&quot;White only, No…</td><td>&quot;Age 55 to 59&quot;</td><td>1.57</td><td>63.5</td><td>25.61</td><td>&quot;No&quot;</td><td>&quot;No&quot;</td><td>&quot;No&quot;</td><td>&quot;No&quot;</td><td>null</td><td>&quot;No&quot;</td><td>&quot;Yes&quot;</td><td>&quot;No&quot;</td></tr><tr><td>&quot;Alabama&quot;</td><td>&quot;Female&quot;</td><td>&quot;Excellent&quot;</td><td>0.0</td><td>0.0</td><td>&quot;Within past ye…</td><td>&quot;Yes&quot;</td><td>7.0</td><td>null</td><td>&quot;No&quot;</td><td>&quot;No&quot;</td><td>&quot;No&quot;</td><td>&quot;Yes&quot;</td><td>&quot;No&quot;</td><td>&quot;No&quot;</td><td>&quot;No&quot;</td><td>&quot;No&quot;</td><td>&quot;Yes&quot;</td><td>&quot;No&quot;</td><td>&quot;No&quot;</td><td>&quot;No&quot;</td><td>&quot;No&quot;</td><td>&quot;No&quot;</td><td>&quot;No&quot;</td><td>&quot;No&quot;</td><td>&quot;Current smoker…</td><td>&quot;Never used e-c…</td><td>&quot;Yes&quot;</td><td>&quot;White only, No…</td><td>null</td><td>1.65</td><td>63.5</td><td>23.3</td><td>&quot;No&quot;</td><td>&quot;No&quot;</td><td>&quot;Yes&quot;</td><td>&quot;Yes&quot;</td><td>&quot;No, did not re…</td><td>&quot;No&quot;</td><td>&quot;No&quot;</td><td>&quot;No&quot;</td></tr><tr><td>&quot;Alabama&quot;</td><td>&quot;Female&quot;</td><td>&quot;Fair&quot;</td><td>2.0</td><td>0.0</td><td>&quot;Within past ye…</td><td>&quot;Yes&quot;</td><td>9.0</td><td>null</td><td>&quot;No&quot;</td><td>&quot;No&quot;</td><td>&quot;No&quot;</td><td>&quot;No&quot;</td><td>&quot;No&quot;</td><td>&quot;No&quot;</td><td>&quot;No&quot;</td><td>&quot;No&quot;</td><td>&quot;No&quot;</td><td>&quot;No&quot;</td><td>&quot;No&quot;</td><td>&quot;No&quot;</td><td>&quot;No&quot;</td><td>&quot;No&quot;</td><td>&quot;No&quot;</td><td>&quot;No&quot;</td><td>&quot;Never smoked&quot;</td><td>&quot;Never used e-c…</td><td>&quot;Yes&quot;</td><td>&quot;White only, No…</td><td>&quot;Age 40 to 44&quot;</td><td>1.57</td><td>53.98</td><td>21.77</td><td>&quot;Yes&quot;</td><td>&quot;No&quot;</td><td>&quot;No&quot;</td><td>&quot;Yes&quot;</td><td>&quot;No, did not re…</td><td>&quot;No&quot;</td><td>&quot;No&quot;</td><td>&quot;No&quot;</td></tr></tbody></table></div>"
      ],
      "text/plain": [
       "shape: (5, 41)\n",
       "┌─────────┬────────┬────────────┬────────────┬───┬────────────┬────────────┬──────────┬────────────┐\n",
       "│ State   ┆ Sex    ┆ GeneralHea ┆ PhysicalHe ┆ … ┆ TetanusLas ┆ HighRiskLa ┆ CovidPos ┆ HadHeartDi │\n",
       "│ ---     ┆ ---    ┆ lth        ┆ althDays   ┆   ┆ t10Tdap    ┆ stYear     ┆ ---      ┆ sease      │\n",
       "│ str     ┆ str    ┆ ---        ┆ ---        ┆   ┆ ---        ┆ ---        ┆ str      ┆ ---        │\n",
       "│         ┆        ┆ str        ┆ f64        ┆   ┆ str        ┆ str        ┆          ┆ str        │\n",
       "╞═════════╪════════╪════════════╪════════════╪═══╪════════════╪════════════╪══════════╪════════════╡\n",
       "│ Alabama ┆ Female ┆ Very good  ┆ 0.0        ┆ … ┆ Yes,       ┆ No         ┆ No       ┆ No         │\n",
       "│         ┆        ┆            ┆            ┆   ┆ received   ┆            ┆          ┆            │\n",
       "│         ┆        ┆            ┆            ┆   ┆ tetanus    ┆            ┆          ┆            │\n",
       "│         ┆        ┆            ┆            ┆   ┆ shot but   ┆            ┆          ┆            │\n",
       "│         ┆        ┆            ┆            ┆   ┆ n…         ┆            ┆          ┆            │\n",
       "│ Alabama ┆ Female ┆ Excellent  ┆ 0.0        ┆ … ┆ No, did    ┆ No         ┆ No       ┆ No         │\n",
       "│         ┆        ┆            ┆            ┆   ┆ not        ┆            ┆          ┆            │\n",
       "│         ┆        ┆            ┆            ┆   ┆ receive    ┆            ┆          ┆            │\n",
       "│         ┆        ┆            ┆            ┆   ┆ any        ┆            ┆          ┆            │\n",
       "│         ┆        ┆            ┆            ┆   ┆ tetanus …  ┆            ┆          ┆            │\n",
       "│ Alabama ┆ Female ┆ Very good  ┆ 2.0        ┆ … ┆ null       ┆ No         ┆ Yes      ┆ No         │\n",
       "│ Alabama ┆ Female ┆ Excellent  ┆ 0.0        ┆ … ┆ No, did    ┆ No         ┆ No       ┆ No         │\n",
       "│         ┆        ┆            ┆            ┆   ┆ not        ┆            ┆          ┆            │\n",
       "│         ┆        ┆            ┆            ┆   ┆ receive    ┆            ┆          ┆            │\n",
       "│         ┆        ┆            ┆            ┆   ┆ any        ┆            ┆          ┆            │\n",
       "│         ┆        ┆            ┆            ┆   ┆ tetanus …  ┆            ┆          ┆            │\n",
       "│ Alabama ┆ Female ┆ Fair       ┆ 2.0        ┆ … ┆ No, did    ┆ No         ┆ No       ┆ No         │\n",
       "│         ┆        ┆            ┆            ┆   ┆ not        ┆            ┆          ┆            │\n",
       "│         ┆        ┆            ┆            ┆   ┆ receive    ┆            ┆          ┆            │\n",
       "│         ┆        ┆            ┆            ┆   ┆ any        ┆            ┆          ┆            │\n",
       "│         ┆        ┆            ┆            ┆   ┆ tetanus …  ┆            ┆          ┆            │\n",
       "└─────────┴────────┴────────────┴────────────┴───┴────────────┴────────────┴──────────┴────────────┘"
      ]
     },
     "execution_count": 3,
     "metadata": {},
     "output_type": "execute_result"
    }
   ],
   "source": [
    "### Create HadHeartDisease Column\n",
    "df = df.with_columns(\n",
    "    pl.when(\n",
    "        (pl.col(\"HadHeartAttack\") == \"Yes\") |\n",
    "        (pl.col(\"HadStroke\") == \"Yes\") |\n",
    "        (pl.col(\"HadAngina\") == \"Yes\")\n",
    "    )\n",
    "    .then(pl.lit(\"Yes\"))\n",
    "    .otherwise(pl.lit(\"No\"))\n",
    "    .alias(\"HadHeartDisease\")\n",
    ")\n",
    "\n",
    "df.fetch(5)"
   ]
  },
  {
   "cell_type": "markdown",
   "metadata": {},
   "source": [
    "### EDA Task 2: Drop Observations With Too Many Missing Values\n",
    "\n",
    "1. Create `df_heart_drop` where participants are dropped if Heart attack (`HadHeartAttack`), stroke (`HadStroke`), or angina  (`HadAngina`) are missing.\n",
    "\n",
    "2. From `df_heart_drop`, make multiple dataframes that drop survey participants based\n",
    "on the number of missing responses.\n",
    "\n",
    "3. Collect the dataframes and return the length of each entry.\n"
   ]
  },
  {
   "cell_type": "code",
   "execution_count": null,
   "metadata": {},
   "outputs": [
    {
     "name": "stdout",
     "output_type": "stream",
     "text": [
      "df_heart_drop_00: 246022\n",
      "df_heart_drop_01: 331181\n",
      "df_heart_drop_03: 381718\n",
      "df_heart_drop_05: 391725\n",
      "df_heart_drop_10: 410245\n",
      "df_heart_drop_20: 436507\n",
      "df_heart_drop_40: 437510\n"
     ]
    },
    {
     "data": {
      "text/plain": [
       "{'df': <LazyFrame [41 cols, {\"State\": String … \"HadHeartDisease\": String}] at 0x16459BFD0>,\n",
       " 'df_heart_drop': <LazyFrame [41 cols, {\"State\": String … \"HadHeartDisease\": String}] at 0x1645BEBD0>,\n",
       " 'df_heart_drop_00': <LazyFrame [41 cols, {\"State\": String … \"HadHeartDisease\": String}] at 0x146F4D090>,\n",
       " 'df_heart_drop_01': <LazyFrame [41 cols, {\"State\": String … \"HadHeartDisease\": String}] at 0x164598A90>,\n",
       " 'df_heart_drop_03': <LazyFrame [41 cols, {\"State\": String … \"HadHeartDisease\": String}] at 0x103C29290>,\n",
       " 'df_heart_drop_05': <LazyFrame [41 cols, {\"State\": String … \"HadHeartDisease\": String}] at 0x1645BFD10>,\n",
       " 'df_heart_drop_10': <LazyFrame [41 cols, {\"State\": String … \"HadHeartDisease\": String}] at 0x1055CBF10>,\n",
       " 'df_heart_drop_20': <LazyFrame [41 cols, {\"State\": String … \"HadHeartDisease\": String}] at 0x1645BFE90>,\n",
       " 'df_heart_drop_40': <LazyFrame [41 cols, {\"State\": String … \"HadHeartDisease\": String}] at 0x146AD16D0>}"
      ]
     },
     "execution_count": 4,
     "metadata": {},
     "output_type": "execute_result"
    }
   ],
   "source": [
    "### Drop observations where HadHeartAttack, HadStroke, and HadAngina are missing\n",
    "\n",
    "df_heart_drop = (df.drop_nulls(\n",
    "    subset=[\"HadHeartAttack\", \"HadStroke\", \"HadAngina\"]\n",
    "    ))\n",
    "\n",
    "# Create a dictionary to keep track of all lazy dataframes\n",
    "df_dict = {\"df\" : df, \"df_heart_drop\" : df_heart_drop}\n",
    "\n",
    "# If number of missing is > threshold, drop the observation.\n",
    "thresholds = [0, 1, 3, 5, 10, 20, 40]\n",
    "\n",
    "for threshold in thresholds:\n",
    "    df_name = f\"df_heart_drop_{threshold:02}\" # f-string\n",
    "    # Drop observation if # of null values is greater than threshold and \n",
    "    # Add to dictionary\n",
    "    df_dict[df_name] = df_heart_drop.filter(\n",
    "        pl.sum_horizontal(pl.all().is_null()) <= threshold\n",
    "        )\n",
    "    # Print the number of rows in each dataframe.\n",
    "    print(df_name + \": \" + str(\n",
    "        df_dict[df_name].select(pl.len()).collect().item()\n",
    "        ))\n",
    "\n",
    "df_dict"
   ]
  },
  {
   "cell_type": "markdown",
   "metadata": {},
   "source": [
    "### EDA Task 3: Impute remaining missing values\n",
    "\n",
    "1. Show column types\n",
    "\n",
    "2. Impute float and integer values by median.\n",
    "\n",
    "3. Impute string values by mode.\n",
    "\n",
    "Note: This is applied to df_heart_drop, other dataframes can be imputed.\n"
   ]
  },
  {
   "cell_type": "code",
   "execution_count": null,
   "metadata": {},
   "outputs": [
    {
     "data": {
      "text/plain": [
       "{'df_imp': <LazyFrame [41 cols, {\"State\": String … \"HadHeartDisease\": String}] at 0x1645BD510>,\n",
       " 'df_heart_drop_imp': <LazyFrame [41 cols, {\"State\": String … \"HadHeartDisease\": String}] at 0x103C2DFD0>,\n",
       " 'df_heart_drop_00_imp': <LazyFrame [41 cols, {\"State\": String … \"HadHeartDisease\": String}] at 0x164598F90>,\n",
       " 'df_heart_drop_01_imp': <LazyFrame [41 cols, {\"State\": String … \"HadHeartDisease\": String}] at 0x105534D10>,\n",
       " 'df_heart_drop_03_imp': <LazyFrame [41 cols, {\"State\": String … \"HadHeartDisease\": String}] at 0x103C59190>,\n",
       " 'df_heart_drop_05_imp': <LazyFrame [41 cols, {\"State\": String … \"HadHeartDisease\": String}] at 0x1475058D0>,\n",
       " 'df_heart_drop_10_imp': <LazyFrame [41 cols, {\"State\": String … \"HadHeartDisease\": String}] at 0x1475057D0>,\n",
       " 'df_heart_drop_20_imp': <LazyFrame [41 cols, {\"State\": String … \"HadHeartDisease\": String}] at 0x107F2E910>,\n",
       " 'df_heart_drop_40_imp': <LazyFrame [41 cols, {\"State\": String … \"HadHeartDisease\": String}] at 0x1475043D0>}"
      ]
     },
     "execution_count": 5,
     "metadata": {},
     "output_type": "execute_result"
    }
   ],
   "source": [
    "### Unique data types:\n",
    "# print(set(df_heart_drop.dtypes))\n",
    "\n",
    "### Imputation\n",
    "def impute_df(df):\n",
    "    df = df.collect() # Collect because iteration is needed.\n",
    "    for i in range(len(df.columns)):\n",
    "        col_name = df.columns[i]\n",
    "        dtype = df.dtypes[i]\n",
    "        ## Impute string using the mode\n",
    "        if dtype == pl.Utf8:\n",
    "            mode_value = df[col_name].mode()\n",
    "            df = df.with_columns(df[col_name].fill_null(mode_value))\n",
    "        ## Impute float using the median\n",
    "        elif dtype == pl.Float64:\n",
    "            median_value = df[col_name].median()\n",
    "            df = df.with_columns(df[col_name].fill_null(median_value))\n",
    "        ## Warning catch: if type is not a string or float.\n",
    "        else:\n",
    "            print(\"Unexpected type:\", dtype)\n",
    "    return df\n",
    "\n",
    "### Show the number of missing values for each column\n",
    "# impute_df(df_heart_drop).null_count()\n",
    "df_dict_imp = dict()\n",
    "for key, value in df_dict.items():\n",
    "    df_name = f\"{key}_imp\"\n",
    "    df_dict_imp[df_name] = pl.LazyFrame(impute_df(value))\n",
    "\n",
    "df_dict_imp\n"
   ]
  },
  {
   "cell_type": "markdown",
   "metadata": {},
   "source": [
    "### EDA Task 4: Show tables/graphs representing each task\n",
    "\n",
    "1. Table comparing the number of observations of `HadHeartAttack`, `HadStroke`, `HadAngina` and the summarized column `HadHeartDisease`.\n",
    "    a. Provide an example using a rudimentary model (Logit Regression with enet regularization)\n",
    "\n",
    "2. Table showing the number of observations after setting a missing threshold.\n",
    "    a. Provide an example using a rudimentary model (Logit Regression with enet regularization)\n",
    "\n",
    "3. Table comparing using imputation."
   ]
  },
  {
   "cell_type": "code",
   "execution_count": null,
   "metadata": {},
   "outputs": [
    {
     "data": {
      "text/plain": [
       "{'df': <LazyFrame [41 cols, {\"State\": String … \"HadHeartDisease\": String}] at 0x16459BFD0>,\n",
       " 'df_heart_drop': <LazyFrame [41 cols, {\"State\": String … \"HadHeartDisease\": String}] at 0x1645BEBD0>,\n",
       " 'df_heart_drop_00': <LazyFrame [41 cols, {\"State\": String … \"HadHeartDisease\": String}] at 0x146F4D090>,\n",
       " 'df_heart_drop_01': <LazyFrame [41 cols, {\"State\": String … \"HadHeartDisease\": String}] at 0x164598A90>,\n",
       " 'df_heart_drop_03': <LazyFrame [41 cols, {\"State\": String … \"HadHeartDisease\": String}] at 0x103C29290>,\n",
       " 'df_heart_drop_05': <LazyFrame [41 cols, {\"State\": String … \"HadHeartDisease\": String}] at 0x1645BFD10>,\n",
       " 'df_heart_drop_10': <LazyFrame [41 cols, {\"State\": String … \"HadHeartDisease\": String}] at 0x1055CBF10>,\n",
       " 'df_heart_drop_20': <LazyFrame [41 cols, {\"State\": String … \"HadHeartDisease\": String}] at 0x1645BFE90>,\n",
       " 'df_heart_drop_40': <LazyFrame [41 cols, {\"State\": String … \"HadHeartDisease\": String}] at 0x146AD16D0>,\n",
       " 'df_imp': <LazyFrame [41 cols, {\"State\": String … \"HadHeartDisease\": String}] at 0x1645BD510>,\n",
       " 'df_heart_drop_imp': <LazyFrame [41 cols, {\"State\": String … \"HadHeartDisease\": String}] at 0x103C2DFD0>,\n",
       " 'df_heart_drop_00_imp': <LazyFrame [41 cols, {\"State\": String … \"HadHeartDisease\": String}] at 0x164598F90>,\n",
       " 'df_heart_drop_01_imp': <LazyFrame [41 cols, {\"State\": String … \"HadHeartDisease\": String}] at 0x105534D10>,\n",
       " 'df_heart_drop_03_imp': <LazyFrame [41 cols, {\"State\": String … \"HadHeartDisease\": String}] at 0x103C59190>,\n",
       " 'df_heart_drop_05_imp': <LazyFrame [41 cols, {\"State\": String … \"HadHeartDisease\": String}] at 0x1475058D0>,\n",
       " 'df_heart_drop_10_imp': <LazyFrame [41 cols, {\"State\": String … \"HadHeartDisease\": String}] at 0x1475057D0>,\n",
       " 'df_heart_drop_20_imp': <LazyFrame [41 cols, {\"State\": String … \"HadHeartDisease\": String}] at 0x107F2E910>,\n",
       " 'df_heart_drop_40_imp': <LazyFrame [41 cols, {\"State\": String … \"HadHeartDisease\": String}] at 0x1475043D0>}"
      ]
     },
     "execution_count": 6,
     "metadata": {},
     "output_type": "execute_result"
    }
   ],
   "source": [
    "### Pick your poison. Remember these are lazy and will need to be collected.\n",
    "### If you want to use pandas, collect then use df.to_pandas()\n",
    "df_dict\n",
    "### or\n",
    "df_dict_imp\n",
    "### both\n",
    "df_dict_all = {}\n",
    "df_dict_all.update(df_dict)\n",
    "df_dict_all.update(df_dict_imp)\n",
    "df_dict_all"
   ]
  },
  {
   "cell_type": "code",
   "execution_count": null,
   "metadata": {},
   "outputs": [
    {
     "name": "stdout",
     "output_type": "stream",
     "text": [
      "\n",
      "    Save a table as an image file or a PDF document.\n",
      "\n",
      "    The `save()` method makes it easy to save a table object as an image file. The function produces\n",
      "    a high-resolution image file or PDF of the table. The output file is create by first taking a\n",
      "    screenshot of the table using a headless Chrome browser (other browser options are possible if\n",
      "    Chrome isn't present). The screenshot is then cropped to only include the table element, with\n",
      "    some additional pixels added around the table (controlled by the `expand=` parameter). Finally,\n",
      "    the resulting image is saved to the specified file path in the format specified (via the file\n",
      "    extension).\n",
      "\n",
      "    Parameters\n",
      "    ----------\n",
      "    file\n",
      "        The name of the file to save the image to. Accepts names ending with .png, .bmp, and other\n",
      "        image extensions. Also accepts the extension .pdf.\n",
      "    selector\n",
      "        The HTML element selector to use to select the table. By default, this is set to \"table\",\n",
      "        which selects the first table element in the HTML content.\n",
      "    scale\n",
      "        The scaling factor that will be used when generating the image. By default, this is set to a\n",
      "        value of `1.0`. Lowering this will result in a smaller image, whereas increasing it will\n",
      "        result in a much higher-resolution image. This can be considered a quality setting, yet it\n",
      "        also affects the file size. The default value of `1.0` is a good balance between file size\n",
      "        and quality.\n",
      "    expand\n",
      "        The number of pixels to expand the screenshot by. By default, this is set to 5. This can be\n",
      "        increased to capture more of the surrounding area, or decreased to capture less.\n",
      "    web_driver\n",
      "        The webdriver to use when taking the screenshot. By default, this is set to `\"chrome\"` which\n",
      "        uses Google Chrome in headless mode. If that browser isn't available on the host system,\n",
      "        there are other options available: `\"firefox\"` (Mozilla Firefox), `\"safari\"` (Apple Safari),\n",
      "        and `\"edge\"` (Microsoft Edge). Ensure that at least one of these browsers is installed on\n",
      "        the system and choose the appropriate option based on that.\n",
      "    window_size\n",
      "        The size of the window to use when taking the screenshot. This is a tuple of two integers,\n",
      "        representing the width and height of the window. By default, this is set to `(6000, 6000)`,\n",
      "        a large size that should be sufficient for most tables. If the table is larger than this\n",
      "        (and this will be obvious once inspecting the image file) you can increase the appropriate\n",
      "        values of the tuple. If the table is very small, then a reduction in these these values will\n",
      "        result in a speed gain during image capture. Please note that the window size is *not* the\n",
      "        same as the final image size. The table will be captured at the same size as it is displayed\n",
      "        in the headless browser, and the window size is used to ensure that the entire table is\n",
      "        visible in the screen capture before the cropping process occurs.\n",
      "\n",
      "    Returns\n",
      "    -------\n",
      "    None\n",
      "        This function does not return anything; it simply saves the image to the specified file\n",
      "        path.\n",
      "\n",
      "    Details\n",
      "    -------\n",
      "    We create the output file based on the HTML version of the table.\n",
      "\n",
      "    This process is facilitated by two libraries:\n",
      "\n",
      "    - `selenium`, which is used to control the Chrome browser and take a screenshot of the table.\n",
      "    - `PIL`, which is used to crop the screenshot to only include the table element of the page.\n",
      "\n",
      "    Both of these packages needs to be installed before attempting to save any table as an image\n",
      "    file. The `selenium` package also requires the Chrome browser to be installed on the system.\n",
      "\n",
      "    A pip-based reinstallation of **Great Tables** through the following command will install these\n",
      "    required packages:\n",
      "\n",
      "    ```bash\n",
      "    pip install great_tables[extra]\n",
      "    ```\n",
      "\n",
      "    \n"
     ]
    },
    {
     "ename": "ValueError",
     "evalue": "Timeout value connect was <object object at 0x100b1c7d0>, but it must be an int, float or None.",
     "output_type": "error",
     "traceback": [
      "\u001b[0;31m---------------------------------------------------------------------------\u001b[0m",
      "\u001b[0;31mValueError\u001b[0m                                Traceback (most recent call last)",
      "Cell \u001b[0;32mIn[7], line 25\u001b[0m\n\u001b[1;32m     11\u001b[0m tbl_1[\u001b[38;5;124m\"\u001b[39m\u001b[38;5;124mpercent\u001b[39m\u001b[38;5;124m\"\u001b[39m] \u001b[38;5;241m=\u001b[39m tbl_1[\u001b[38;5;124m\"\u001b[39m\u001b[38;5;124mpercent\u001b[39m\u001b[38;5;124m\"\u001b[39m] \u001b[38;5;241m/\u001b[39m \u001b[38;5;241m100\u001b[39m\n\u001b[1;32m     13\u001b[0m tbl_event_freq \u001b[38;5;241m=\u001b[39m (GT(tbl_1)\n\u001b[1;32m     14\u001b[0m     \u001b[38;5;241m.\u001b[39mtab_header(title\u001b[38;5;241m=\u001b[39m\u001b[38;5;124m\"\u001b[39m\u001b[38;5;124mAdverse Cardiovascular Event Frequencies\u001b[39m\u001b[38;5;124m\"\u001b[39m)\n\u001b[1;32m     15\u001b[0m     \u001b[38;5;241m.\u001b[39mcols_label(\n\u001b[0;32m   (...)\u001b[0m\n\u001b[1;32m     23\u001b[0m     )\n\u001b[1;32m     24\u001b[0m )\n\u001b[0;32m---> 25\u001b[0m \u001b[43mtbl_event_freq\u001b[49m\u001b[38;5;241;43m.\u001b[39;49m\u001b[43msave\u001b[49m\u001b[43m(\u001b[49m\u001b[43mfile\u001b[49m\u001b[38;5;241;43m=\u001b[39;49m\u001b[38;5;124;43mf\u001b[39;49m\u001b[38;5;124;43m\"\u001b[39;49m\u001b[38;5;132;43;01m{\u001b[39;49;00m\u001b[43mfigures_path\u001b[49m\u001b[38;5;132;43;01m}\u001b[39;49;00m\u001b[38;5;124;43mtbl_event_freq.png\u001b[39;49m\u001b[38;5;124;43m\"\u001b[39;49m\u001b[43m)\u001b[49m\n",
      "File \u001b[0;32m/opt/anaconda3/envs/203C/lib/python3.11/site-packages/great_tables/_export.py:181\u001b[0m, in \u001b[0;36msave\u001b[0;34m(self, file, selector, scale, expand, web_driver, window_size)\u001b[0m\n\u001b[1;32m    176\u001b[0m wd_options\u001b[38;5;241m.\u001b[39madd_argument(\u001b[38;5;124mf\u001b[39m\u001b[38;5;124m\"\u001b[39m\u001b[38;5;124m--width=\u001b[39m\u001b[38;5;132;01m{\u001b[39;00mwindow_size[\u001b[38;5;241m0\u001b[39m]\u001b[38;5;132;01m}\u001b[39;00m\u001b[38;5;124m\"\u001b[39m)\n\u001b[1;32m    177\u001b[0m wd_options\u001b[38;5;241m.\u001b[39madd_argument(\u001b[38;5;124mf\u001b[39m\u001b[38;5;124m\"\u001b[39m\u001b[38;5;124m--height=\u001b[39m\u001b[38;5;132;01m{\u001b[39;00mwindow_size[\u001b[38;5;241m1\u001b[39m]\u001b[38;5;132;01m}\u001b[39;00m\u001b[38;5;124m\"\u001b[39m)\n\u001b[1;32m    179\u001b[0m \u001b[38;5;28;01mwith\u001b[39;00m (\n\u001b[1;32m    180\u001b[0m     tempfile\u001b[38;5;241m.\u001b[39mNamedTemporaryFile(suffix\u001b[38;5;241m=\u001b[39m\u001b[38;5;124m\"\u001b[39m\u001b[38;5;124m.html\u001b[39m\u001b[38;5;124m\"\u001b[39m, \u001b[38;5;28mdir\u001b[39m\u001b[38;5;241m=\u001b[39mtemp_dir) \u001b[38;5;28;01mas\u001b[39;00m temp_file,\n\u001b[0;32m--> 181\u001b[0m     \u001b[43mwdriver\u001b[49m\u001b[43m(\u001b[49m\u001b[43moptions\u001b[49m\u001b[38;5;241;43m=\u001b[39;49m\u001b[43mwd_options\u001b[49m\u001b[43m)\u001b[49m \u001b[38;5;28;01mas\u001b[39;00m headless_browser,\n\u001b[1;32m    182\u001b[0m ):\n\u001b[1;32m    183\u001b[0m \n\u001b[1;32m    184\u001b[0m     \u001b[38;5;66;03m# Write the HTML content to the temp file\u001b[39;00m\n\u001b[1;32m    185\u001b[0m     \u001b[38;5;28;01mwith\u001b[39;00m \u001b[38;5;28mopen\u001b[39m(temp_file\u001b[38;5;241m.\u001b[39mname, \u001b[38;5;124m\"\u001b[39m\u001b[38;5;124mw\u001b[39m\u001b[38;5;124m\"\u001b[39m) \u001b[38;5;28;01mas\u001b[39;00m fp:\n\u001b[1;32m    186\u001b[0m         fp\u001b[38;5;241m.\u001b[39mwrite(html_content)\n",
      "File \u001b[0;32m/opt/anaconda3/envs/203C/lib/python3.11/site-packages/selenium/webdriver/chrome/webdriver.py:76\u001b[0m, in \u001b[0;36mWebDriver.__init__\u001b[0;34m(self, executable_path, port, options, service_args, desired_capabilities, service_log_path, chrome_options, keep_alive)\u001b[0m\n\u001b[1;32m     73\u001b[0m \u001b[38;5;28mself\u001b[39m\u001b[38;5;241m.\u001b[39mservice\u001b[38;5;241m.\u001b[39mstart()\n\u001b[1;32m     75\u001b[0m \u001b[38;5;28;01mtry\u001b[39;00m:\n\u001b[0;32m---> 76\u001b[0m     \u001b[43mRemoteWebDriver\u001b[49m\u001b[38;5;241;43m.\u001b[39;49m\u001b[38;5;21;43m__init__\u001b[39;49m\u001b[43m(\u001b[49m\n\u001b[1;32m     77\u001b[0m \u001b[43m        \u001b[49m\u001b[38;5;28;43mself\u001b[39;49m\u001b[43m,\u001b[49m\n\u001b[1;32m     78\u001b[0m \u001b[43m        \u001b[49m\u001b[43mcommand_executor\u001b[49m\u001b[38;5;241;43m=\u001b[39;49m\u001b[43mChromeRemoteConnection\u001b[49m\u001b[43m(\u001b[49m\n\u001b[1;32m     79\u001b[0m \u001b[43m            \u001b[49m\u001b[43mremote_server_addr\u001b[49m\u001b[38;5;241;43m=\u001b[39;49m\u001b[38;5;28;43mself\u001b[39;49m\u001b[38;5;241;43m.\u001b[39;49m\u001b[43mservice\u001b[49m\u001b[38;5;241;43m.\u001b[39;49m\u001b[43mservice_url\u001b[49m\u001b[43m,\u001b[49m\n\u001b[1;32m     80\u001b[0m \u001b[43m            \u001b[49m\u001b[43mkeep_alive\u001b[49m\u001b[38;5;241;43m=\u001b[39;49m\u001b[43mkeep_alive\u001b[49m\u001b[43m)\u001b[49m\u001b[43m,\u001b[49m\n\u001b[1;32m     81\u001b[0m \u001b[43m        \u001b[49m\u001b[43mdesired_capabilities\u001b[49m\u001b[38;5;241;43m=\u001b[39;49m\u001b[43mdesired_capabilities\u001b[49m\u001b[43m)\u001b[49m\n\u001b[1;32m     82\u001b[0m \u001b[38;5;28;01mexcept\u001b[39;00m \u001b[38;5;167;01mException\u001b[39;00m:\n\u001b[1;32m     83\u001b[0m     \u001b[38;5;28mself\u001b[39m\u001b[38;5;241m.\u001b[39mquit()\n",
      "File \u001b[0;32m/opt/anaconda3/envs/203C/lib/python3.11/site-packages/selenium/webdriver/remote/webdriver.py:157\u001b[0m, in \u001b[0;36mWebDriver.__init__\u001b[0;34m(self, command_executor, desired_capabilities, browser_profile, proxy, keep_alive, file_detector, options)\u001b[0m\n\u001b[1;32m    154\u001b[0m \u001b[38;5;28;01mif\u001b[39;00m browser_profile \u001b[38;5;129;01mis\u001b[39;00m \u001b[38;5;129;01mnot\u001b[39;00m \u001b[38;5;28;01mNone\u001b[39;00m:\n\u001b[1;32m    155\u001b[0m     warnings\u001b[38;5;241m.\u001b[39mwarn(\u001b[38;5;124m\"\u001b[39m\u001b[38;5;124mPlease use FirefoxOptions to set browser profile\u001b[39m\u001b[38;5;124m\"\u001b[39m,\n\u001b[1;32m    156\u001b[0m                   \u001b[38;5;167;01mDeprecationWarning\u001b[39;00m, stacklevel\u001b[38;5;241m=\u001b[39m\u001b[38;5;241m2\u001b[39m)\n\u001b[0;32m--> 157\u001b[0m \u001b[38;5;28;43mself\u001b[39;49m\u001b[38;5;241;43m.\u001b[39;49m\u001b[43mstart_session\u001b[49m\u001b[43m(\u001b[49m\u001b[43mcapabilities\u001b[49m\u001b[43m,\u001b[49m\u001b[43m \u001b[49m\u001b[43mbrowser_profile\u001b[49m\u001b[43m)\u001b[49m\n\u001b[1;32m    158\u001b[0m \u001b[38;5;28mself\u001b[39m\u001b[38;5;241m.\u001b[39m_switch_to \u001b[38;5;241m=\u001b[39m SwitchTo(\u001b[38;5;28mself\u001b[39m)\n\u001b[1;32m    159\u001b[0m \u001b[38;5;28mself\u001b[39m\u001b[38;5;241m.\u001b[39m_mobile \u001b[38;5;241m=\u001b[39m Mobile(\u001b[38;5;28mself\u001b[39m)\n",
      "File \u001b[0;32m/opt/anaconda3/envs/203C/lib/python3.11/site-packages/selenium/webdriver/remote/webdriver.py:252\u001b[0m, in \u001b[0;36mWebDriver.start_session\u001b[0;34m(self, capabilities, browser_profile)\u001b[0m\n\u001b[1;32m    249\u001b[0m w3c_caps \u001b[38;5;241m=\u001b[39m _make_w3c_caps(capabilities)\n\u001b[1;32m    250\u001b[0m parameters \u001b[38;5;241m=\u001b[39m {\u001b[38;5;124m\"\u001b[39m\u001b[38;5;124mcapabilities\u001b[39m\u001b[38;5;124m\"\u001b[39m: w3c_caps,\n\u001b[1;32m    251\u001b[0m               \u001b[38;5;124m\"\u001b[39m\u001b[38;5;124mdesiredCapabilities\u001b[39m\u001b[38;5;124m\"\u001b[39m: capabilities}\n\u001b[0;32m--> 252\u001b[0m response \u001b[38;5;241m=\u001b[39m \u001b[38;5;28;43mself\u001b[39;49m\u001b[38;5;241;43m.\u001b[39;49m\u001b[43mexecute\u001b[49m\u001b[43m(\u001b[49m\u001b[43mCommand\u001b[49m\u001b[38;5;241;43m.\u001b[39;49m\u001b[43mNEW_SESSION\u001b[49m\u001b[43m,\u001b[49m\u001b[43m \u001b[49m\u001b[43mparameters\u001b[49m\u001b[43m)\u001b[49m\n\u001b[1;32m    253\u001b[0m \u001b[38;5;28;01mif\u001b[39;00m \u001b[38;5;124m'\u001b[39m\u001b[38;5;124msessionId\u001b[39m\u001b[38;5;124m'\u001b[39m \u001b[38;5;129;01mnot\u001b[39;00m \u001b[38;5;129;01min\u001b[39;00m response:\n\u001b[1;32m    254\u001b[0m     response \u001b[38;5;241m=\u001b[39m response[\u001b[38;5;124m'\u001b[39m\u001b[38;5;124mvalue\u001b[39m\u001b[38;5;124m'\u001b[39m]\n",
      "File \u001b[0;32m/opt/anaconda3/envs/203C/lib/python3.11/site-packages/selenium/webdriver/remote/webdriver.py:319\u001b[0m, in \u001b[0;36mWebDriver.execute\u001b[0;34m(self, driver_command, params)\u001b[0m\n\u001b[1;32m    316\u001b[0m         params[\u001b[38;5;124m'\u001b[39m\u001b[38;5;124msessionId\u001b[39m\u001b[38;5;124m'\u001b[39m] \u001b[38;5;241m=\u001b[39m \u001b[38;5;28mself\u001b[39m\u001b[38;5;241m.\u001b[39msession_id\n\u001b[1;32m    318\u001b[0m params \u001b[38;5;241m=\u001b[39m \u001b[38;5;28mself\u001b[39m\u001b[38;5;241m.\u001b[39m_wrap_value(params)\n\u001b[0;32m--> 319\u001b[0m response \u001b[38;5;241m=\u001b[39m \u001b[38;5;28;43mself\u001b[39;49m\u001b[38;5;241;43m.\u001b[39;49m\u001b[43mcommand_executor\u001b[49m\u001b[38;5;241;43m.\u001b[39;49m\u001b[43mexecute\u001b[49m\u001b[43m(\u001b[49m\u001b[43mdriver_command\u001b[49m\u001b[43m,\u001b[49m\u001b[43m \u001b[49m\u001b[43mparams\u001b[49m\u001b[43m)\u001b[49m\n\u001b[1;32m    320\u001b[0m \u001b[38;5;28;01mif\u001b[39;00m response:\n\u001b[1;32m    321\u001b[0m     \u001b[38;5;28mself\u001b[39m\u001b[38;5;241m.\u001b[39merror_handler\u001b[38;5;241m.\u001b[39mcheck_response(response)\n",
      "File \u001b[0;32m/opt/anaconda3/envs/203C/lib/python3.11/site-packages/selenium/webdriver/remote/remote_connection.py:374\u001b[0m, in \u001b[0;36mRemoteConnection.execute\u001b[0;34m(self, command, params)\u001b[0m\n\u001b[1;32m    372\u001b[0m data \u001b[38;5;241m=\u001b[39m utils\u001b[38;5;241m.\u001b[39mdump_json(params)\n\u001b[1;32m    373\u001b[0m url \u001b[38;5;241m=\u001b[39m \u001b[38;5;124m'\u001b[39m\u001b[38;5;132;01m%s\u001b[39;00m\u001b[38;5;132;01m%s\u001b[39;00m\u001b[38;5;124m'\u001b[39m \u001b[38;5;241m%\u001b[39m (\u001b[38;5;28mself\u001b[39m\u001b[38;5;241m.\u001b[39m_url, path)\n\u001b[0;32m--> 374\u001b[0m \u001b[38;5;28;01mreturn\u001b[39;00m \u001b[38;5;28;43mself\u001b[39;49m\u001b[38;5;241;43m.\u001b[39;49m\u001b[43m_request\u001b[49m\u001b[43m(\u001b[49m\u001b[43mcommand_info\u001b[49m\u001b[43m[\u001b[49m\u001b[38;5;241;43m0\u001b[39;49m\u001b[43m]\u001b[49m\u001b[43m,\u001b[49m\u001b[43m \u001b[49m\u001b[43murl\u001b[49m\u001b[43m,\u001b[49m\u001b[43m \u001b[49m\u001b[43mbody\u001b[49m\u001b[38;5;241;43m=\u001b[39;49m\u001b[43mdata\u001b[49m\u001b[43m)\u001b[49m\n",
      "File \u001b[0;32m/opt/anaconda3/envs/203C/lib/python3.11/site-packages/selenium/webdriver/remote/remote_connection.py:397\u001b[0m, in \u001b[0;36mRemoteConnection._request\u001b[0;34m(self, method, url, body)\u001b[0m\n\u001b[1;32m    394\u001b[0m     body \u001b[38;5;241m=\u001b[39m \u001b[38;5;28;01mNone\u001b[39;00m\n\u001b[1;32m    396\u001b[0m \u001b[38;5;28;01mif\u001b[39;00m \u001b[38;5;28mself\u001b[39m\u001b[38;5;241m.\u001b[39mkeep_alive:\n\u001b[0;32m--> 397\u001b[0m     resp \u001b[38;5;241m=\u001b[39m \u001b[38;5;28;43mself\u001b[39;49m\u001b[38;5;241;43m.\u001b[39;49m\u001b[43m_conn\u001b[49m\u001b[38;5;241;43m.\u001b[39;49m\u001b[43mrequest\u001b[49m\u001b[43m(\u001b[49m\u001b[43mmethod\u001b[49m\u001b[43m,\u001b[49m\u001b[43m \u001b[49m\u001b[43murl\u001b[49m\u001b[43m,\u001b[49m\u001b[43m \u001b[49m\u001b[43mbody\u001b[49m\u001b[38;5;241;43m=\u001b[39;49m\u001b[43mbody\u001b[49m\u001b[43m,\u001b[49m\u001b[43m \u001b[49m\u001b[43mheaders\u001b[49m\u001b[38;5;241;43m=\u001b[39;49m\u001b[43mheaders\u001b[49m\u001b[43m)\u001b[49m\n\u001b[1;32m    399\u001b[0m     statuscode \u001b[38;5;241m=\u001b[39m resp\u001b[38;5;241m.\u001b[39mstatus\n\u001b[1;32m    400\u001b[0m \u001b[38;5;28;01melse\u001b[39;00m:\n",
      "File \u001b[0;32m/opt/anaconda3/envs/203C/lib/python3.11/site-packages/urllib3/_request_methods.py:118\u001b[0m, in \u001b[0;36mRequestMethods.request\u001b[0;34m(self, method, url, body, fields, headers, json, **urlopen_kw)\u001b[0m\n\u001b[1;32m    110\u001b[0m     \u001b[38;5;28;01mreturn\u001b[39;00m \u001b[38;5;28mself\u001b[39m\u001b[38;5;241m.\u001b[39mrequest_encode_url(\n\u001b[1;32m    111\u001b[0m         method,\n\u001b[1;32m    112\u001b[0m         url,\n\u001b[0;32m   (...)\u001b[0m\n\u001b[1;32m    115\u001b[0m         \u001b[38;5;241m*\u001b[39m\u001b[38;5;241m*\u001b[39murlopen_kw,\n\u001b[1;32m    116\u001b[0m     )\n\u001b[1;32m    117\u001b[0m \u001b[38;5;28;01melse\u001b[39;00m:\n\u001b[0;32m--> 118\u001b[0m     \u001b[38;5;28;01mreturn\u001b[39;00m \u001b[38;5;28;43mself\u001b[39;49m\u001b[38;5;241;43m.\u001b[39;49m\u001b[43mrequest_encode_body\u001b[49m\u001b[43m(\u001b[49m\n\u001b[1;32m    119\u001b[0m \u001b[43m        \u001b[49m\u001b[43mmethod\u001b[49m\u001b[43m,\u001b[49m\u001b[43m \u001b[49m\u001b[43murl\u001b[49m\u001b[43m,\u001b[49m\u001b[43m \u001b[49m\u001b[43mfields\u001b[49m\u001b[38;5;241;43m=\u001b[39;49m\u001b[43mfields\u001b[49m\u001b[43m,\u001b[49m\u001b[43m \u001b[49m\u001b[43mheaders\u001b[49m\u001b[38;5;241;43m=\u001b[39;49m\u001b[43mheaders\u001b[49m\u001b[43m,\u001b[49m\u001b[43m \u001b[49m\u001b[38;5;241;43m*\u001b[39;49m\u001b[38;5;241;43m*\u001b[39;49m\u001b[43murlopen_kw\u001b[49m\n\u001b[1;32m    120\u001b[0m \u001b[43m    \u001b[49m\u001b[43m)\u001b[49m\n",
      "File \u001b[0;32m/opt/anaconda3/envs/203C/lib/python3.11/site-packages/urllib3/_request_methods.py:217\u001b[0m, in \u001b[0;36mRequestMethods.request_encode_body\u001b[0;34m(self, method, url, fields, headers, encode_multipart, multipart_boundary, **urlopen_kw)\u001b[0m\n\u001b[1;32m    213\u001b[0m     extra_kw[\u001b[38;5;124m\"\u001b[39m\u001b[38;5;124mheaders\u001b[39m\u001b[38;5;124m\"\u001b[39m]\u001b[38;5;241m.\u001b[39msetdefault(\u001b[38;5;124m\"\u001b[39m\u001b[38;5;124mContent-Type\u001b[39m\u001b[38;5;124m\"\u001b[39m, content_type)\n\u001b[1;32m    215\u001b[0m extra_kw\u001b[38;5;241m.\u001b[39mupdate(urlopen_kw)\n\u001b[0;32m--> 217\u001b[0m \u001b[38;5;28;01mreturn\u001b[39;00m \u001b[38;5;28;43mself\u001b[39;49m\u001b[38;5;241;43m.\u001b[39;49m\u001b[43murlopen\u001b[49m\u001b[43m(\u001b[49m\u001b[43mmethod\u001b[49m\u001b[43m,\u001b[49m\u001b[43m \u001b[49m\u001b[43murl\u001b[49m\u001b[43m,\u001b[49m\u001b[43m \u001b[49m\u001b[38;5;241;43m*\u001b[39;49m\u001b[38;5;241;43m*\u001b[39;49m\u001b[43mextra_kw\u001b[49m\u001b[43m)\u001b[49m\n",
      "File \u001b[0;32m/opt/anaconda3/envs/203C/lib/python3.11/site-packages/urllib3/poolmanager.py:433\u001b[0m, in \u001b[0;36mPoolManager.urlopen\u001b[0;34m(self, method, url, redirect, **kw)\u001b[0m\n\u001b[1;32m    423\u001b[0m \u001b[38;5;28;01mif\u001b[39;00m u\u001b[38;5;241m.\u001b[39mscheme \u001b[38;5;129;01mis\u001b[39;00m \u001b[38;5;28;01mNone\u001b[39;00m:\n\u001b[1;32m    424\u001b[0m     warnings\u001b[38;5;241m.\u001b[39mwarn(\n\u001b[1;32m    425\u001b[0m         \u001b[38;5;124m\"\u001b[39m\u001b[38;5;124mURLs without a scheme (ie \u001b[39m\u001b[38;5;124m'\u001b[39m\u001b[38;5;124mhttps://\u001b[39m\u001b[38;5;124m'\u001b[39m\u001b[38;5;124m) are deprecated and will raise an error \u001b[39m\u001b[38;5;124m\"\u001b[39m\n\u001b[1;32m    426\u001b[0m         \u001b[38;5;124m\"\u001b[39m\u001b[38;5;124min a future version of urllib3. To avoid this DeprecationWarning ensure all URLs \u001b[39m\u001b[38;5;124m\"\u001b[39m\n\u001b[0;32m   (...)\u001b[0m\n\u001b[1;32m    430\u001b[0m         stacklevel\u001b[38;5;241m=\u001b[39m\u001b[38;5;241m2\u001b[39m,\n\u001b[1;32m    431\u001b[0m     )\n\u001b[0;32m--> 433\u001b[0m conn \u001b[38;5;241m=\u001b[39m \u001b[38;5;28;43mself\u001b[39;49m\u001b[38;5;241;43m.\u001b[39;49m\u001b[43mconnection_from_host\u001b[49m\u001b[43m(\u001b[49m\u001b[43mu\u001b[49m\u001b[38;5;241;43m.\u001b[39;49m\u001b[43mhost\u001b[49m\u001b[43m,\u001b[49m\u001b[43m \u001b[49m\u001b[43mport\u001b[49m\u001b[38;5;241;43m=\u001b[39;49m\u001b[43mu\u001b[49m\u001b[38;5;241;43m.\u001b[39;49m\u001b[43mport\u001b[49m\u001b[43m,\u001b[49m\u001b[43m \u001b[49m\u001b[43mscheme\u001b[49m\u001b[38;5;241;43m=\u001b[39;49m\u001b[43mu\u001b[49m\u001b[38;5;241;43m.\u001b[39;49m\u001b[43mscheme\u001b[49m\u001b[43m)\u001b[49m\n\u001b[1;32m    435\u001b[0m kw[\u001b[38;5;124m\"\u001b[39m\u001b[38;5;124massert_same_host\u001b[39m\u001b[38;5;124m\"\u001b[39m] \u001b[38;5;241m=\u001b[39m \u001b[38;5;28;01mFalse\u001b[39;00m\n\u001b[1;32m    436\u001b[0m kw[\u001b[38;5;124m\"\u001b[39m\u001b[38;5;124mredirect\u001b[39m\u001b[38;5;124m\"\u001b[39m] \u001b[38;5;241m=\u001b[39m \u001b[38;5;28;01mFalse\u001b[39;00m\n",
      "File \u001b[0;32m/opt/anaconda3/envs/203C/lib/python3.11/site-packages/urllib3/poolmanager.py:304\u001b[0m, in \u001b[0;36mPoolManager.connection_from_host\u001b[0;34m(self, host, port, scheme, pool_kwargs)\u001b[0m\n\u001b[1;32m    301\u001b[0m request_context[\u001b[38;5;124m\"\u001b[39m\u001b[38;5;124mport\u001b[39m\u001b[38;5;124m\"\u001b[39m] \u001b[38;5;241m=\u001b[39m port\n\u001b[1;32m    302\u001b[0m request_context[\u001b[38;5;124m\"\u001b[39m\u001b[38;5;124mhost\u001b[39m\u001b[38;5;124m\"\u001b[39m] \u001b[38;5;241m=\u001b[39m host\n\u001b[0;32m--> 304\u001b[0m \u001b[38;5;28;01mreturn\u001b[39;00m \u001b[38;5;28;43mself\u001b[39;49m\u001b[38;5;241;43m.\u001b[39;49m\u001b[43mconnection_from_context\u001b[49m\u001b[43m(\u001b[49m\u001b[43mrequest_context\u001b[49m\u001b[43m)\u001b[49m\n",
      "File \u001b[0;32m/opt/anaconda3/envs/203C/lib/python3.11/site-packages/urllib3/poolmanager.py:329\u001b[0m, in \u001b[0;36mPoolManager.connection_from_context\u001b[0;34m(self, request_context)\u001b[0m\n\u001b[1;32m    326\u001b[0m     \u001b[38;5;28;01mraise\u001b[39;00m URLSchemeUnknown(scheme)\n\u001b[1;32m    327\u001b[0m pool_key \u001b[38;5;241m=\u001b[39m pool_key_constructor(request_context)\n\u001b[0;32m--> 329\u001b[0m \u001b[38;5;28;01mreturn\u001b[39;00m \u001b[38;5;28;43mself\u001b[39;49m\u001b[38;5;241;43m.\u001b[39;49m\u001b[43mconnection_from_pool_key\u001b[49m\u001b[43m(\u001b[49m\u001b[43mpool_key\u001b[49m\u001b[43m,\u001b[49m\u001b[43m \u001b[49m\u001b[43mrequest_context\u001b[49m\u001b[38;5;241;43m=\u001b[39;49m\u001b[43mrequest_context\u001b[49m\u001b[43m)\u001b[49m\n",
      "File \u001b[0;32m/opt/anaconda3/envs/203C/lib/python3.11/site-packages/urllib3/poolmanager.py:352\u001b[0m, in \u001b[0;36mPoolManager.connection_from_pool_key\u001b[0;34m(self, pool_key, request_context)\u001b[0m\n\u001b[1;32m    350\u001b[0m     host \u001b[38;5;241m=\u001b[39m request_context[\u001b[38;5;124m\"\u001b[39m\u001b[38;5;124mhost\u001b[39m\u001b[38;5;124m\"\u001b[39m]\n\u001b[1;32m    351\u001b[0m     port \u001b[38;5;241m=\u001b[39m request_context[\u001b[38;5;124m\"\u001b[39m\u001b[38;5;124mport\u001b[39m\u001b[38;5;124m\"\u001b[39m]\n\u001b[0;32m--> 352\u001b[0m     pool \u001b[38;5;241m=\u001b[39m \u001b[38;5;28;43mself\u001b[39;49m\u001b[38;5;241;43m.\u001b[39;49m\u001b[43m_new_pool\u001b[49m\u001b[43m(\u001b[49m\u001b[43mscheme\u001b[49m\u001b[43m,\u001b[49m\u001b[43m \u001b[49m\u001b[43mhost\u001b[49m\u001b[43m,\u001b[49m\u001b[43m \u001b[49m\u001b[43mport\u001b[49m\u001b[43m,\u001b[49m\u001b[43m \u001b[49m\u001b[43mrequest_context\u001b[49m\u001b[38;5;241;43m=\u001b[39;49m\u001b[43mrequest_context\u001b[49m\u001b[43m)\u001b[49m\n\u001b[1;32m    353\u001b[0m     \u001b[38;5;28mself\u001b[39m\u001b[38;5;241m.\u001b[39mpools[pool_key] \u001b[38;5;241m=\u001b[39m pool\n\u001b[1;32m    355\u001b[0m \u001b[38;5;28;01mreturn\u001b[39;00m pool\n",
      "File \u001b[0;32m/opt/anaconda3/envs/203C/lib/python3.11/site-packages/urllib3/poolmanager.py:266\u001b[0m, in \u001b[0;36mPoolManager._new_pool\u001b[0;34m(self, scheme, host, port, request_context)\u001b[0m\n\u001b[1;32m    263\u001b[0m     \u001b[38;5;28;01mfor\u001b[39;00m kw \u001b[38;5;129;01min\u001b[39;00m SSL_KEYWORDS:\n\u001b[1;32m    264\u001b[0m         request_context\u001b[38;5;241m.\u001b[39mpop(kw, \u001b[38;5;28;01mNone\u001b[39;00m)\n\u001b[0;32m--> 266\u001b[0m \u001b[38;5;28;01mreturn\u001b[39;00m \u001b[43mpool_cls\u001b[49m\u001b[43m(\u001b[49m\u001b[43mhost\u001b[49m\u001b[43m,\u001b[49m\u001b[43m \u001b[49m\u001b[43mport\u001b[49m\u001b[43m,\u001b[49m\u001b[43m \u001b[49m\u001b[38;5;241;43m*\u001b[39;49m\u001b[38;5;241;43m*\u001b[39;49m\u001b[43mrequest_context\u001b[49m\u001b[43m)\u001b[49m\n",
      "File \u001b[0;32m/opt/anaconda3/envs/203C/lib/python3.11/site-packages/urllib3/connectionpool.py:196\u001b[0m, in \u001b[0;36mHTTPConnectionPool.__init__\u001b[0;34m(self, host, port, timeout, maxsize, block, headers, retries, _proxy, _proxy_headers, _proxy_config, **conn_kw)\u001b[0m\n\u001b[1;32m    193\u001b[0m RequestMethods\u001b[38;5;241m.\u001b[39m\u001b[38;5;21m__init__\u001b[39m(\u001b[38;5;28mself\u001b[39m, headers)\n\u001b[1;32m    195\u001b[0m \u001b[38;5;28;01mif\u001b[39;00m \u001b[38;5;129;01mnot\u001b[39;00m \u001b[38;5;28misinstance\u001b[39m(timeout, Timeout):\n\u001b[0;32m--> 196\u001b[0m     timeout \u001b[38;5;241m=\u001b[39m \u001b[43mTimeout\u001b[49m\u001b[38;5;241;43m.\u001b[39;49m\u001b[43mfrom_float\u001b[49m\u001b[43m(\u001b[49m\u001b[43mtimeout\u001b[49m\u001b[43m)\u001b[49m\n\u001b[1;32m    198\u001b[0m \u001b[38;5;28;01mif\u001b[39;00m retries \u001b[38;5;129;01mis\u001b[39;00m \u001b[38;5;28;01mNone\u001b[39;00m:\n\u001b[1;32m    199\u001b[0m     retries \u001b[38;5;241m=\u001b[39m Retry\u001b[38;5;241m.\u001b[39mDEFAULT\n",
      "File \u001b[0;32m/opt/anaconda3/envs/203C/lib/python3.11/site-packages/urllib3/util/timeout.py:190\u001b[0m, in \u001b[0;36mTimeout.from_float\u001b[0;34m(cls, timeout)\u001b[0m\n\u001b[1;32m    176\u001b[0m \u001b[38;5;129m@classmethod\u001b[39m\n\u001b[1;32m    177\u001b[0m \u001b[38;5;28;01mdef\u001b[39;00m \u001b[38;5;21mfrom_float\u001b[39m(\u001b[38;5;28mcls\u001b[39m, timeout: _TYPE_TIMEOUT) \u001b[38;5;241m-\u001b[39m\u001b[38;5;241m>\u001b[39m Timeout:\n\u001b[1;32m    178\u001b[0m \u001b[38;5;250m    \u001b[39m\u001b[38;5;124;03m\"\"\"Create a new Timeout from a legacy timeout value.\u001b[39;00m\n\u001b[1;32m    179\u001b[0m \n\u001b[1;32m    180\u001b[0m \u001b[38;5;124;03m    The timeout value used by httplib.py sets the same timeout on the\u001b[39;00m\n\u001b[0;32m   (...)\u001b[0m\n\u001b[1;32m    188\u001b[0m \u001b[38;5;124;03m    :rtype: :class:`Timeout`\u001b[39;00m\n\u001b[1;32m    189\u001b[0m \u001b[38;5;124;03m    \"\"\"\u001b[39;00m\n\u001b[0;32m--> 190\u001b[0m     \u001b[38;5;28;01mreturn\u001b[39;00m \u001b[43mTimeout\u001b[49m\u001b[43m(\u001b[49m\u001b[43mread\u001b[49m\u001b[38;5;241;43m=\u001b[39;49m\u001b[43mtimeout\u001b[49m\u001b[43m,\u001b[49m\u001b[43m \u001b[49m\u001b[43mconnect\u001b[49m\u001b[38;5;241;43m=\u001b[39;49m\u001b[43mtimeout\u001b[49m\u001b[43m)\u001b[49m\n",
      "File \u001b[0;32m/opt/anaconda3/envs/203C/lib/python3.11/site-packages/urllib3/util/timeout.py:119\u001b[0m, in \u001b[0;36mTimeout.__init__\u001b[0;34m(self, total, connect, read)\u001b[0m\n\u001b[1;32m    113\u001b[0m \u001b[38;5;28;01mdef\u001b[39;00m \u001b[38;5;21m__init__\u001b[39m(\n\u001b[1;32m    114\u001b[0m     \u001b[38;5;28mself\u001b[39m,\n\u001b[1;32m    115\u001b[0m     total: _TYPE_TIMEOUT \u001b[38;5;241m=\u001b[39m \u001b[38;5;28;01mNone\u001b[39;00m,\n\u001b[1;32m    116\u001b[0m     connect: _TYPE_TIMEOUT \u001b[38;5;241m=\u001b[39m _DEFAULT_TIMEOUT,\n\u001b[1;32m    117\u001b[0m     read: _TYPE_TIMEOUT \u001b[38;5;241m=\u001b[39m _DEFAULT_TIMEOUT,\n\u001b[1;32m    118\u001b[0m ) \u001b[38;5;241m-\u001b[39m\u001b[38;5;241m>\u001b[39m \u001b[38;5;28;01mNone\u001b[39;00m:\n\u001b[0;32m--> 119\u001b[0m     \u001b[38;5;28mself\u001b[39m\u001b[38;5;241m.\u001b[39m_connect \u001b[38;5;241m=\u001b[39m \u001b[38;5;28;43mself\u001b[39;49m\u001b[38;5;241;43m.\u001b[39;49m\u001b[43m_validate_timeout\u001b[49m\u001b[43m(\u001b[49m\u001b[43mconnect\u001b[49m\u001b[43m,\u001b[49m\u001b[43m \u001b[49m\u001b[38;5;124;43m\"\u001b[39;49m\u001b[38;5;124;43mconnect\u001b[39;49m\u001b[38;5;124;43m\"\u001b[39;49m\u001b[43m)\u001b[49m\n\u001b[1;32m    120\u001b[0m     \u001b[38;5;28mself\u001b[39m\u001b[38;5;241m.\u001b[39m_read \u001b[38;5;241m=\u001b[39m \u001b[38;5;28mself\u001b[39m\u001b[38;5;241m.\u001b[39m_validate_timeout(read, \u001b[38;5;124m\"\u001b[39m\u001b[38;5;124mread\u001b[39m\u001b[38;5;124m\"\u001b[39m)\n\u001b[1;32m    121\u001b[0m     \u001b[38;5;28mself\u001b[39m\u001b[38;5;241m.\u001b[39mtotal \u001b[38;5;241m=\u001b[39m \u001b[38;5;28mself\u001b[39m\u001b[38;5;241m.\u001b[39m_validate_timeout(total, \u001b[38;5;124m\"\u001b[39m\u001b[38;5;124mtotal\u001b[39m\u001b[38;5;124m\"\u001b[39m)\n",
      "File \u001b[0;32m/opt/anaconda3/envs/203C/lib/python3.11/site-packages/urllib3/util/timeout.py:156\u001b[0m, in \u001b[0;36mTimeout._validate_timeout\u001b[0;34m(cls, value, name)\u001b[0m\n\u001b[1;32m    154\u001b[0m     \u001b[38;5;28mfloat\u001b[39m(value)\n\u001b[1;32m    155\u001b[0m \u001b[38;5;28;01mexcept\u001b[39;00m (\u001b[38;5;167;01mTypeError\u001b[39;00m, \u001b[38;5;167;01mValueError\u001b[39;00m):\n\u001b[0;32m--> 156\u001b[0m     \u001b[38;5;28;01mraise\u001b[39;00m \u001b[38;5;167;01mValueError\u001b[39;00m(\n\u001b[1;32m    157\u001b[0m         \u001b[38;5;124m\"\u001b[39m\u001b[38;5;124mTimeout value \u001b[39m\u001b[38;5;132;01m%s\u001b[39;00m\u001b[38;5;124m was \u001b[39m\u001b[38;5;132;01m%s\u001b[39;00m\u001b[38;5;124m, but it must be an \u001b[39m\u001b[38;5;124m\"\u001b[39m\n\u001b[1;32m    158\u001b[0m         \u001b[38;5;124m\"\u001b[39m\u001b[38;5;124mint, float or None.\u001b[39m\u001b[38;5;124m\"\u001b[39m \u001b[38;5;241m%\u001b[39m (name, value)\n\u001b[1;32m    159\u001b[0m     ) \u001b[38;5;28;01mfrom\u001b[39;00m \u001b[38;5;28;01mNone\u001b[39;00m\n\u001b[1;32m    161\u001b[0m \u001b[38;5;28;01mtry\u001b[39;00m:\n\u001b[1;32m    162\u001b[0m     \u001b[38;5;28;01mif\u001b[39;00m value \u001b[38;5;241m<\u001b[39m\u001b[38;5;241m=\u001b[39m \u001b[38;5;241m0\u001b[39m:\n",
      "\u001b[0;31mValueError\u001b[0m: Timeout value connect was <object object at 0x100b1c7d0>, but it must be an int, float or None."
     ]
    }
   ],
   "source": [
    "### Table 1: Comparing `HadHeartAttack`, `HadStroke`, `HadAngina` to `HadHeartDisease`\n",
    "\n",
    "print(GT.save.__doc__)\n",
    "\n",
    "\n",
    "tbl_1 = (df.collect().to_pandas().stb.freq(\n",
    "    [\"HadHeartAttack\", \"HadStroke\", \"HadAngina\", \"HadHeartDisease\"])\n",
    "    .drop(columns=['cumulative_count', 'cumulative_percent'])\n",
    ")\n",
    "\n",
    "tbl_1[\"percent\"] = tbl_1[\"percent\"] / 100\n",
    "\n",
    "tbl_event_freq = (GT(tbl_1)\n",
    "    .tab_header(title=\"Adverse Cardiovascular Event Frequencies\")\n",
    "    .cols_label(\n",
    "        count=html(\"Count\"),  # Centering text using HTML style attribute\n",
    "        percent=html(\"Percent\")\n",
    "    )\n",
    "    .cols_align(align=\"center\")\n",
    "    .fmt_percent(columns=\"percent\")\n",
    "    .tab_source_note(\n",
    "        source_note=\"• Missing values from HadHeartAttack, HadStroke, and HadAngina were dropped.\"\n",
    "    )\n",
    ")\n",
    "tbl_event_freq.save(file=f\"{figures_path}tbl_event_freq.png\")\n",
    "\n"
   ]
  },
  {
   "cell_type": "code",
   "execution_count": null,
   "metadata": {},
   "outputs": [
    {
     "name": "stdout",
     "output_type": "stream",
     "text": [
      "['df', 'df_heart_drop', 'df_heart_drop_00', 'df_heart_drop_01', 'df_heart_drop_03', 'df_heart_drop_05', 'df_heart_drop_10', 'df_heart_drop_20', 'df_heart_drop_40']\n"
     ]
    }
   ],
   "source": [
    "### WORK IN PROGRESS DID NOT FINISH\n",
    "thresholds = [0, 1, 3, 5, 10, 20, 40]\n",
    "df_names = [\"df\", \"df_heart_drop\"]\n",
    "\n",
    "for threshold in thresholds:\n",
    "    df_names.append(f\"df_heart_drop_{threshold:02}\")\n",
    "\n",
    "# print(df_names)\n",
    "\n",
    "for df_name in df_names:\n",
    "    globals()[df_name].group_by(\n",
    "        ['HadHeartAttack', 'HadStroke', 'HadAngina', 'HadHeartDisease']\n",
    "        ).agg(pl.len().alias('Count'))\n",
    "\n"
   ]
  }
 ],
 "metadata": {
  "kernelspec": {
   "display_name": "203C",
   "language": "python",
   "name": "python3"
  },
  "language_info": {
   "codemirror_mode": {
    "name": "ipython",
    "version": 3
   },
   "file_extension": ".py",
   "mimetype": "text/x-python",
   "name": "python",
   "nbconvert_exporter": "python",
   "pygments_lexer": "ipython3",
   "version": "3.11.6"
  }
 },
 "nbformat": 4,
 "nbformat_minor": 2
}
