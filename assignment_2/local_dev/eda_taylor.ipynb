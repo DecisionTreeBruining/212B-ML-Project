{
 "cells": [
  {
   "cell_type": "markdown",
   "metadata": {},
   "source": [
    "## Assignement 2: Exploritory Data Analysis\n",
    "\n",
    "William \"Taylor\" Martinez"
   ]
  },
  {
   "cell_type": "markdown",
   "metadata": {},
   "source": [
    "#### Notes and Setup\n",
    "\n",
    "[`dplyr` to `polars`](https://docs.pola.rs/user-guide/migration/pandas/#column-assignment):\n",
    "| Operation                | Syntax                                   |\n",
    "|--------------------------|------------------------------------------|\n",
    "| read (lazy)              | `df.scan_csv()` or `df.scan_parquet()`  |\n",
    "| collect                  | `df.collect()`                           |\n",
    "| select                   | `df.select(\"col_name1\", \"col_name2\")`   |\n",
    "| filter                   | `df.filter(pl.col(\"col_name\") < 10)`    |\n",
    "| mutate                   | `df.with_columns(new_col_name = pl.col(\"col_name\") * 10)` |\n",
    "| mutate (conditional)   | ```df.with_columns( pl.when(pl.col(\"c\") == 2) .then(pl.col(\"b\")) .otherwise(pl.col(\"a\")).alias(\"a\") )``` |\n",
    "| missing                  | `null`                                   |\n",
    "| all columns               | `pl.all()`                                  |\n",
    "\n",
    "`csv` vs `parquet`:\n",
    "    Parquet was chosen over `csv` because it takes up less space, it is columnar formatted, and is has improved query performance. [medium](https://medium.com/@dinesh1.chopra/unveiling-the-battle-apache-parquet-vs-csv-exploring-the-pros-and-cons-of-data-formats-b6bfd8e43107)\n",
    "\n",
    "\n",
    "\n",
    "\n",
    "\n",
    "\n"
   ]
  },
  {
   "cell_type": "code",
   "execution_count": 9,
   "metadata": {},
   "outputs": [],
   "source": [
    "import polars as pl\n",
    "import pandas as pd\n",
    "import sidetable"
   ]
  },
  {
   "cell_type": "code",
   "execution_count": 2,
   "metadata": {},
   "outputs": [],
   "source": [
    "# Convert to parquet and read in the data\n",
    "data_path = \"../../Data/\"\n",
    "df = pl.scan_csv(data_path + \"heart_2022_with_nans.csv\")\n",
    "df.collect().write_parquet(data_path + \"heart_2022_with_nans.parquet\")\n",
    "df = pl.scan_parquet(data_path + \"heart_2022_with_nans.parquet\")"
   ]
  },
  {
   "cell_type": "markdown",
   "metadata": {},
   "source": [
    "### EDA Task 1: Create `HadHeartDisease` column\n",
    "\n",
    "1. Set `HadHeartDisease` to `True` if the survey participant reported having a least one of the following adverse cardiovascular events: heart attack (`HadHeartAttack`), stroke (`HadStroke`), or angina  (`HadAngina`)."
   ]
  },
  {
   "cell_type": "code",
   "execution_count": 3,
   "metadata": {},
   "outputs": [
    {
     "data": {
      "text/html": [
       "<div><style>\n",
       ".dataframe > thead > tr,\n",
       ".dataframe > tbody > tr {\n",
       "  text-align: right;\n",
       "  white-space: pre-wrap;\n",
       "}\n",
       "</style>\n",
       "<small>shape: (5, 41)</small><table border=\"1\" class=\"dataframe\"><thead><tr><th>State</th><th>Sex</th><th>GeneralHealth</th><th>PhysicalHealthDays</th><th>MentalHealthDays</th><th>LastCheckupTime</th><th>PhysicalActivities</th><th>SleepHours</th><th>RemovedTeeth</th><th>HadHeartAttack</th><th>HadAngina</th><th>HadStroke</th><th>HadAsthma</th><th>HadSkinCancer</th><th>HadCOPD</th><th>HadDepressiveDisorder</th><th>HadKidneyDisease</th><th>HadArthritis</th><th>HadDiabetes</th><th>DeafOrHardOfHearing</th><th>BlindOrVisionDifficulty</th><th>DifficultyConcentrating</th><th>DifficultyWalking</th><th>DifficultyDressingBathing</th><th>DifficultyErrands</th><th>SmokerStatus</th><th>ECigaretteUsage</th><th>ChestScan</th><th>RaceEthnicityCategory</th><th>AgeCategory</th><th>HeightInMeters</th><th>WeightInKilograms</th><th>BMI</th><th>AlcoholDrinkers</th><th>HIVTesting</th><th>FluVaxLast12</th><th>PneumoVaxEver</th><th>TetanusLast10Tdap</th><th>HighRiskLastYear</th><th>CovidPos</th><th>HadHeartDisease</th></tr><tr><td>str</td><td>str</td><td>str</td><td>f64</td><td>f64</td><td>str</td><td>str</td><td>f64</td><td>str</td><td>str</td><td>str</td><td>str</td><td>str</td><td>str</td><td>str</td><td>str</td><td>str</td><td>str</td><td>str</td><td>str</td><td>str</td><td>str</td><td>str</td><td>str</td><td>str</td><td>str</td><td>str</td><td>str</td><td>str</td><td>str</td><td>f64</td><td>f64</td><td>f64</td><td>str</td><td>str</td><td>str</td><td>str</td><td>str</td><td>str</td><td>str</td><td>str</td></tr></thead><tbody><tr><td>&quot;Alabama&quot;</td><td>&quot;Female&quot;</td><td>&quot;Very good&quot;</td><td>0.0</td><td>0.0</td><td>&quot;Within past ye…</td><td>&quot;No&quot;</td><td>8.0</td><td>null</td><td>&quot;No&quot;</td><td>&quot;No&quot;</td><td>&quot;No&quot;</td><td>&quot;No&quot;</td><td>&quot;No&quot;</td><td>&quot;No&quot;</td><td>&quot;No&quot;</td><td>&quot;No&quot;</td><td>&quot;No&quot;</td><td>&quot;Yes&quot;</td><td>&quot;No&quot;</td><td>&quot;No&quot;</td><td>&quot;No&quot;</td><td>&quot;No&quot;</td><td>&quot;No&quot;</td><td>&quot;No&quot;</td><td>&quot;Never smoked&quot;</td><td>&quot;Not at all (ri…</td><td>&quot;No&quot;</td><td>&quot;White only, No…</td><td>&quot;Age 80 or olde…</td><td>null</td><td>null</td><td>null</td><td>&quot;No&quot;</td><td>&quot;No&quot;</td><td>&quot;Yes&quot;</td><td>&quot;No&quot;</td><td>&quot;Yes, received …</td><td>&quot;No&quot;</td><td>&quot;No&quot;</td><td>&quot;No&quot;</td></tr><tr><td>&quot;Alabama&quot;</td><td>&quot;Female&quot;</td><td>&quot;Excellent&quot;</td><td>0.0</td><td>0.0</td><td>null</td><td>&quot;No&quot;</td><td>6.0</td><td>null</td><td>&quot;No&quot;</td><td>&quot;No&quot;</td><td>&quot;No&quot;</td><td>&quot;No&quot;</td><td>&quot;Yes&quot;</td><td>&quot;No&quot;</td><td>&quot;No&quot;</td><td>&quot;No&quot;</td><td>&quot;No&quot;</td><td>&quot;No&quot;</td><td>&quot;No&quot;</td><td>&quot;No&quot;</td><td>&quot;No&quot;</td><td>&quot;No&quot;</td><td>&quot;No&quot;</td><td>&quot;No&quot;</td><td>&quot;Never smoked&quot;</td><td>&quot;Never used e-c…</td><td>&quot;No&quot;</td><td>&quot;White only, No…</td><td>&quot;Age 80 or olde…</td><td>1.6</td><td>68.04</td><td>26.57</td><td>&quot;No&quot;</td><td>&quot;No&quot;</td><td>&quot;No&quot;</td><td>&quot;No&quot;</td><td>&quot;No, did not re…</td><td>&quot;No&quot;</td><td>&quot;No&quot;</td><td>&quot;No&quot;</td></tr><tr><td>&quot;Alabama&quot;</td><td>&quot;Female&quot;</td><td>&quot;Very good&quot;</td><td>2.0</td><td>3.0</td><td>&quot;Within past ye…</td><td>&quot;Yes&quot;</td><td>5.0</td><td>null</td><td>&quot;No&quot;</td><td>&quot;No&quot;</td><td>&quot;No&quot;</td><td>&quot;No&quot;</td><td>&quot;Yes&quot;</td><td>&quot;No&quot;</td><td>&quot;No&quot;</td><td>&quot;No&quot;</td><td>&quot;No&quot;</td><td>&quot;No&quot;</td><td>&quot;No&quot;</td><td>&quot;No&quot;</td><td>&quot;No&quot;</td><td>&quot;No&quot;</td><td>&quot;No&quot;</td><td>&quot;No&quot;</td><td>&quot;Never smoked&quot;</td><td>&quot;Never used e-c…</td><td>&quot;No&quot;</td><td>&quot;White only, No…</td><td>&quot;Age 55 to 59&quot;</td><td>1.57</td><td>63.5</td><td>25.61</td><td>&quot;No&quot;</td><td>&quot;No&quot;</td><td>&quot;No&quot;</td><td>&quot;No&quot;</td><td>null</td><td>&quot;No&quot;</td><td>&quot;Yes&quot;</td><td>&quot;No&quot;</td></tr><tr><td>&quot;Alabama&quot;</td><td>&quot;Female&quot;</td><td>&quot;Excellent&quot;</td><td>0.0</td><td>0.0</td><td>&quot;Within past ye…</td><td>&quot;Yes&quot;</td><td>7.0</td><td>null</td><td>&quot;No&quot;</td><td>&quot;No&quot;</td><td>&quot;No&quot;</td><td>&quot;Yes&quot;</td><td>&quot;No&quot;</td><td>&quot;No&quot;</td><td>&quot;No&quot;</td><td>&quot;No&quot;</td><td>&quot;Yes&quot;</td><td>&quot;No&quot;</td><td>&quot;No&quot;</td><td>&quot;No&quot;</td><td>&quot;No&quot;</td><td>&quot;No&quot;</td><td>&quot;No&quot;</td><td>&quot;No&quot;</td><td>&quot;Current smoker…</td><td>&quot;Never used e-c…</td><td>&quot;Yes&quot;</td><td>&quot;White only, No…</td><td>null</td><td>1.65</td><td>63.5</td><td>23.3</td><td>&quot;No&quot;</td><td>&quot;No&quot;</td><td>&quot;Yes&quot;</td><td>&quot;Yes&quot;</td><td>&quot;No, did not re…</td><td>&quot;No&quot;</td><td>&quot;No&quot;</td><td>&quot;No&quot;</td></tr><tr><td>&quot;Alabama&quot;</td><td>&quot;Female&quot;</td><td>&quot;Fair&quot;</td><td>2.0</td><td>0.0</td><td>&quot;Within past ye…</td><td>&quot;Yes&quot;</td><td>9.0</td><td>null</td><td>&quot;No&quot;</td><td>&quot;No&quot;</td><td>&quot;No&quot;</td><td>&quot;No&quot;</td><td>&quot;No&quot;</td><td>&quot;No&quot;</td><td>&quot;No&quot;</td><td>&quot;No&quot;</td><td>&quot;No&quot;</td><td>&quot;No&quot;</td><td>&quot;No&quot;</td><td>&quot;No&quot;</td><td>&quot;No&quot;</td><td>&quot;No&quot;</td><td>&quot;No&quot;</td><td>&quot;No&quot;</td><td>&quot;Never smoked&quot;</td><td>&quot;Never used e-c…</td><td>&quot;Yes&quot;</td><td>&quot;White only, No…</td><td>&quot;Age 40 to 44&quot;</td><td>1.57</td><td>53.98</td><td>21.77</td><td>&quot;Yes&quot;</td><td>&quot;No&quot;</td><td>&quot;No&quot;</td><td>&quot;Yes&quot;</td><td>&quot;No, did not re…</td><td>&quot;No&quot;</td><td>&quot;No&quot;</td><td>&quot;No&quot;</td></tr></tbody></table></div>"
      ],
      "text/plain": [
       "shape: (5, 41)\n",
       "┌─────────┬────────┬────────────┬────────────┬───┬────────────┬────────────┬──────────┬────────────┐\n",
       "│ State   ┆ Sex    ┆ GeneralHea ┆ PhysicalHe ┆ … ┆ TetanusLas ┆ HighRiskLa ┆ CovidPos ┆ HadHeartDi │\n",
       "│ ---     ┆ ---    ┆ lth        ┆ althDays   ┆   ┆ t10Tdap    ┆ stYear     ┆ ---      ┆ sease      │\n",
       "│ str     ┆ str    ┆ ---        ┆ ---        ┆   ┆ ---        ┆ ---        ┆ str      ┆ ---        │\n",
       "│         ┆        ┆ str        ┆ f64        ┆   ┆ str        ┆ str        ┆          ┆ str        │\n",
       "╞═════════╪════════╪════════════╪════════════╪═══╪════════════╪════════════╪══════════╪════════════╡\n",
       "│ Alabama ┆ Female ┆ Very good  ┆ 0.0        ┆ … ┆ Yes,       ┆ No         ┆ No       ┆ No         │\n",
       "│         ┆        ┆            ┆            ┆   ┆ received   ┆            ┆          ┆            │\n",
       "│         ┆        ┆            ┆            ┆   ┆ tetanus    ┆            ┆          ┆            │\n",
       "│         ┆        ┆            ┆            ┆   ┆ shot but   ┆            ┆          ┆            │\n",
       "│         ┆        ┆            ┆            ┆   ┆ n…         ┆            ┆          ┆            │\n",
       "│ Alabama ┆ Female ┆ Excellent  ┆ 0.0        ┆ … ┆ No, did    ┆ No         ┆ No       ┆ No         │\n",
       "│         ┆        ┆            ┆            ┆   ┆ not        ┆            ┆          ┆            │\n",
       "│         ┆        ┆            ┆            ┆   ┆ receive    ┆            ┆          ┆            │\n",
       "│         ┆        ┆            ┆            ┆   ┆ any        ┆            ┆          ┆            │\n",
       "│         ┆        ┆            ┆            ┆   ┆ tetanus …  ┆            ┆          ┆            │\n",
       "│ Alabama ┆ Female ┆ Very good  ┆ 2.0        ┆ … ┆ null       ┆ No         ┆ Yes      ┆ No         │\n",
       "│ Alabama ┆ Female ┆ Excellent  ┆ 0.0        ┆ … ┆ No, did    ┆ No         ┆ No       ┆ No         │\n",
       "│         ┆        ┆            ┆            ┆   ┆ not        ┆            ┆          ┆            │\n",
       "│         ┆        ┆            ┆            ┆   ┆ receive    ┆            ┆          ┆            │\n",
       "│         ┆        ┆            ┆            ┆   ┆ any        ┆            ┆          ┆            │\n",
       "│         ┆        ┆            ┆            ┆   ┆ tetanus …  ┆            ┆          ┆            │\n",
       "│ Alabama ┆ Female ┆ Fair       ┆ 2.0        ┆ … ┆ No, did    ┆ No         ┆ No       ┆ No         │\n",
       "│         ┆        ┆            ┆            ┆   ┆ not        ┆            ┆          ┆            │\n",
       "│         ┆        ┆            ┆            ┆   ┆ receive    ┆            ┆          ┆            │\n",
       "│         ┆        ┆            ┆            ┆   ┆ any        ┆            ┆          ┆            │\n",
       "│         ┆        ┆            ┆            ┆   ┆ tetanus …  ┆            ┆          ┆            │\n",
       "└─────────┴────────┴────────────┴────────────┴───┴────────────┴────────────┴──────────┴────────────┘"
      ]
     },
     "execution_count": 3,
     "metadata": {},
     "output_type": "execute_result"
    }
   ],
   "source": [
    "### Create HadHeartDisease Column\n",
    "# Conditional mutate\n",
    "df = df.with_columns(\n",
    "    pl.when(\n",
    "        (pl.col(\"HadHeartAttack\") == \"Yes\") |\n",
    "        (pl.col(\"HadStroke\") == \"Yes\") |\n",
    "        (pl.col(\"HadAngina\") == \"Yes\")\n",
    "    )\n",
    "    .then(pl.lit(\"Yes\"))\n",
    "    .otherwise(pl.lit(\"No\"))\n",
    "    .alias(\"HadHeartDisease\")\n",
    ")\n",
    "\n",
    "df.fetch(5)"
   ]
  },
  {
   "cell_type": "markdown",
   "metadata": {},
   "source": [
    "### EDA Task 2: Drop Observations With Too Many Missing Values\n",
    "\n",
    "1. Create `df_heart_drop` where participants are dropped if Heart attack (`HadHeartAttack`), stroke (`HadStroke`), or angina  (`HadAngina`) are missing.\n",
    "\n",
    "2. From `df_heart_drop`, make multiple dataframes that drop survey participants based\n",
    "on the number of missing responses.\n",
    "\n",
    "3. Collect the dataframes and return the length of each entry.\n"
   ]
  },
  {
   "cell_type": "code",
   "execution_count": 4,
   "metadata": {},
   "outputs": [
    {
     "name": "stdout",
     "output_type": "stream",
     "text": [
      "df_heart_drop_00: 246022\n",
      "df_heart_drop_01: 331181\n",
      "df_heart_drop_03: 381718\n",
      "df_heart_drop_05: 391725\n",
      "df_heart_drop_10: 410245\n",
      "df_heart_drop_20: 436507\n",
      "df_heart_drop_40: 437510\n"
     ]
    }
   ],
   "source": [
    "### Automatically drop observations where HadHeartAttack, HadStroke, and HadAngina are missing.\n",
    "df_heart_drop = df.drop_nulls(subset=[\"HadHeartAttack\", \"HadStroke\", \"HadAngina\"])\n",
    "\n",
    "### Drop Observations Based On Number Of Missing Values\n",
    "thresholds = [0, 1, 3, 5, 10, 20, 40] # if number of missing is > threshold, drop the observation.\n",
    "for threshold in thresholds:\n",
    "    df_name = f\"df_heart_drop_{threshold:02}\" \n",
    "    # Drop if the row sum of all columns where the value is null is greater than threshold\n",
    "    globals()[df_name] = df_heart_drop.filter(pl.sum_horizontal(pl.all().is_null()) <= threshold)\n",
    "    # Print the number of rows in each dataframe.\n",
    "    print(df_name + \": \" + str(globals()[df_name].select(pl.len()).collect().item()))"
   ]
  },
  {
   "cell_type": "markdown",
   "metadata": {},
   "source": [
    "### EDA Task 3: Impute remaining missing values\n",
    "\n",
    "1. Show column types\n",
    "\n",
    "2. Impute float and integer values by median.\n",
    "\n",
    "3. Impute string values by mode.\n",
    "\n",
    "Note: This is applied to df_heart_drop, other dataframes can be imputed.\n"
   ]
  },
  {
   "cell_type": "code",
   "execution_count": 5,
   "metadata": {},
   "outputs": [],
   "source": [
    "### Unique data types:\n",
    "# print(set(df_heart_drop.dtypes))\n",
    "\n",
    "### Imputation\n",
    "def impute_df(df):\n",
    "    df = df.collect() # Collect because iteration is needed.\n",
    "    for i in range(len(df.columns)):\n",
    "        col_name = df.columns[i]\n",
    "        dtype = df.dtypes[i]\n",
    "        ## Impute string using the mode\n",
    "        if dtype == pl.Utf8:\n",
    "            mode_value = df[col_name].mode()\n",
    "            df = df.with_columns(df[col_name].fill_null(mode_value))\n",
    "        ## Impute float using the median\n",
    "        elif dtype == pl.Float64:\n",
    "            median_value = df[col_name].median()\n",
    "            df = df.with_columns(df[col_name].fill_null(median_value))\n",
    "        ## Warning catch: if type is not a string or float.\n",
    "        else:\n",
    "            print(\"Unexpected type:\", dtype)\n",
    "    return df\n",
    "\n",
    "### Show the number of missing values for each column\n",
    "# impute_df(df_heart_drop).null_count()\n"
   ]
  },
  {
   "cell_type": "markdown",
   "metadata": {},
   "source": [
    "### EDA Task 4: Show tables/graphs representing each task\n",
    "\n",
    "1. Table comparing the number of observations of `HadHeartAttack`, `HadStroke`, `HadAngina` and the summarized column `HadHeartDisease`.\n",
    "    a. Provide an example using a rudimentary model (Logit Regression with enet regularization)\n",
    "\n",
    "2. Table showing the number of observations after setting a missing threshold.\n",
    "    a. Provide an example using a rudimentary model (Logit Regression with enet regularization)\n",
    "\n",
    "3. Table comparing using imputation."
   ]
  },
  {
   "cell_type": "code",
   "execution_count": 14,
   "metadata": {},
   "outputs": [
    {
     "data": {
      "text/html": [
       "<div>\n",
       "<style scoped>\n",
       "    .dataframe tbody tr th:only-of-type {\n",
       "        vertical-align: middle;\n",
       "    }\n",
       "\n",
       "    .dataframe tbody tr th {\n",
       "        vertical-align: top;\n",
       "    }\n",
       "\n",
       "    .dataframe thead th {\n",
       "        text-align: right;\n",
       "    }\n",
       "</style>\n",
       "<table border=\"1\" class=\"dataframe\">\n",
       "  <thead>\n",
       "    <tr style=\"text-align: right;\">\n",
       "      <th></th>\n",
       "      <th>HadHeartAttack</th>\n",
       "      <th>HadStroke</th>\n",
       "      <th>HadAngina</th>\n",
       "      <th>HadHeartDisease</th>\n",
       "      <th>count</th>\n",
       "      <th>percent</th>\n",
       "      <th>cumulative_count</th>\n",
       "      <th>cumulative_percent</th>\n",
       "    </tr>\n",
       "  </thead>\n",
       "  <tbody>\n",
       "    <tr>\n",
       "      <th>0</th>\n",
       "      <td>No</td>\n",
       "      <td>No</td>\n",
       "      <td>No</td>\n",
       "      <td>No</td>\n",
       "      <td>387696</td>\n",
       "      <td>88.614203</td>\n",
       "      <td>387696</td>\n",
       "      <td>88.614203</td>\n",
       "    </tr>\n",
       "    <tr>\n",
       "      <th>1</th>\n",
       "      <td>No</td>\n",
       "      <td>No</td>\n",
       "      <td>Yes</td>\n",
       "      <td>Yes</td>\n",
       "      <td>12438</td>\n",
       "      <td>2.842906</td>\n",
       "      <td>400134</td>\n",
       "      <td>91.457110</td>\n",
       "    </tr>\n",
       "    <tr>\n",
       "      <th>2</th>\n",
       "      <td>No</td>\n",
       "      <td>Yes</td>\n",
       "      <td>No</td>\n",
       "      <td>Yes</td>\n",
       "      <td>11939</td>\n",
       "      <td>2.728852</td>\n",
       "      <td>412073</td>\n",
       "      <td>94.185961</td>\n",
       "    </tr>\n",
       "    <tr>\n",
       "      <th>3</th>\n",
       "      <td>Yes</td>\n",
       "      <td>No</td>\n",
       "      <td>No</td>\n",
       "      <td>Yes</td>\n",
       "      <td>9789</td>\n",
       "      <td>2.237435</td>\n",
       "      <td>421862</td>\n",
       "      <td>96.423396</td>\n",
       "    </tr>\n",
       "    <tr>\n",
       "      <th>4</th>\n",
       "      <td>Yes</td>\n",
       "      <td>No</td>\n",
       "      <td>Yes</td>\n",
       "      <td>Yes</td>\n",
       "      <td>9259</td>\n",
       "      <td>2.116294</td>\n",
       "      <td>431121</td>\n",
       "      <td>98.539691</td>\n",
       "    </tr>\n",
       "    <tr>\n",
       "      <th>5</th>\n",
       "      <td>Yes</td>\n",
       "      <td>Yes</td>\n",
       "      <td>Yes</td>\n",
       "      <td>Yes</td>\n",
       "      <td>2568</td>\n",
       "      <td>0.586958</td>\n",
       "      <td>433689</td>\n",
       "      <td>99.126649</td>\n",
       "    </tr>\n",
       "    <tr>\n",
       "      <th>6</th>\n",
       "      <td>Yes</td>\n",
       "      <td>Yes</td>\n",
       "      <td>No</td>\n",
       "      <td>Yes</td>\n",
       "      <td>2091</td>\n",
       "      <td>0.477932</td>\n",
       "      <td>435780</td>\n",
       "      <td>99.604580</td>\n",
       "    </tr>\n",
       "    <tr>\n",
       "      <th>7</th>\n",
       "      <td>No</td>\n",
       "      <td>Yes</td>\n",
       "      <td>Yes</td>\n",
       "      <td>Yes</td>\n",
       "      <td>1730</td>\n",
       "      <td>0.395420</td>\n",
       "      <td>437510</td>\n",
       "      <td>100.000000</td>\n",
       "    </tr>\n",
       "  </tbody>\n",
       "</table>\n",
       "</div>"
      ],
      "text/plain": [
       "  HadHeartAttack HadStroke HadAngina HadHeartDisease   count    percent  \\\n",
       "0             No        No        No              No  387696  88.614203   \n",
       "1             No        No       Yes             Yes   12438   2.842906   \n",
       "2             No       Yes        No             Yes   11939   2.728852   \n",
       "3            Yes        No        No             Yes    9789   2.237435   \n",
       "4            Yes        No       Yes             Yes    9259   2.116294   \n",
       "5            Yes       Yes       Yes             Yes    2568   0.586958   \n",
       "6            Yes       Yes        No             Yes    2091   0.477932   \n",
       "7             No       Yes       Yes             Yes    1730   0.395420   \n",
       "\n",
       "   cumulative_count  cumulative_percent  \n",
       "0            387696           88.614203  \n",
       "1            400134           91.457110  \n",
       "2            412073           94.185961  \n",
       "3            421862           96.423396  \n",
       "4            431121           98.539691  \n",
       "5            433689           99.126649  \n",
       "6            435780           99.604580  \n",
       "7            437510          100.000000  "
      ]
     },
     "execution_count": 14,
     "metadata": {},
     "output_type": "execute_result"
    }
   ],
   "source": [
    "### Table 1: Comparing `HadHeartAttack`, `HadStroke`, `HadAngina` to `HadHeartDisease`\n",
    "df.collect().to_pandas().stb.freq([\"HadHeartAttack\", \"HadStroke\", \"HadAngina\", \"HadHeartDisease\"])"
   ]
  }
 ],
 "metadata": {
  "kernelspec": {
   "display_name": "203C",
   "language": "python",
   "name": "python3"
  },
  "language_info": {
   "codemirror_mode": {
    "name": "ipython",
    "version": 3
   },
   "file_extension": ".py",
   "mimetype": "text/x-python",
   "name": "python",
   "nbconvert_exporter": "python",
   "pygments_lexer": "ipython3",
   "version": "3.11.6"
  }
 },
 "nbformat": 4,
 "nbformat_minor": 2
}
