{
 "cells": [
  {
   "cell_type": "code",
   "execution_count": 23,
   "metadata": {},
   "outputs": [],
   "source": [
    "import numpy as np \n",
    "import pandas as pd\n",
    "import seaborn as sns\n",
    "from sklearn.linear_model import LogisticRegression\n",
    "from sklearn.model_selection import train_test_split\n",
    "from sklearn import metrics\n",
    "from sklearn.metrics import (\n",
    "    accuracy_score,\n",
    "    confusion_matrix,\n",
    "    precision_score,\n",
    "    recall_score,\n",
    "    f1_score,\n",
    "    roc_curve,\n",
    "    roc_auc_score\n",
    ")"
   ]
  },
  {
   "cell_type": "markdown",
   "metadata": {},
   "source": [
    "### Logistic Regression Classifier for testing"
   ]
  },
  {
   "cell_type": "code",
   "execution_count": 32,
   "metadata": {},
   "outputs": [],
   "source": [
    "# prepare data for logistic regression\n",
    "def logi_reg(df, target, target_names, thresh_n):\n",
    "    \"\"\"You know what it does \n",
    "\n",
    "        Input: \n",
    "            df: pandas dataframe\n",
    "            target: target column name\n",
    "            target_names: the names of the target classes eg.\"Yes\" and \"No\"\n",
    "            thresh_n: threshold used on this dataset\n",
    "\n",
    "        Output:\n",
    "            None \n",
    "    \"\"\"\n",
    "\n",
    "    # one hot encoding on categorical features \n",
    "    features = df.drop(columns = [target])   \n",
    "    df = pd.get_dummies(df, columns=features.select_dtypes(include=['object']).columns)\n",
    "\n",
    "    # data split\n",
    "    df_train, df_test = train_test_split(df, \n",
    "                                        test_size = 0.25, \n",
    "                                        random_state = 69,\n",
    "                                        stratify = df[target])\n",
    "\n",
    "    X_train = df_train.drop(columns = [target])\n",
    "    y_train = df_train[target]\n",
    "    X_test = df_test.drop(columns = [target])\n",
    "    y_test = df_test[target]\n",
    "\n",
    "    # print the size of the training and test set\n",
    "    print (f\"The threshold for removing NAs is {thresh_n}\")\n",
    "    print (f\"Size of training set : {df_train.shape[0]} rows , {df_train.shape[1]} columns\")\n",
    "    print (f\"Size of testing set : {df_test.shape[0]} rows , {df_test.shape[1]} columns\")\n",
    "\n",
    "    # fit logistic regression model with elastic net regularization\n",
    "    log_reg = LogisticRegression(penalty = 'elasticnet',\n",
    "                                solver = 'saga',\n",
    "                                l1_ratio = 0.5,\n",
    "                                max_iter = 1000)\n",
    "    \n",
    "    log_reg.fit(X_train, y_train)\n",
    "\n",
    "    # predict on test set\n",
    "    y_test_pred = log_reg.predict(X_test)\n",
    "    y_pred_proba = log_reg.predict_proba(X_test)[:,1]\n",
    "\n",
    "    # Evaluate performance\n",
    "    # print('\\n===============================\\n'+\n",
    "    #   'Classification report on test data' +\n",
    "    #   '\\n===============================\\n')\n",
    "    # print(classification_report(y_test, y_test_pred, target_names=target_names))\n",
    "\n",
    "    print('\\n===============================\\n'+\n",
    "        'Confusion matrix on test data' +\n",
    "        '\\n===============================\\n')\n",
    "    print(confusion_matrix(y_test, y_test_pred))\n",
    "    \n",
    "    print(\"Accuracy:\", accuracy_score(y_test, y_test_pred))\n",
    "    print(\"Precision:\", precision_score(y_test, y_test_pred, pos_label='Yes'))\n",
    "    print(\"Recall:\", recall_score(y_test, y_test_pred, pos_label='Yes'))\n",
    "    print(\"F1 Score:\", f1_score(y_test, y_test_pred, pos_label='Yes'))\n",
    "    print(\"ROC AUC:\", roc_auc_score(y_test, y_pred_proba))\n",
    "\n"
   ]
  },
  {
   "cell_type": "markdown",
   "metadata": {},
   "source": [
    "### Logistic Regression "
   ]
  },
  {
   "cell_type": "code",
   "execution_count": null,
   "metadata": {},
   "outputs": [],
   "source": []
  },
  {
   "cell_type": "markdown",
   "metadata": {},
   "source": [
    "### K-nearest Neighbors"
   ]
  },
  {
   "cell_type": "code",
   "execution_count": null,
   "metadata": {},
   "outputs": [],
   "source": []
  }
 ],
 "metadata": {
  "kernelspec": {
   "display_name": "base",
   "language": "python",
   "name": "python3"
  },
  "language_info": {
   "codemirror_mode": {
    "name": "ipython",
    "version": 3
   },
   "file_extension": ".py",
   "mimetype": "text/x-python",
   "name": "python",
   "nbconvert_exporter": "python",
   "pygments_lexer": "ipython3",
   "version": "3.8.3"
  }
 },
 "nbformat": 4,
 "nbformat_minor": 2
}
