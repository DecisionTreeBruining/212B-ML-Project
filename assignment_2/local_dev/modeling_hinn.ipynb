{
  "cells": [
    {
      "cell_type": "code",
      "execution_count": 19,
      "metadata": {
        "id": "TGcvDjiJ0y8K"
      },
      "outputs": [],
      "source": [
        "import numpy as np\n",
        "import pandas as pd\n",
        "import seaborn as sns\n",
        "import matplotlib.pyplot as plt\n",
        "from sklearn.compose import ColumnTransformer\n",
        "from sklearn.preprocessing import OneHotEncoder, OrdinalEncoder\n",
        "from sklearn.linear_model import LogisticRegression\n",
        "from sklearn.model_selection import train_test_split\n",
        "from sklearn.model_selection import GridSearchCV\n",
        "from sklearn.pipeline import Pipeline\n",
        "from sklearn.preprocessing import StandardScaler\n",
        "from sklearn import metrics\n",
        "from sklearn.metrics import (\n",
        "    make_scorer,\n",
        "    accuracy_score,\n",
        "    confusion_matrix,\n",
        "    precision_score,\n",
        "    recall_score,\n",
        "    f1_score,\n",
        "    roc_curve,\n",
        "    roc_auc_score,\n",
        "    classification_report\n",
        ")\n",
        "from scipy.sparse import issparse\n",
        "from sklearn.neighbors import KNeighborsClassifier\n",
        "from sklearn.model_selection import cross_val_score, StratifiedKFold\n"
      ]
    },
    {
      "cell_type": "code",
      "execution_count": 4,
      "metadata": {
        "colab": {
          "base_uri": "https://localhost:8080/"
        },
        "id": "_obXnOin1tXY",
        "outputId": "026ccd06-e6ed-4eb6-f4b2-7fc1a61ea36a"
      },
      "outputs": [
        {
          "name": "stdout",
          "output_type": "stream",
          "text": [
            "Mounted at /content/gdrive\n"
          ]
        }
      ],
      "source": [
        "# from google.colab import drive\n",
        "# drive.mount('/content/gdrive', force_remount=True)"
      ]
    },
    {
      "cell_type": "code",
      "execution_count": 6,
      "metadata": {
        "id": "Vtqyv78F2Af8"
      },
      "outputs": [],
      "source": [
        "# indir = '/content/gdrive/MyDrive/Colab Notebooks/Data/'\n",
        "# X_train = indir + 'X_train.csv'\n",
        "# X_test = indir + 'X_test.csv'\n",
        "# y_train = indir + 'y_train.csv'\n",
        "# y_test = indir + 'y_test.csv'\n",
        "\n",
        "# # read the data sets\n",
        "# X_train = pd.read_csv(X_train)\n",
        "# X_test = pd.read_csv(X_test)\n",
        "# y_train = pd.read_csv(y_train)\n",
        "# y_test = pd.read_csv(y_test)"
      ]
    },
    {
      "cell_type": "code",
      "execution_count": 20,
      "metadata": {},
      "outputs": [],
      "source": [
        "indir = '../../Data/GoogleDrive/'\n",
        "X_train = indir + 'X_train.csv'\n",
        "X_test = indir + 'X_test.csv'\n",
        "y_train = indir + 'y_train.csv'\n",
        "y_test = indir + 'y_test.csv'\n",
        "\n",
        "# read the data sets\n",
        "X_train = pd.read_csv(X_train)\n",
        "X_test = pd.read_csv(X_test)\n",
        "y_train = pd.read_csv(y_train)\n",
        "y_test = pd.read_csv(y_test)"
      ]
    },
    {
      "cell_type": "code",
      "execution_count": 21,
      "metadata": {
        "id": "4JKooe553LR5"
      },
      "outputs": [],
      "source": [
        "# drop the first column\n",
        "X_train = X_train.iloc[:, 1:]\n",
        "X_test = X_test.iloc[:, 1:]\n",
        "y_train = y_train.iloc[:, 1:]\n",
        "y_test = y_test.iloc[:, 1:]"
      ]
    },
    {
      "cell_type": "markdown",
      "metadata": {
        "id": "-bN33Qnx0y8P"
      },
      "source": [
        "### Logistic Regression Classifier for testing"
      ]
    },
    {
      "cell_type": "code",
      "execution_count": 14,
      "metadata": {
        "id": "LuUqGvgx0y8Q"
      },
      "outputs": [],
      "source": [
        "# prepare data for logistic regression\n",
        "def logi_reg(df, target, target_names, thresh_n):\n",
        "    \"\"\"You know what it does\n",
        "\n",
        "        Input:\n",
        "            df: pandas dataframe\n",
        "            target: target column name\n",
        "            target_names: the names of the target classes eg.\"Yes\" and \"No\"\n",
        "            thresh_n: threshold used on this dataset\n",
        "\n",
        "        Output:\n",
        "            None\n",
        "    \"\"\"\n",
        "\n",
        "    # one hot encoding on categorical features\n",
        "    features = df.drop(columns = [target])\n",
        "    df = pd.get_dummies(df, columns=features.select_dtypes(include=['object']).columns)\n",
        "\n",
        "    # data split\n",
        "    df_train, df_test = train_test_split(df,\n",
        "                                        test_size = 0.25,\n",
        "                                        random_state = 69,\n",
        "                                        stratify = df[target])\n",
        "\n",
        "    X_train = df_train.drop(columns = [target])\n",
        "    y_train = df_train[target]\n",
        "    X_test = df_test.drop(columns = [target])\n",
        "    y_test = df_test[target]\n",
        "\n",
        "    # print the size of the training and test set\n",
        "    print (f\"The threshold for removing NAs is {thresh_n}\")\n",
        "    print (f\"Size of training set : {df_train.shape[0]} rows , {df_train.shape[1]} columns\")\n",
        "    print (f\"Size of testing set : {df_test.shape[0]} rows , {df_test.shape[1]} columns\")\n",
        "\n",
        "    # fit logistic regression model with elastic net regularization\n",
        "    log_reg = LogisticRegression(penalty = 'elasticnet',\n",
        "                                solver = 'saga',\n",
        "                                l1_ratio = 0.5,\n",
        "                                max_iter = 1000)\n",
        "\n",
        "    log_reg.fit(X_train, y_train)\n",
        "\n",
        "    # predict on test set\n",
        "    y_test_pred = log_reg.predict(X_test)\n",
        "    y_pred_proba = log_reg.predict_proba(X_test)[:,1]\n",
        "\n",
        "    # Evaluate performance\n",
        "    # print('\\n===============================\\n'+\n",
        "    #   'Classification report on test data' +\n",
        "    #   '\\n===============================\\n')\n",
        "    # print(classification_report(y_test, y_test_pred, target_names=target_names))\n",
        "\n",
        "    print('\\n===============================\\n'+\n",
        "        'Confusion matrix on test data' +\n",
        "        '\\n===============================\\n')\n",
        "    print(confusion_matrix(y_test, y_test_pred))\n",
        "\n",
        "    print(\"Accuracy:\", accuracy_score(y_test, y_test_pred))\n",
        "    print(\"Precision:\", precision_score(y_test, y_test_pred, pos_label='Yes'))\n",
        "    print(\"Recall:\", recall_score(y_test, y_test_pred, pos_label='Yes'))\n",
        "    print(\"F1 Score:\", f1_score(y_test, y_test_pred, pos_label='Yes'))\n",
        "    print(\"ROC AUC:\", roc_auc_score(y_test, y_pred_proba))\n",
        "\n"
      ]
    },
    {
      "cell_type": "code",
      "execution_count": 22,
      "metadata": {
        "id": "2Q71tH0i0y8R"
      },
      "outputs": [],
      "source": [
        "def model_eval(model, testing_features, testing_labels):\n",
        "\n",
        "    '''prints evaluation scores for machine learning models, including\n",
        "       micro averaged f1 score, accuracy, precision, and recall\n",
        "\n",
        "    Input arguments:\n",
        "        model: machine learning model\n",
        "        testing_features: features in the test set (array)\n",
        "        testing_labels: labels in the test set\n",
        "\n",
        "    Output:\n",
        "        f1: micro averaged f1 score (float)\n",
        "\n",
        "    '''\n",
        "\n",
        "    pred = model.predict(testing_features)\n",
        "    roc_score = roc_auc_score(testing_labels, pred)\n",
        "    acc = accuracy_score(testing_labels, pred)\n",
        "    report = classification_report(testing_labels, pred,output_dict = True)\n",
        "    precision = report['0']['precision']\n",
        "    recall = report['0']['recall']\n",
        "    f1 = report['0']['f1-score']\n",
        "\n",
        "    print('Model Performance')\n",
        "    print('F1_score: ' + str(f1))\n",
        "    print('Accuracy = '+ str(acc))\n",
        "    print('ROC: ' + str(roc_score))\n",
        "    print('Precision: ' + str(precision))\n",
        "    print('Recall: ' + str(recall))\n",
        "\n",
        "    return f1"
      ]
    },
    {
      "cell_type": "markdown",
      "metadata": {
        "id": "dILHlrCd0y8S"
      },
      "source": [
        "### Logistic Regression"
      ]
    },
    {
      "cell_type": "code",
      "execution_count": 23,
      "metadata": {
        "colab": {
          "base_uri": "https://localhost:8080/",
          "height": 373
        },
        "id": "nMRKP3-m0y8S",
        "outputId": "9e6f4dc0-62ea-4c2a-be8c-94d7c57cfb41"
      },
      "outputs": [
        {
          "name": "stderr",
          "output_type": "stream",
          "text": [
            "/Users/xiaogouzuomeng/opt/anaconda3/lib/python3.9/site-packages/sklearn/metrics/_scorer.py:548: FutureWarning: The `needs_threshold` and `needs_proba` parameter are deprecated in version 1.4 and will be removed in 1.6. You can either let `response_method` be `None` or set it to `predict` to preserve the same behaviour.\n",
            "  warnings.warn(\n"
          ]
        },
        {
          "name": "stdout",
          "output_type": "stream",
          "text": [
            "Fitting 5 folds for each of 48 candidates, totalling 240 fits\n"
          ]
        },
        {
          "name": "stderr",
          "output_type": "stream",
          "text": [
            "/Users/xiaogouzuomeng/opt/anaconda3/lib/python3.9/site-packages/sklearn/utils/validation.py:1300: DataConversionWarning: A column-vector y was passed when a 1d array was expected. Please change the shape of y to (n_samples, ), for example using ravel().\n",
            "  y = column_or_1d(y, warn=True)\n",
            "/Users/xiaogouzuomeng/opt/anaconda3/lib/python3.9/site-packages/sklearn/utils/validation.py:1300: DataConversionWarning: A column-vector y was passed when a 1d array was expected. Please change the shape of y to (n_samples, ), for example using ravel().\n",
            "  y = column_or_1d(y, warn=True)\n",
            "/Users/xiaogouzuomeng/opt/anaconda3/lib/python3.9/site-packages/sklearn/utils/validation.py:1300: DataConversionWarning: A column-vector y was passed when a 1d array was expected. Please change the shape of y to (n_samples, ), for example using ravel().\n",
            "  y = column_or_1d(y, warn=True)\n",
            "/Users/xiaogouzuomeng/opt/anaconda3/lib/python3.9/site-packages/sklearn/utils/validation.py:1300: DataConversionWarning: A column-vector y was passed when a 1d array was expected. Please change the shape of y to (n_samples, ), for example using ravel().\n",
            "  y = column_or_1d(y, warn=True)\n",
            "/Users/xiaogouzuomeng/opt/anaconda3/lib/python3.9/site-packages/sklearn/utils/validation.py:1300: DataConversionWarning: A column-vector y was passed when a 1d array was expected. Please change the shape of y to (n_samples, ), for example using ravel().\n",
            "  y = column_or_1d(y, warn=True)\n",
            "/Users/xiaogouzuomeng/opt/anaconda3/lib/python3.9/site-packages/sklearn/utils/validation.py:1300: DataConversionWarning: A column-vector y was passed when a 1d array was expected. Please change the shape of y to (n_samples, ), for example using ravel().\n",
            "  y = column_or_1d(y, warn=True)\n",
            "/Users/xiaogouzuomeng/opt/anaconda3/lib/python3.9/site-packages/sklearn/utils/validation.py:1300: DataConversionWarning: A column-vector y was passed when a 1d array was expected. Please change the shape of y to (n_samples, ), for example using ravel().\n",
            "  y = column_or_1d(y, warn=True)\n",
            "/Users/xiaogouzuomeng/opt/anaconda3/lib/python3.9/site-packages/sklearn/utils/validation.py:1300: DataConversionWarning: A column-vector y was passed when a 1d array was expected. Please change the shape of y to (n_samples, ), for example using ravel().\n",
            "  y = column_or_1d(y, warn=True)\n",
            "/Users/xiaogouzuomeng/opt/anaconda3/lib/python3.9/site-packages/sklearn/utils/validation.py:1300: DataConversionWarning: A column-vector y was passed when a 1d array was expected. Please change the shape of y to (n_samples, ), for example using ravel().\n",
            "  y = column_or_1d(y, warn=True)\n",
            "/Users/xiaogouzuomeng/opt/anaconda3/lib/python3.9/site-packages/sklearn/utils/validation.py:1300: DataConversionWarning: A column-vector y was passed when a 1d array was expected. Please change the shape of y to (n_samples, ), for example using ravel().\n",
            "  y = column_or_1d(y, warn=True)\n"
          ]
        },
        {
          "name": "stdout",
          "output_type": "stream",
          "text": [
            "[CV] END clf__C=0.001, clf__class_weight=None, clf__penalty=l1, clf__solver=liblinear; total time=  11.9s\n"
          ]
        },
        {
          "name": "stderr",
          "output_type": "stream",
          "text": [
            "/Users/xiaogouzuomeng/opt/anaconda3/lib/python3.9/site-packages/sklearn/utils/validation.py:1300: DataConversionWarning: A column-vector y was passed when a 1d array was expected. Please change the shape of y to (n_samples, ), for example using ravel().\n",
            "  y = column_or_1d(y, warn=True)\n"
          ]
        },
        {
          "name": "stdout",
          "output_type": "stream",
          "text": [
            "[CV] END clf__C=0.001, clf__class_weight=None, clf__penalty=l1, clf__solver=saga; total time=  15.9s\n",
            "[CV] END clf__C=0.001, clf__class_weight=None, clf__penalty=l1, clf__solver=liblinear; total time=  15.9s\n",
            "[CV] END clf__C=0.001, clf__class_weight=None, clf__penalty=l1, clf__solver=liblinear; total time=  16.3s\n",
            "[CV] END clf__C=0.001, clf__class_weight=None, clf__penalty=l1, clf__solver=liblinear; total time=  16.3s\n",
            "[CV] END clf__C=0.001, clf__class_weight=None, clf__penalty=l1, clf__solver=saga; total time=  16.3s\n",
            "[CV] END clf__C=0.001, clf__class_weight=None, clf__penalty=l1, clf__solver=liblinear; total time=  16.5s\n",
            "[CV] END clf__C=0.001, clf__class_weight=None, clf__penalty=l1, clf__solver=saga; total time=  16.6s\n",
            "[CV] END clf__C=0.001, clf__class_weight=None, clf__penalty=l1, clf__solver=saga; total time=  17.2s\n"
          ]
        },
        {
          "name": "stderr",
          "output_type": "stream",
          "text": [
            "/Users/xiaogouzuomeng/opt/anaconda3/lib/python3.9/site-packages/sklearn/utils/validation.py:1300: DataConversionWarning: A column-vector y was passed when a 1d array was expected. Please change the shape of y to (n_samples, ), for example using ravel().\n",
            "  y = column_or_1d(y, warn=True)\n",
            "/Users/xiaogouzuomeng/opt/anaconda3/lib/python3.9/site-packages/sklearn/utils/validation.py:1300: DataConversionWarning: A column-vector y was passed when a 1d array was expected. Please change the shape of y to (n_samples, ), for example using ravel().\n",
            "  y = column_or_1d(y, warn=True)\n"
          ]
        }
      ],
      "source": [
        "roc_auc_scorer = make_scorer(roc_auc_score,\n",
        "                             needs_threshold = True,\n",
        "                             multi_class = 'ovo')\n",
        "\n",
        "# define a tuning grid for logistic regression\n",
        "logi_grid = {\n",
        "    'clf__C': [0.001, 0.01, 0.1, 1, 10, 100],\n",
        "    'clf__penalty': ['l1', 'l2'],\n",
        "    'clf__solver': ['liblinear', 'saga'],\n",
        "    'clf__class_weight': [None, 'balanced'],\n",
        "}\n",
        "\n",
        "\n",
        "# define a logistic regression model\n",
        "log_pipe = Pipeline([\n",
        "    ('scaler', StandardScaler()),\n",
        "    ('clf', LogisticRegression(max_iter = 1000))\n",
        "])\n",
        "\n",
        "cv = StratifiedKFold(n_splits=5, shuffle=True, random_state = 69)\n",
        "\n",
        "# define a grid search with cross-validation\n",
        "log_grid_search = GridSearchCV(estimator = log_pipe,\n",
        "                               param_grid = logi_grid,\n",
        "                               cv = cv,\n",
        "                               scoring = roc_auc_scorer,\n",
        "                               n_jobs = -1,\n",
        "                               verbose = 2)\n",
        "\n",
        "# fit the grid search\n",
        "log_grid_search.fit(X_train, y_train)\n",
        "\n",
        "# print the best parameters\n",
        "print(\"Best parameters:\", log_grid_search.best_params_)\n",
        "print(\"Best cross-validation ROC AUC score: {:.2f}\".format(log_grid_search.best_score_))"
      ]
    },
    {
      "cell_type": "code",
      "execution_count": null,
      "metadata": {
        "id": "xfZr8slG9kS0"
      },
      "outputs": [],
      "source": [
        "# fit the training data with the best logistic regression model\n",
        "log_final = LogisticRegression()\n",
        "log_final.fit(X_train, y_train)"
      ]
    },
    {
      "cell_type": "code",
      "execution_count": null,
      "metadata": {
        "id": "bq9-6Q_V-a03"
      },
      "outputs": [],
      "source": [
        "y_pred_test = log_final.predict(X_test)\n",
        "y_pred_train = log_final.predict(X_train)\n",
        "\n",
        "# plotting the ROC curve and printing the AUC score for the Random Forest Model\n",
        "print('=========== Random Forest AUC score ==========')\n",
        "print(metrics.roc_auc_score(y_test,y_pred_test))\n",
        "print('===============================================\\n')\n",
        "log_y_score = log_final.predict_proba(X_test)[:, 1]\n",
        "fpr, tpr, thresholds = metrics.roc_curve(y_test,log_y_score)\n",
        "plt.plot(fpr, tpr)\n",
        "plt.plot([0,1],[0,1])\n",
        "plt.xlabel('false positive rate')\n",
        "plt.ylabel('true positive rate')\n",
        "plt.title(' Logistic Regression ROC curve')\n"
      ]
    },
    {
      "cell_type": "code",
      "execution_count": null,
      "metadata": {
        "id": "O4EDxMmaBMHj"
      },
      "outputs": [],
      "source": [
        "# Getting coefficients\n",
        "logi_coef = log_final.coef_\n",
        "avg_coef = np.mean(logi_coef, axis=0)\n",
        "\n",
        "# Feature names for plotting\n",
        "feature_names = data['feature_names']\n",
        "\n",
        "coef_df = pd.DataFrame({'Feature': feature_names, 'Coefficient': ave_coef})\n",
        "coef_df = coeff_df.sort_values(by = 'Coefficient', ascending = False)\n",
        "\n",
        "plt.figure(figsize=(8, 6))\n",
        "plt.barh(coeff_df['Feature'], coeff_df['Coefficient'], color='skyblue')\n",
        "plt.xlabel('Coefficient Value')\n",
        "plt.title('Logistic Regression Coefficients')\n",
        "plt.grid(True)\n",
        "plt.show()\n"
      ]
    },
    {
      "cell_type": "markdown",
      "metadata": {
        "id": "EoNLlYnB0y8T"
      },
      "source": [
        "### K-nearest Neighbors"
      ]
    },
    {
      "cell_type": "code",
      "execution_count": null,
      "metadata": {
        "id": "LydieB360y8U"
      },
      "outputs": [],
      "source": [
        "# knn_train_score = {}\n",
        "# knn_test_score = {}\n",
        "# n_neighbors = np.arange(2, 15, 1)\n",
        "# for neighbor in n_neighbors:\n",
        "#     knn = KNeighborsClassifier(n_neighbors=neighbor)\n",
        "#     knn.fit(X_train, y_train)\n",
        "#     knn_train_score[neighbor]=knn.score(X_train, y_train)\n",
        "#     knn_test_score[neighbor]=knn.score(X_test, y_test)"
      ]
    },
    {
      "cell_type": "code",
      "execution_count": null,
      "metadata": {
        "id": "UmkR94Bm0y8U"
      },
      "outputs": [],
      "source": [
        "# plot the training and test scores\n",
        "\n",
        "# Convert scores into a DataFrame\n",
        "# scores_df = pd.DataFrame(\n",
        "#     {'Neighbors': n_neighbors,\n",
        "#      'Train Accuracy': [knn_train_score[n] for n in n_neighbors],\n",
        "#      'Test Accuracy': [knn_test_score[n] for n in n_neighbors]}\n",
        "#      )\n",
        "\n",
        "# # Melt the DataFrame to make it suitable for Seaborn's lineplot\n",
        "# knn_scores_df = pd.melt(scores_df, id_vars=['Neighbors'],\n",
        "#                          var_name='Type', value_name='Accuracy')\n",
        "\n",
        "# # Create the plot using Seaborn\n",
        "# plt.figure(figsize = (8, 5))\n",
        "# sns.lineplot(data = knn_scores_df, x = 'Neighbors',\n",
        "#              y = 'Accuracy', hue = 'Type', marker='o')\n",
        "# plt.title('KNN: Varying Number of Neighbors')\n",
        "# plt.xlabel('Number of Neighbors')\n",
        "# plt.ylabel('Accuracy')\n",
        "# plt.xlim(1, 31)\n",
        "# plt.ylim(0.60, 0.90)\n",
        "# plt.grid(True)\n",
        "# plt.legend(title='Data Type')\n",
        "# plt.show()"
      ]
    },
    {
      "cell_type": "code",
      "execution_count": null,
      "metadata": {
        "id": "9bIHXSCA0y8U"
      },
      "outputs": [],
      "source": [
        "knn_param_grid = {\n",
        "    'n_neighbors': np.arange(1, 25),\n",
        "    'weights': ['uniform', 'distance'],\n",
        "    'metric': ['euclidean', 'manhattan']\n",
        "}\n",
        "\n",
        "knn_pipe = Pipeline([\n",
        "    ('scaler', StandardScaler()),\n",
        "    ('knn', KNeighborsClassifier())\n",
        "])\n",
        "\n",
        "knn_grid_search = GridSearchCV(knn_pipe,\n",
        "                               knn_param_grid,\n",
        "                               cv = 5,\n",
        "                               verbose = 1,\n",
        "                               scoring = roc_auc_scorer,\n",
        "                               n_jobs = -1)\n",
        "\n",
        "knn_grid_search.fit(X_train, y_train)\n",
        "\n",
        "print(\"Best parameters:\", knn_grid_search.best_params_)\n",
        "print(\"Best cross-validation score: {:.2f}\".format(knn_grid_search.best_score_))"
      ]
    },
    {
      "cell_type": "code",
      "execution_count": null,
      "metadata": {
        "id": "VMnz8pVG0y8V"
      },
      "outputs": [],
      "source": [
        "best_knn = knn_grid_search.best_estimator_\n",
        "y_pred = best_knn.predict(X_test)\n",
        "print(\"Test set accuracy: {:.2f}\".format(accuracy_score(y_test, y_pred)))"
      ]
    },
    {
      "cell_type": "code",
      "execution_count": null,
      "metadata": {
        "id": "LifncyXn0y8V"
      },
      "outputs": [],
      "source": [
        "# plot results\n",
        "cv_results = pd.DataFrame(knn_grid_search.cv_results_)\n",
        "uniform_results = cv_results[cv_results['param_knn__weights'] == 'uniform']\n",
        "plt.figure(figsize=(10, 7))\n",
        "plt.plot(uniform_results['param_knn__n_neighbors'], uniform_results['mean_train_score'], label='Train ROC AUC', marker='o')\n",
        "plt.plot(uniform_results['param_knn__n_neighbors'], uniform_results['mean_test_score'], label='Validation ROC AUC', marker='o')\n",
        "plt.title('KNN Performance Evaluation with Varying Neighbors')\n",
        "plt.xlabel('Number of Neighbors')\n",
        "plt.ylabel('ROC AUC')\n",
        "plt.legend()\n",
        "plt.grid(True)\n",
        "plt.show()"
      ]
    }
  ],
  "metadata": {
    "colab": {
      "provenance": []
    },
    "kernelspec": {
      "display_name": "base",
      "language": "python",
      "name": "python3"
    },
    "language_info": {
      "codemirror_mode": {
        "name": "ipython",
        "version": 3
      },
      "file_extension": ".py",
      "mimetype": "text/x-python",
      "name": "python",
      "nbconvert_exporter": "python",
      "pygments_lexer": "ipython3",
      "version": "3.8.3"
    }
  },
  "nbformat": 4,
  "nbformat_minor": 0
}
