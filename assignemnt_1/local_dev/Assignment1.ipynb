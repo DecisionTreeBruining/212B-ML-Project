{
 "cells": [
  {
   "cell_type": "markdown",
   "metadata": {
    "id": "xkJdubuwbYyi"
   },
   "source": [
    "# DecisionTreeBruining: Assignment 1\n",
    "\n",
    "Describe the problem and how the Dataset explains the problem by specifying the response and the predicters."
   ]
  },
  {
   "cell_type": "markdown",
   "metadata": {
    "id": "_6C6pl3cbH99"
   },
   "source": [
    "## Setup\n",
    "\n",
    "The Data is located in the data folder of local_dev. "
   ]
  },
  {
   "cell_type": "markdown",
   "metadata": {
    "id": "JPNKfapB0ULf"
   },
   "source": [
    "---\n",
    "## Data Analysis\n",
    "\n",
    "*Insert Code Below*"
   ]
  }
 ],
 "metadata": {
  "colab": {
   "provenance": []
  },
  "kernelspec": {
   "display_name": "Python 3 (ipykernel)",
   "language": "python",
   "name": "python3"
  },
  "language_info": {
   "codemirror_mode": {
    "name": "ipython",
    "version": 3
   },
   "file_extension": ".py",
   "mimetype": "text/x-python",
   "name": "python",
   "nbconvert_exporter": "python",
   "pygments_lexer": "ipython3",
   "version": "3.12.2"
  }
 },
 "nbformat": 4,
 "nbformat_minor": 4
}
