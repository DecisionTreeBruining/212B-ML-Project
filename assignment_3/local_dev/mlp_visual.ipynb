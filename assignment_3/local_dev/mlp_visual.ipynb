{
 "cells": [
  {
   "cell_type": "markdown",
   "metadata": {},
   "source": [
    "## Packages"
   ]
  },
  {
   "cell_type": "markdown",
   "metadata": {},
   "source": [
    "## Tuning Parameters\n",
    "\n",
    "- binary parameter tuning: quick comparison of two values\n",
    "- continuous parameter tuning: line plot\n",
    "- multiple continuous parameters tuning: heatmap"
   ]
  },
  {
   "cell_type": "markdown",
   "metadata": {},
   "source": [
    "### quick rundown of what the error analysis plot looks like \n",
    "\n",
    "- X-axis: Displays different parameter combinations as strings, representing the values of hidden_layer_sizes and alpha. Each point on the axis corresponds to a specific combination, like {'alpha': 0.0001, 'hidden_layer_sizes': (50,)}.\n",
    "\n",
    "- Y-axis: Shows the mean cross-validation accuracy for each parameter setting. The scale depends on the accuracy scores obtained, typically ranging from 0 to 1.\n",
    "\n",
    "- Error bars: Each point has an error bar that represents the standard deviation of the accuracy across the cross-validation folds. This gives an idea of the variability or stability of the model's performance with those specific parameters.\n",
    "\n",
    "- Markers: Each parameter combination is represented by a circle ('o' marker) on the plot.\n",
    "\n",
    "- Legend: The legend includes entries for each parameter setting, making it easier to identify which parameters correspond to each point on the plot."
   ]
  },
  {
   "cell_type": "code",
   "execution_count": null,
   "metadata": {},
   "outputs": [],
   "source": []
  },
  {
   "cell_type": "markdown",
   "metadata": {},
   "source": [
    "## Entire Training Process\n",
    "\n",
    "- table of metrics\n",
    "- line plot to show the fluctuation of metrics from the baseline to the final model"
   ]
  },
  {
   "cell_type": "markdown",
   "metadata": {},
   "source": [
    "### what the plot contains\n",
    "\n",
    "- X-axis: Displays the number of iterations or epochs, representing the training progress from the start to the end.\n",
    "\n",
    "- Y-axis: Shows the value of the metric being tracked, such as loss or accuracy. The scale depends on the metric values obtained, typically ranging from 0 to 1.\n",
    "\n",
    "two options: \n",
    "\n",
    "1. \n",
    "- Lines: Each line represents a different metric, such as training loss, validation loss, training accuracy, or validation accuracy. The lines show how the metric changes over time during training.\n",
    "\n",
    "- Legend: The legend includes entries for each metric, making it easier to identify which line corresponds to each metric.\n",
    "\n",
    "2. \n",
    "\n",
    "- Line: A single line represents the metric being tracked, such as training loss, validation loss, training accuracy, or validation accuracy. The line shows how the metric changes over time during training.\n",
    "\n",
    "- Line sections: Different sections of the line can be colored or styled differently to indicate different stages of training (aka different tuning parameters)."
   ]
  },
  {
   "cell_type": "code",
   "execution_count": null,
   "metadata": {},
   "outputs": [],
   "source": []
  },
  {
   "cell_type": "markdown",
   "metadata": {},
   "source": []
  }
 ],
 "metadata": {
  "language_info": {
   "name": "python"
  }
 },
 "nbformat": 4,
 "nbformat_minor": 2
}
