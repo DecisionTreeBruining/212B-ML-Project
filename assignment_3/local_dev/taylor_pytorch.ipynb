{
 "cells": [
  {
   "cell_type": "markdown",
   "id": "95985fd7-8d10-4d85-b0f1-01802def75d8",
   "metadata": {},
   "source": [
    "# Pytorch"
   ]
  },
  {
   "cell_type": "code",
   "execution_count": null,
   "id": "6762c199-1d82-4b0e-9f31-69aac7321764",
   "metadata": {},
   "outputs": [],
   "source": []
  }
 ],
 "metadata": {
  "kernelspec": {
   "display_name": "203C",
   "language": "python",
   "name": "203c"
  },
  "language_info": {
   "codemirror_mode": {
    "name": "ipython",
    "version": 3
   },
   "file_extension": ".py",
   "mimetype": "text/x-python",
   "name": "python",
   "nbconvert_exporter": "python",
   "pygments_lexer": "ipython3",
   "version": "3.10.14"
  }
 },
 "nbformat": 4,
 "nbformat_minor": 5
}
