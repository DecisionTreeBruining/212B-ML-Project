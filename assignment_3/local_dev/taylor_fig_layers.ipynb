{
 "cells": [
  {
   "cell_type": "markdown",
   "id": "b3ef2bc0-e031-41c0-b57a-d309c9aa4e71",
   "metadata": {},
   "source": [
    "# Multi-Perceptron Grid_Search\n",
    "\n",
    "## Table of Contents\n",
    "\n",
    "- [Format All Results](#Format-All-Results)\n"
   ]
  },
  {
   "cell_type": "code",
   "execution_count": 1,
   "id": "94678e6f-1b08-4eaa-8f1a-91521fa6270e",
   "metadata": {
    "tags": []
   },
   "outputs": [],
   "source": [
    "import polars as pl\n",
    "from icecream import ic\n",
    "import pandas as pd\n",
    "from great_tables import GT, md, html, from_column, style, loc\n",
    "from assignment_3_tools import parquet_to_dict"
   ]
  },
  {
   "cell_type": "markdown",
   "id": "59521ff6-30f5-47d8-953c-105589510d44",
   "metadata": {},
   "source": [
    "## Format All Results"
   ]
  },
  {
   "cell_type": "code",
   "execution_count": 5,
   "id": "9f93c132-0121-4bce-ba0f-03978956aa6f",
   "metadata": {
    "tags": []
   },
   "outputs": [],
   "source": [
    "result_path = '../../Data/GoogleDrive/MLP_Results/Parameters'\n",
    "\n",
    "result_pl = {\n",
    "    key:value.collect().drop('Dataset_Name')\n",
    "    for key, value in parquet_to_dict(result_path).items()\n",
    "}\n",
    "\n",
    "result_pl = {\n",
    "    key: value if key.endswith('baseline') else value.with_columns(pl.lit(\"\").alias(\"Grid_Variable\"))\n",
    "    for key, value in result_pl.items()\n",
    "}\n",
    "\n",
    "for key, frame in result_pl.items():\n",
    "    if key.endswith('baseline'):\n",
    "        continue\n",
    "    else:\n",
    "        result_dict = frame.to_dict(as_series=False)\n",
    "        params = []\n",
    "        for entry in result_dict['Parameters']:\n",
    "            param_values = \"\".join([str(value) for value in entry.values()])\n",
    "            params.append(param_values)\n",
    "        result_dict['Parameters'] = params\n",
    "        result_pl[key] = pl.DataFrame(result_dict)\n",
    "\n",
    "\n",
    "param_name = dict()\n",
    "unique_name = list()\n",
    "for key in result_pl:\n",
    "    if not key.endswith('baseline'):\n",
    "        unique_name.append(key[4:])\n",
    "unique_name = set(unique_name)\n",
    "\n",
    "for key in unique_name:\n",
    "        prefix, name = key.split('-', 1)\n",
    "        param_name.setdefault(name, []).append(key)\n",
    "\n",
    "result_table = dict()\n",
    "result_combo = dict()\n",
    "for param, name_list in param_name.items():\n",
    "    for name in name_list:\n",
    "        prefixes = ['test', 'grid']\n",
    "        for prefix in prefixes:\n",
    "            alt = f\"{prefix}{name}\"\n",
    "            baseline = f\"{prefix}_results-baseline\"\n",
    "            alt_df = result_pl[alt].with_columns(pl.col(\"Parameters\").cast(pl.Utf8))\n",
    "            baseline_dict = result_pl[baseline].to_dict(as_series=False)\n",
    "            baseline_dict['Parameters'] = [list(val) for test, val in baseline_dict['Parameters'][0].items() if test == param][0]\n",
    "            baseline_df = pl.DataFrame(baseline_dict).with_columns(pl.col(\"Parameters\").cast(pl.Utf8))\n",
    "            combo = pl.concat([baseline_df, alt_df])\n",
    "            combo = combo.with_columns(\n",
    "                pl.when(pl.col('Grid_Variable') == pl.lit('-baseline'))\n",
    "                .then(pl.lit(\"Baseline\"))  # New value\n",
    "                .otherwise(pl.col('Grid_Variable'))\n",
    "                .alias(\"Grid_Variable\")\n",
    "            )\n",
    "            result_combo[alt] = combo\n",
    "            if prefix == \"test\":\n",
    "                table = (\n",
    "                    GT(combo.sort(by='Recall', descending=True))\n",
    "                    .tab_header(\n",
    "                        title=f\"{param.title().replace('_', ' ')}\",\n",
    "                        subtitle=f\"Test Set Prediction Results\"\n",
    "                    )\n",
    "                    .tab_spanner(\n",
    "                        label=\"Metrics\",\n",
    "                        columns=[\"Recall\", \"ROC_AUC\", \"Accuracy\", \"Fit_Time\"]\n",
    "                    )\n",
    "                    .cols_label(\n",
    "                        Grid_Variable=html(\"\"),\n",
    "                        Parameters=html(f\"{param.title()} <br> Parameter\"),\n",
    "                        ROC_AUC=html(\"ROC AUC\"),\n",
    "                        Fit_Time=html(\"Fit Time (s)\"),\n",
    "                    )\n",
    "                    .fmt_number(columns=[\"Recall\",\"ROC_AUC\",\"Accuracy\"], decimals=2)\n",
    "                    .fmt_number(columns=[\"Fit_Time\"], decimals=0)\n",
    "                )\n",
    "            elif prefix == \"grid\":\n",
    "                table = (\n",
    "                    GT(combo.sort(by='Recall', descending=True))\n",
    "                    .tab_header(\n",
    "                        title=f\"{param.title().replace('_', ' ')}\",\n",
    "                        subtitle=f\"Cross Validation Results\"\n",
    "                    )\n",
    "                    .fmt_number(columns=[\"Recall\"], decimals=2)\n",
    "                    .fmt_number(columns=[\"Fit_Time\"], decimals=0)\n",
    "                    .tab_spanner(\n",
    "                        label=\"Metrics\",\n",
    "                        columns=[\"Recall\", \"Fit_Time\"]\n",
    "                    )\n",
    "                    .cols_label(\n",
    "                        Grid_Variable=html(\"\"),\n",
    "                        Parameters=html(f\"<center>{param.title()} <br> Parameter</center>\"),\n",
    "                        Fit_Time=html(\"Fit Time (s)\")\n",
    "                    )\n",
    "                    .cols_align(align=\"center\")\n",
    "                )\n",
    "            else:\n",
    "                continue\n",
    "            result_table[alt] = table"
   ]
  },
  {
   "cell_type": "markdown",
   "id": "fab5b2a7-3d25-4674-9453-159caec2d9b6",
   "metadata": {},
   "source": [
    "## Neurons"
   ]
  },
  {
   "cell_type": "code",
   "execution_count": 6,
   "id": "4ad002b9-05f2-40e9-b4ee-d8eb8e2ec3d6",
   "metadata": {
    "tags": []
   },
   "outputs": [],
   "source": [
    "(\n",
    "    result_table['test_results_neurons-hidden_layer_sizes']\n",
    "    .tab_header(title=\"Neurons of a Single Layer\", subtitle=\"Test Set Prediction Results\")\n",
    "    .cols_label(\n",
    "        Num_Parameters = html(\"<center>Total Number of<br>Internal Parameters</center>\")\n",
    "    )\n",
    "    .save(file=\"./tables_and_figures/test_results_neurons-hidden_layer_sizes.png\")\n",
    ")"
   ]
  },
  {
   "cell_type": "code",
   "execution_count": 7,
   "id": "16bd554c-fbb5-41d3-a86e-051041ecf0f1",
   "metadata": {
    "tags": []
   },
   "outputs": [],
   "source": [
    "(\n",
    "    result_table['grid_results_neurons-hidden_layer_sizes']\n",
    "    .tab_header(title=\"Neurons of a Single Layer\", subtitle=\"Cross Validation Results\")\n",
    "    .cols_label(\n",
    "        Num_Parameters = html(\"<center>Total Number of<br>Internal Parameters</center>\")\n",
    "    )\n",
    "    .save(file=\"./tables_and_figures/grid_results_neurons-hidden_layer_sizes.png\")\n",
    ")"
   ]
  },
  {
   "cell_type": "markdown",
   "id": "1081068e-479c-4999-87c0-43889ebf1616",
   "metadata": {},
   "source": [
    "## Layers"
   ]
  },
  {
   "cell_type": "code",
   "execution_count": 8,
   "id": "dbab93c8-ed08-4c2b-a9f5-bcb7470f676c",
   "metadata": {
    "tags": []
   },
   "outputs": [],
   "source": [
    "(\n",
    "    result_table['test_results_layers-hidden_layer_sizes']\n",
    "    .tab_header(title=\"Layers With Constant Neurons\", subtitle=\"Test Set Prediction Results\")\n",
    "    .cols_label(\n",
    "        Num_Parameters = html(\"<center>Total Number of<br>Internal Parameters</center>\")\n",
    "    )\n",
    "    .save(file=\"./tables_and_figures/test_results_layers-hidden_layer_sizes.png\")\n",
    ")"
   ]
  },
  {
   "cell_type": "code",
   "execution_count": 13,
   "id": "1622231b-f048-4d6a-844d-331a5d56d032",
   "metadata": {
    "tags": []
   },
   "outputs": [
    {
     "data": {
      "text/html": [
       "<div id=\"omtnipoxge\" style=\"padding-left:0px;padding-right:0px;padding-top:10px;padding-bottom:10px;overflow-x:auto;overflow-y:auto;width:auto;height:auto;\">\n",
       "<style>\n",
       "#omtnipoxge table {\n",
       "          font-family: -apple-system, BlinkMacSystemFont, 'Segoe UI', Roboto, Oxygen, Ubuntu, Cantarell, 'Helvetica Neue', 'Fira Sans', 'Droid Sans', Arial, sans-serif;\n",
       "          -webkit-font-smoothing: antialiased;\n",
       "          -moz-osx-font-smoothing: grayscale;\n",
       "        }\n",
       "\n",
       "#omtnipoxge thead, tbody, tfoot, tr, td, th { border-style: none; }\n",
       " tr { background-color: transparent; }\n",
       "#omtnipoxge p { margin: 0; padding: 0; }\n",
       " #omtnipoxge .gt_table { display: table; border-collapse: collapse; line-height: normal; margin-left: auto; margin-right: auto; color: #333333; font-size: 16px; font-weight: normal; font-style: normal; background-color: #FFFFFF; width: auto; border-top-style: solid; border-top-width: 2px; border-top-color: #A8A8A8; border-right-style: none; border-right-width: 2px; border-right-color: #D3D3D3; border-bottom-style: solid; border-bottom-width: 2px; border-bottom-color: #A8A8A8; border-left-style: none; border-left-width: 2px; border-left-color: #D3D3D3; }\n",
       " #omtnipoxge .gt_caption { padding-top: 4px; padding-bottom: 4px; }\n",
       " #omtnipoxge .gt_title { color: #333333; font-size: 125%; font-weight: initial; padding-top: 4px; padding-bottom: 4px; padding-left: 5px; padding-right: 5px; border-bottom-color: #FFFFFF; border-bottom-width: 0; }\n",
       " #omtnipoxge .gt_subtitle { color: #333333; font-size: 85%; font-weight: initial; padding-top: 3px; padding-bottom: 5px; padding-left: 5px; padding-right: 5px; border-top-color: #FFFFFF; border-top-width: 0; }\n",
       " #omtnipoxge .gt_heading { background-color: #FFFFFF; text-align: center; border-bottom-color: #FFFFFF; border-left-style: none; border-left-width: 1px; border-left-color: #D3D3D3; border-right-style: none; border-right-width: 1px; border-right-color: #D3D3D3; }\n",
       " #omtnipoxge .gt_bottom_border { border-bottom-style: solid; border-bottom-width: 2px; border-bottom-color: #D3D3D3; }\n",
       " #omtnipoxge .gt_col_headings { border-top-style: solid; border-top-width: 2px; border-top-color: #D3D3D3; border-bottom-style: solid; border-bottom-width: 2px; border-bottom-color: #D3D3D3; border-left-style: none; border-left-width: 1px; border-left-color: #D3D3D3; border-right-style: none; border-right-width: 1px; border-right-color: #D3D3D3; }\n",
       " #omtnipoxge .gt_col_heading { color: #333333; background-color: #FFFFFF; font-size: 100%; font-weight: normal; text-transform: inherit; border-left-style: none; border-left-width: 1px; border-left-color: #D3D3D3; border-right-style: none; border-right-width: 1px; border-right-color: #D3D3D3; vertical-align: bottom; padding-top: 5px; padding-bottom: 5px; padding-left: 5px; padding-right: 5px; overflow-x: hidden; }\n",
       " #omtnipoxge .gt_column_spanner_outer { color: #333333; background-color: #FFFFFF; font-size: 100%; font-weight: normal; text-transform: inherit; padding-top: 0; padding-bottom: 0; padding-left: 4px; padding-right: 4px; }\n",
       " #omtnipoxge .gt_column_spanner_outer:first-child { padding-left: 0; }\n",
       " #omtnipoxge .gt_column_spanner_outer:last-child { padding-right: 0; }\n",
       " #omtnipoxge .gt_column_spanner { border-bottom-style: solid; border-bottom-width: 2px; border-bottom-color: #D3D3D3; vertical-align: bottom; padding-top: 5px; padding-bottom: 5px; overflow-x: hidden; display: inline-block; width: 100%; }\n",
       " #omtnipoxge .gt_spanner_row { border-bottom-style: hidden; }\n",
       " #omtnipoxge .gt_group_heading { padding-top: 8px; padding-bottom: 8px; padding-left: 5px; padding-right: 5px; color: #333333; background-color: #FFFFFF; font-size: 100%; font-weight: initial; text-transform: inherit; border-top-style: solid; border-top-width: 2px; border-top-color: #D3D3D3; border-bottom-style: solid; border-bottom-width: 2px; border-bottom-color: #D3D3D3; border-left-style: none; border-left-width: 1px; border-left-color: #D3D3D3; border-right-style: none; border-right-width: 1px; border-right-color: #D3D3D3; vertical-align: middle; text-align: left; }\n",
       " #omtnipoxge .gt_empty_group_heading { padding: 0.5px; color: #333333; background-color: #FFFFFF; font-size: 100%; font-weight: initial; border-top-style: solid; border-top-width: 2px; border-top-color: #D3D3D3; border-bottom-style: solid; border-bottom-width: 2px; border-bottom-color: #D3D3D3; vertical-align: middle; }\n",
       " #omtnipoxge .gt_from_md> :first-child { margin-top: 0; }\n",
       " #omtnipoxge .gt_from_md> :last-child { margin-bottom: 0; }\n",
       " #omtnipoxge .gt_row { padding-top: 8px; padding-bottom: 8px; padding-left: 5px; padding-right: 5px; margin: 10px; border-top-style: solid; border-top-width: 1px; border-top-color: #D3D3D3; border-left-style: none; border-left-width: 1px; border-left-color: #D3D3D3; border-right-style: none; border-right-width: 1px; border-right-color: #D3D3D3; vertical-align: middle; overflow-x: hidden; }\n",
       " #omtnipoxge .gt_stub { color: #333333; background-color: #FFFFFF; font-size: 100%; font-weight: initial; text-transform: inherit; border-right-style: solid; border-right-width: 2px; border-right-color: #D3D3D3; padding-left: 5px; padding-right: 5px; }\n",
       " #omtnipoxge .gt_stub_row_group { color: #333333; background-color: #FFFFFF; font-size: 100%; font-weight: initial; text-transform: inherit; border-right-style: solid; border-right-width: 2px; border-right-color: #D3D3D3; padding-left: 5px; padding-right: 5px; vertical-align: top; }\n",
       " #omtnipoxge .gt_row_group_first td { border-top-width: 2px; }\n",
       " #omtnipoxge .gt_row_group_first th { border-top-width: 2px; }\n",
       " #omtnipoxge .gt_table_body { border-top-style: solid; border-top-width: 2px; border-top-color: #D3D3D3; border-bottom-style: solid; border-bottom-width: 2px; border-bottom-color: #D3D3D3; }\n",
       " #omtnipoxge .gt_sourcenotes { color: #333333; background-color: #FFFFFF; border-bottom-style: none; border-bottom-width: 2px; border-bottom-color: #D3D3D3; border-left-style: none; border-left-width: 2px; border-left-color: #D3D3D3; border-right-style: none; border-right-width: 2px; border-right-color: #D3D3D3; }\n",
       " #omtnipoxge .gt_sourcenote { font-size: 90%; padding-top: 4px; padding-bottom: 4px; padding-left: 5px; padding-right: 5px; text-align: left; }\n",
       " #omtnipoxge .gt_left { text-align: left; }\n",
       " #omtnipoxge .gt_center { text-align: center; }\n",
       " #omtnipoxge .gt_right { text-align: right; font-variant-numeric: tabular-nums; }\n",
       " #omtnipoxge .gt_font_normal { font-weight: normal; }\n",
       " #omtnipoxge .gt_font_bold { font-weight: bold; }\n",
       " #omtnipoxge .gt_font_italic { font-style: italic; }\n",
       " #omtnipoxge .gt_super { font-size: 65%; }\n",
       " #omtnipoxge .gt_footnote_marks { font-size: 75%; vertical-align: 0.4em; position: initial; }\n",
       " #omtnipoxge .gt_asterisk { font-size: 100%; vertical-align: 0; }\n",
       " \n",
       "</style>\n",
       "<table class=\"gt_table\" data-quarto-disable-processing=\"false\" data-quarto-bootstrap=\"false\">\n",
       "<thead class=\"gt_header\">\n",
       "  <tr>\n",
       "    <th colspan=\"5\" class=\"gt_heading gt_title gt_font_normal\">Number of Layers</th>\n",
       "  </tr>\n",
       "  <tr>\n",
       "    <th colspan=\"5\" class=\"gt_heading gt_subtitle gt_font_normal gt_bottom_border\">Cross Validation Results</th>\n",
       "  </tr>\n",
       "</thead>\n",
       "<tr class=\"gt_col_headings gt_spanner_row\">\n",
       "  <th class=\"gt_col_heading gt_columns_bottom_border gt_center\" rowspan=\"2\" colspan=\"1\" scope=\"col\" id=\"\"></th>\n",
       "  <th class=\"gt_col_heading gt_columns_bottom_border gt_center\" rowspan=\"2\" colspan=\"1\" scope=\"col\" id=\"&lt;center&gt;Hidden_Layer_Sizes &lt;br&gt; Parameter&lt;/center&gt;\"><center>Hidden_Layer_Sizes <br> Parameter</center></th>\n",
       "  <th class=\"gt_col_heading gt_columns_bottom_border gt_center\" rowspan=\"2\" colspan=\"1\" scope=\"col\" id=\"&lt;center&gt;Total Number of&lt;br&gt;Internal Parameters&lt;/center&gt;\"><center>Total Number of<br>Internal Parameters</center></th>\n",
       "  <th class=\"gt_center gt_columns_top_border gt_column_spanner_outer\" rowspan=\"1\" colspan=\"2\" scope=\"colgroup\" id=\"Metrics\">\n",
       "    <span class=\"gt_column_spanner\">Metrics</span>\n",
       "  </th>\n",
       "</tr>\n",
       "<tr class=\"gt_col_headings\">\n",
       "  <th class=\"gt_col_heading gt_columns_bottom_border gt_center\" rowspan=\"1\" colspan=\"1\" scope=\"col\" id=\"Recall\">Recall</th>\n",
       "  <th class=\"gt_col_heading gt_columns_bottom_border gt_center\" rowspan=\"1\" colspan=\"1\" scope=\"col\" id=\"Fit Time (s)\">Fit Time (s)</th>\n",
       "</tr>\n",
       "<tbody class=\"gt_table_body\">\n",
       "<tr>\n",
       "  <td class=\"gt_row gt_center\"></td>\n",
       "  <td class=\"gt_row gt_center\">[100, 100, 100, 100]</td>\n",
       "  <td class=\"gt_row gt_center\">42601</td>\n",
       "  <td class=\"gt_row gt_center\">0.98</td>\n",
       "  <td class=\"gt_row gt_center\">1,697</td>\n",
       "</tr>\n",
       "<tr>\n",
       "  <td class=\"gt_row gt_center\"></td>\n",
       "  <td class=\"gt_row gt_center\">[100, 100, 100, 100, 100]</td>\n",
       "  <td class=\"gt_row gt_center\">52701</td>\n",
       "  <td class=\"gt_row gt_center\">0.98</td>\n",
       "  <td class=\"gt_row gt_center\">1,613</td>\n",
       "</tr>\n",
       "<tr>\n",
       "  <td class=\"gt_row gt_center\"></td>\n",
       "  <td class=\"gt_row gt_center\">[100, 100, 100]</td>\n",
       "  <td class=\"gt_row gt_center\">32501</td>\n",
       "  <td class=\"gt_row gt_center\">0.96</td>\n",
       "  <td class=\"gt_row gt_center\">1,607</td>\n",
       "</tr>\n",
       "<tr>\n",
       "  <td class=\"gt_row gt_center\"></td>\n",
       "  <td class=\"gt_row gt_center\">[100, 100]</td>\n",
       "  <td class=\"gt_row gt_center\">22401</td>\n",
       "  <td class=\"gt_row gt_center\">0.91</td>\n",
       "  <td class=\"gt_row gt_center\">1,158</td>\n",
       "</tr>\n",
       "<tr>\n",
       "  <td class=\"gt_row gt_center\">Baseline</td>\n",
       "  <td class=\"gt_row gt_center\">100</td>\n",
       "  <td class=\"gt_row gt_center\">12301</td>\n",
       "  <td class=\"gt_row gt_center\">0.83</td>\n",
       "  <td class=\"gt_row gt_center\">193</td>\n",
       "</tr>\n",
       "</tbody>\n",
       "\n",
       "\n",
       "</table>\n",
       "\n",
       "</div>\n",
       "        "
      ],
      "text/plain": [
       "GT(_tbl_data=shape: (5, 5)\n",
       "┌───────────────┬───────────────────────────┬────────────────┬──────────┬─────────────┐\n",
       "│ Grid_Variable ┆ Parameters                ┆ Num_Parameters ┆ Recall   ┆ Fit_Time    │\n",
       "│ ---           ┆ ---                       ┆ ---            ┆ ---      ┆ ---         │\n",
       "│ str           ┆ str                       ┆ i64            ┆ f64      ┆ f64         │\n",
       "╞═══════════════╪═══════════════════════════╪════════════════╪══════════╪═════════════╡\n",
       "│               ┆ [100, 100, 100, 100]      ┆ 42601          ┆ 0.980151 ┆ 1696.776056 │\n",
       "│               ┆ [100, 100, 100, 100, 100] ┆ 52701          ┆ 0.978444 ┆ 1613.07513  │\n",
       "│               ┆ [100, 100, 100]           ┆ 32501          ┆ 0.963216 ┆ 1606.766589 │\n",
       "│               ┆ [100, 100]                ┆ 22401          ┆ 0.909198 ┆ 1157.932309 │\n",
       "│ Baseline      ┆ 100                       ┆ 12301          ┆ 0.831363 ┆ 193.497407  │\n",
       "└───────────────┴───────────────────────────┴────────────────┴──────────┴─────────────┘, _body=<great_tables._gt_data.Body object at 0x7bb9e4556890>, _boxhead=Boxhead([ColInfo(var='Grid_Variable', type=<ColInfoTypeEnum.default: 1>, column_label=Text(text='', type='html'), column_align='center', column_width=None), ColInfo(var='Parameters', type=<ColInfoTypeEnum.default: 1>, column_label=Text(text='<center>Hidden_Layer_Sizes <br> Parameter</center>', type='html'), column_align='center', column_width=None), ColInfo(var='Num_Parameters', type=<ColInfoTypeEnum.default: 1>, column_label=Text(text='<center>Total Number of<br>Internal Parameters</center>', type='html'), column_align='center', column_width=None), ColInfo(var='Recall', type=<ColInfoTypeEnum.default: 1>, column_label='Recall', column_align='center', column_width=None), ColInfo(var='Fit_Time', type=<ColInfoTypeEnum.default: 1>, column_label=Text(text='Fit Time (s)', type='html'), column_align='center', column_width=None)]), _stub=Stub([RowInfo(rownum_i=0, group_id=None, rowname=None, group_label=None, built=False), RowInfo(rownum_i=1, group_id=None, rowname=None, group_label=None, built=False), RowInfo(rownum_i=2, group_id=None, rowname=None, group_label=None, built=False), RowInfo(rownum_i=3, group_id=None, rowname=None, group_label=None, built=False), RowInfo(rownum_i=4, group_id=None, rowname=None, group_label=None, built=False)]), _row_groups=[], _group_rows=GroupRows([]), _spanners=Spanners([SpannerInfo(spanner_id='Metrics', spanner_level=0, spanner_label='Metrics', spanner_units=None, spanner_pattern=None, vars=['Recall', 'Fit_Time'], built=None)]), _heading=Heading(title='Number of Layers', subtitle='Cross Validation Results', preheader=None), _stubhead=None, _source_notes=[], _footnotes=[], _styles=[], _locale=<great_tables._gt_data.Locale object at 0x7bb994283990>, _formats=[<great_tables._gt_data.FormatInfo object at 0x7bb993e9ce10>, <great_tables._gt_data.FormatInfo object at 0x7bb993e9de50>], _substitutions=[], _options=Options(table_id=OptionsInfo(scss=False, category='table', type='value', value=None), table_caption=OptionsInfo(scss=False, category='table', type='value', value=None), table_width=OptionsInfo(scss=True, category='table', type='px', value='auto'), table_layout=OptionsInfo(scss=True, category='table', type='value', value='fixed'), table_margin_left=OptionsInfo(scss=True, category='table', type='px', value='auto'), table_margin_right=OptionsInfo(scss=True, category='table', type='px', value='auto'), table_background_color=OptionsInfo(scss=True, category='table', type='value', value='#FFFFFF'), table_font_names=OptionsInfo(scss=False, category='table', type='values', value=['-apple-system', 'BlinkMacSystemFont', 'Segoe UI', 'Roboto', 'Oxygen', 'Ubuntu', 'Cantarell', 'Helvetica Neue', 'Fira Sans', 'Droid Sans', 'Arial', 'sans-serif']), table_font_size=OptionsInfo(scss=True, category='table', type='px', value='16px'), table_font_weight=OptionsInfo(scss=True, category='table', type='value', value='normal'), table_font_style=OptionsInfo(scss=True, category='table', type='value', value='normal'), table_font_color=OptionsInfo(scss=True, category='table', type='value', value='#333333'), table_font_color_light=OptionsInfo(scss=True, category='table', type='value', value='#FFFFFF'), table_border_top_include=OptionsInfo(scss=False, category='table', type='boolean', value=True), table_border_top_style=OptionsInfo(scss=True, category='table', type='value', value='solid'), table_border_top_width=OptionsInfo(scss=True, category='table', type='px', value='2px'), table_border_top_color=OptionsInfo(scss=True, category='table', type='value', value='#A8A8A8'), table_border_right_style=OptionsInfo(scss=True, category='table', type='value', value='none'), table_border_right_width=OptionsInfo(scss=True, category='table', type='px', value='2px'), table_border_right_color=OptionsInfo(scss=True, category='table', type='value', value='#D3D3D3'), table_border_bottom_include=OptionsInfo(scss=False, category='table', type='boolean', value=True), table_border_bottom_style=OptionsInfo(scss=True, category='table', type='value', value='solid'), table_border_bottom_width=OptionsInfo(scss=True, category='table', type='px', value='2px'), table_border_bottom_color=OptionsInfo(scss=True, category='table', type='value', value='#A8A8A8'), table_border_left_style=OptionsInfo(scss=True, category='table', type='value', value='none'), table_border_left_width=OptionsInfo(scss=True, category='table', type='px', value='2px'), table_border_left_color=OptionsInfo(scss=True, category='table', type='value', value='#D3D3D3'), heading_background_color=OptionsInfo(scss=True, category='heading', type='value', value=None), heading_align=OptionsInfo(scss=True, category='heading', type='value', value='center'), heading_title_font_size=OptionsInfo(scss=True, category='heading', type='px', value='125%'), heading_title_font_weight=OptionsInfo(scss=True, category='heading', type='value', value='initial'), heading_subtitle_font_size=OptionsInfo(scss=True, category='heading', type='px', value='85%'), heading_subtitle_font_weight=OptionsInfo(scss=True, category='heading', type='value', value='initial'), heading_padding=OptionsInfo(scss=True, category='heading', type='px', value='4px'), heading_padding_horizontal=OptionsInfo(scss=True, category='heading', type='px', value='5px'), heading_border_bottom_style=OptionsInfo(scss=True, category='heading', type='value', value='solid'), heading_border_bottom_width=OptionsInfo(scss=True, category='heading', type='px', value='2px'), heading_border_bottom_color=OptionsInfo(scss=True, category='heading', type='value', value='#D3D3D3'), heading_border_lr_style=OptionsInfo(scss=True, category='heading', type='value', value='none'), heading_border_lr_width=OptionsInfo(scss=True, category='heading', type='px', value='1px'), heading_border_lr_color=OptionsInfo(scss=True, category='heading', type='value', value='#D3D3D3'), column_labels_background_color=OptionsInfo(scss=True, category='column_labels', type='value', value=None), column_labels_font_size=OptionsInfo(scss=True, category='column_labels', type='px', value='100%'), column_labels_font_weight=OptionsInfo(scss=True, category='column_labels', type='value', value='normal'), column_labels_text_transform=OptionsInfo(scss=True, category='column_labels', type='value', value='inherit'), column_labels_padding=OptionsInfo(scss=True, category='column_labels', type='px', value='5px'), column_labels_padding_horizontal=OptionsInfo(scss=True, category='column_labels', type='px', value='5px'), column_labels_vlines_style=OptionsInfo(scss=True, category='table_body', type='value', value='none'), column_labels_vlines_width=OptionsInfo(scss=True, category='table_body', type='px', value='1px'), column_labels_vlines_color=OptionsInfo(scss=True, category='table_body', type='value', value='#D3D3D3'), column_labels_border_top_style=OptionsInfo(scss=True, category='column_labels', type='value', value='solid'), column_labels_border_top_width=OptionsInfo(scss=True, category='column_labels', type='px', value='2px'), column_labels_border_top_color=OptionsInfo(scss=True, category='column_labels', type='value', value='#D3D3D3'), column_labels_border_bottom_style=OptionsInfo(scss=True, category='column_labels', type='value', value='solid'), column_labels_border_bottom_width=OptionsInfo(scss=True, category='column_labels', type='px', value='2px'), column_labels_border_bottom_color=OptionsInfo(scss=True, category='column_labels', type='value', value='#D3D3D3'), column_labels_border_lr_style=OptionsInfo(scss=True, category='column_labels', type='value', value='none'), column_labels_border_lr_width=OptionsInfo(scss=True, category='column_labels', type='px', value='1px'), column_labels_border_lr_color=OptionsInfo(scss=True, category='column_labels', type='value', value='#D3D3D3'), column_labels_hidden=OptionsInfo(scss=False, category='column_labels', type='boolean', value=False), row_group_background_color=OptionsInfo(scss=True, category='row_group', type='value', value=None), row_group_font_size=OptionsInfo(scss=True, category='row_group', type='px', value='100%'), row_group_font_weight=OptionsInfo(scss=True, category='row_group', type='value', value='initial'), row_group_text_transform=OptionsInfo(scss=True, category='row_group', type='value', value='inherit'), row_group_padding=OptionsInfo(scss=True, category='row_group', type='px', value='8px'), row_group_padding_horizontal=OptionsInfo(scss=True, category='row_group', type='px', value='5px'), row_group_border_top_style=OptionsInfo(scss=True, category='row_group', type='value', value='solid'), row_group_border_top_width=OptionsInfo(scss=True, category='row_group', type='px', value='2px'), row_group_border_top_color=OptionsInfo(scss=True, category='row_group', type='value', value='#D3D3D3'), row_group_border_right_style=OptionsInfo(scss=True, category='row_group', type='value', value='none'), row_group_border_right_width=OptionsInfo(scss=True, category='row_group', type='px', value='1px'), row_group_border_right_color=OptionsInfo(scss=True, category='row_group', type='value', value='#D3D3D3'), row_group_border_bottom_style=OptionsInfo(scss=True, category='row_group', type='value', value='solid'), row_group_border_bottom_width=OptionsInfo(scss=True, category='row_group', type='px', value='2px'), row_group_border_bottom_color=OptionsInfo(scss=True, category='row_group', type='value', value='#D3D3D3'), row_group_border_left_style=OptionsInfo(scss=True, category='row_group', type='value', value='none'), row_group_border_left_width=OptionsInfo(scss=True, category='row_group', type='px', value='1px'), row_group_border_left_color=OptionsInfo(scss=True, category='row_group', type='value', value='#D3D3D3'), row_group_as_column=OptionsInfo(scss=False, category='row_group', type='boolean', value=False), table_body_hlines_style=OptionsInfo(scss=True, category='table_body', type='value', value='solid'), table_body_hlines_width=OptionsInfo(scss=True, category='table_body', type='px', value='1px'), table_body_hlines_color=OptionsInfo(scss=True, category='table_body', type='value', value='#D3D3D3'), table_body_vlines_style=OptionsInfo(scss=True, category='table_body', type='value', value='none'), table_body_vlines_width=OptionsInfo(scss=True, category='table_body', type='px', value='1px'), table_body_vlines_color=OptionsInfo(scss=True, category='table_body', type='value', value='#D3D3D3'), table_body_border_top_style=OptionsInfo(scss=True, category='table_body', type='value', value='solid'), table_body_border_top_width=OptionsInfo(scss=True, category='table_body', type='px', value='2px'), table_body_border_top_color=OptionsInfo(scss=True, category='table_body', type='value', value='#D3D3D3'), table_body_border_bottom_style=OptionsInfo(scss=True, category='table_body', type='value', value='solid'), table_body_border_bottom_width=OptionsInfo(scss=True, category='table_body', type='px', value='2px'), table_body_border_bottom_color=OptionsInfo(scss=True, category='table_body', type='value', value='#D3D3D3'), data_row_padding=OptionsInfo(scss=True, category='data_row', type='px', value='8px'), data_row_padding_horizontal=OptionsInfo(scss=True, category='data_row', type='px', value='5px'), stub_background_color=OptionsInfo(scss=True, category='stub', type='value', value=None), stub_font_size=OptionsInfo(scss=True, category='stub', type='px', value='100%'), stub_font_weight=OptionsInfo(scss=True, category='stub', type='value', value='initial'), stub_text_transform=OptionsInfo(scss=True, category='stub', type='value', value='inherit'), stub_border_style=OptionsInfo(scss=True, category='stub', type='value', value='solid'), stub_border_width=OptionsInfo(scss=True, category='stub', type='px', value='2px'), stub_border_color=OptionsInfo(scss=True, category='stub', type='value', value='#D3D3D3'), stub_row_group_background_color=OptionsInfo(scss=True, category='stub', type='value', value=None), stub_row_group_font_size=OptionsInfo(scss=True, category='stub', type='px', value='100%'), stub_row_group_font_weight=OptionsInfo(scss=True, category='stub', type='value', value='initial'), stub_row_group_text_transform=OptionsInfo(scss=True, category='stub', type='value', value='inherit'), stub_row_group_border_style=OptionsInfo(scss=True, category='stub', type='value', value='solid'), stub_row_group_border_width=OptionsInfo(scss=True, category='stub', type='px', value='2px'), stub_row_group_border_color=OptionsInfo(scss=True, category='stub', type='value', value='#D3D3D3'), source_notes_padding=OptionsInfo(scss=True, category='source_notes', type='px', value='4px'), source_notes_padding_horizontal=OptionsInfo(scss=True, category='source_notes', type='px', value='5px'), source_notes_background_color=OptionsInfo(scss=True, category='source_notes', type='value', value=None), source_notes_font_size=OptionsInfo(scss=True, category='source_notes', type='px', value='90%'), source_notes_border_bottom_style=OptionsInfo(scss=True, category='source_notes', type='value', value='none'), source_notes_border_bottom_width=OptionsInfo(scss=True, category='source_notes', type='px', value='2px'), source_notes_border_bottom_color=OptionsInfo(scss=True, category='source_notes', type='value', value='#D3D3D3'), source_notes_border_lr_style=OptionsInfo(scss=True, category='source_notes', type='value', value='none'), source_notes_border_lr_width=OptionsInfo(scss=True, category='source_notes', type='px', value='2px'), source_notes_border_lr_color=OptionsInfo(scss=True, category='source_notes', type='value', value='#D3D3D3'), source_notes_multiline=OptionsInfo(scss=False, category='source_notes', type='boolean', value=True), source_notes_sep=OptionsInfo(scss=False, category='source_notes', type='value', value=' '), container_width=OptionsInfo(scss=False, category='container', type='px', value='auto'), container_height=OptionsInfo(scss=False, category='container', type='px', value='auto'), container_padding_x=OptionsInfo(scss=False, category='container', type='px', value='0px'), container_padding_y=OptionsInfo(scss=False, category='container', type='px', value='10px'), container_overflow_x=OptionsInfo(scss=False, category='container', type='overflow', value='auto'), container_overflow_y=OptionsInfo(scss=False, category='container', type='overflow', value='auto'), quarto_disable_processing=OptionsInfo(scss=False, category='quarto', type='logical', value=False), quarto_use_bootstrap=OptionsInfo(scss=False, category='quarto', type='logical', value=False)), _has_built=False)"
      ]
     },
     "execution_count": 13,
     "metadata": {},
     "output_type": "execute_result"
    }
   ],
   "source": [
    "(\n",
    "    result_table['grid_results_layers-hidden_layer_sizes']\n",
    "    .tab_header(title=\"Layers With Constant Neurons\", subtitle=\"Cross Validation Results\")\n",
    "    .cols_label(\n",
    "        Num_Parameters = html(\"<center>Total Number of<br>Internal Parameters</center>\")\n",
    "    )\n",
    "    .save(file=\"./tables_and_figures/grid_results_layers-hidden_layer_sizes.png\")\n",
    ")"
   ]
  },
  {
   "cell_type": "markdown",
   "id": "ea41bc1d-fa85-4f22-b5ec-052c415ef819",
   "metadata": {},
   "source": [
    "## Layers With Constant Number of Parameters"
   ]
  },
  {
   "cell_type": "code",
   "execution_count": 10,
   "id": "1bcde698-7f85-4313-8268-2af15b5b8671",
   "metadata": {
    "tags": []
   },
   "outputs": [],
   "source": [
    "(\n",
    "    result_table['test_results_parmeters-hidden_layer_sizes']\n",
    "    .tab_header(title=\"Layers With Constant Number of Parameters\", subtitle=\"Test Set Prediction Results\")\n",
    "    .cols_label(\n",
    "        Num_Parameters = html(\"<center>Total Number of<br>Internal Parameters</center>\")\n",
    "    )\n",
    "    .save(file=\"./tables_and_figures/test_results_parmeters-hidden_layer_sizes.png\")\n",
    ")"
   ]
  },
  {
   "cell_type": "code",
   "execution_count": 11,
   "id": "81533a1c-e529-4ffe-9e16-d42b0b8c78ff",
   "metadata": {
    "tags": []
   },
   "outputs": [],
   "source": [
    "(\n",
    "    result_table['grid_results_parmeters-hidden_layer_sizes']\n",
    "    .tab_header(title=\"Layers With Constant Number of Parameters\", subtitle=\"Cross Validation Results\")\n",
    "    .cols_label(\n",
    "        Num_Parameters = html(\"<center>Total Number of<br>Internal Parameters</center>\")\n",
    "    )\n",
    "    .save(file=\"./tables_and_figures/grid_results_parmeters-hidden_layer_sizes.png\")\n",
    ")"
   ]
  }
 ],
 "metadata": {
  "kernelspec": {
   "display_name": "203C",
   "language": "python",
   "name": "203c"
  },
  "language_info": {
   "codemirror_mode": {
    "name": "ipython",
    "version": 3
   },
   "file_extension": ".py",
   "mimetype": "text/x-python",
   "name": "python",
   "nbconvert_exporter": "python",
   "pygments_lexer": "ipython3",
   "version": "3.11.6"
  }
 },
 "nbformat": 4,
 "nbformat_minor": 5
}
