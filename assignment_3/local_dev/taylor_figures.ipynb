{
 "cells": [
  {
   "cell_type": "code",
   "execution_count": 5,
   "id": "94678e6f-1b08-4eaa-8f1a-91521fa6270e",
   "metadata": {
    "tags": []
   },
   "outputs": [],
   "source": [
    "import polars as pl\n",
    "import pandas as pd\n",
    "import seaborn as sns\n",
    "from great_tables import GT, md, html, from_column, style, loc\n",
    "from assignment_3_tools import parquet_to_dict, pickle_to_dict"
   ]
  },
  {
   "cell_type": "code",
   "execution_count": 8,
   "id": "9f93c132-0121-4bce-ba0f-03978956aa6f",
   "metadata": {
    "tags": []
   },
   "outputs": [],
   "source": [
    "result_path = '../../Data/GoogleDrive/MLP_Results/'\n",
    "result_pl = parquet_to_dict(result_path)"
   ]
  },
  {
   "cell_type": "code",
   "execution_count": 10,
   "id": "641ec064-07b2-4ec3-a6cc-fab51c495283",
   "metadata": {},
   "outputs": [
    {
     "data": {
      "text/html": [
       "<div>\n",
       "<style scoped>\n",
       "    .dataframe tbody tr th:only-of-type {\n",
       "        vertical-align: middle;\n",
       "    }\n",
       "\n",
       "    .dataframe tbody tr th {\n",
       "        vertical-align: top;\n",
       "    }\n",
       "\n",
       "    .dataframe thead th {\n",
       "        text-align: right;\n",
       "    }\n",
       "</style>\n",
       "<table border=\"1\" class=\"dataframe\">\n",
       "  <thead>\n",
       "    <tr style=\"text-align: right;\">\n",
       "      <th></th>\n",
       "      <th>Dataset_Name</th>\n",
       "      <th>Grid_Variable</th>\n",
       "      <th>Parameters</th>\n",
       "      <th>Recall</th>\n",
       "      <th>ROC_AUC</th>\n",
       "      <th>Accuracy</th>\n",
       "      <th>Fit_Time</th>\n",
       "    </tr>\n",
       "  </thead>\n",
       "  <tbody>\n",
       "    <tr>\n",
       "      <th>0</th>\n",
       "      <td>Under_Sample_1:1_threshold_20</td>\n",
       "      <td>baseline</td>\n",
       "      <td>{'activation': 'relu', 'alpha': 0.0001, 'batch...</td>\n",
       "      <td>0.752738</td>\n",
       "      <td>0.814254</td>\n",
       "      <td>0.732085</td>\n",
       "      <td>67.24832</td>\n",
       "    </tr>\n",
       "  </tbody>\n",
       "</table>\n",
       "</div>"
      ],
      "text/plain": [
       "                    Dataset_Name Grid_Variable  \\\n",
       "0  Under_Sample_1:1_threshold_20      baseline   \n",
       "\n",
       "                                          Parameters    Recall   ROC_AUC  \\\n",
       "0  {'activation': 'relu', 'alpha': 0.0001, 'batch...  0.752738  0.814254   \n",
       "\n",
       "   Accuracy  Fit_Time  \n",
       "0  0.732085  67.24832  "
      ]
     },
     "execution_count": 10,
     "metadata": {},
     "output_type": "execute_result"
    }
   ],
   "source": [
    "result_pl[\"test_results_baseline\"].collect().to_pandas()"
   ]
  },
  {
   "cell_type": "code",
   "execution_count": 11,
   "id": "2dd762c9-87dc-4a11-b315-fbfc6bc70781",
   "metadata": {},
   "outputs": [
    {
     "data": {
      "text/html": [
       "<div>\n",
       "<style scoped>\n",
       "    .dataframe tbody tr th:only-of-type {\n",
       "        vertical-align: middle;\n",
       "    }\n",
       "\n",
       "    .dataframe tbody tr th {\n",
       "        vertical-align: top;\n",
       "    }\n",
       "\n",
       "    .dataframe thead th {\n",
       "        text-align: right;\n",
       "    }\n",
       "</style>\n",
       "<table border=\"1\" class=\"dataframe\">\n",
       "  <thead>\n",
       "    <tr style=\"text-align: right;\">\n",
       "      <th></th>\n",
       "      <th>Dataset_Name</th>\n",
       "      <th>Grid_Variable</th>\n",
       "      <th>Parameters</th>\n",
       "      <th>Recall</th>\n",
       "      <th>ROC_AUC</th>\n",
       "      <th>Accuracy</th>\n",
       "      <th>Fit_Time</th>\n",
       "    </tr>\n",
       "  </thead>\n",
       "  <tbody>\n",
       "    <tr>\n",
       "      <th>0</th>\n",
       "      <td>Under_Sample_1:1_threshold_20</td>\n",
       "      <td>alpha</td>\n",
       "      <td>{'alpha': 0.0}</td>\n",
       "      <td>0.719418</td>\n",
       "      <td>0.811282</td>\n",
       "      <td>0.745786</td>\n",
       "      <td>101.764314</td>\n",
       "    </tr>\n",
       "  </tbody>\n",
       "</table>\n",
       "</div>"
      ],
      "text/plain": [
       "                    Dataset_Name Grid_Variable      Parameters    Recall  \\\n",
       "0  Under_Sample_1:1_threshold_20         alpha  {'alpha': 0.0}  0.719418   \n",
       "\n",
       "    ROC_AUC  Accuracy    Fit_Time  \n",
       "0  0.811282  0.745786  101.764314  "
      ]
     },
     "execution_count": 11,
     "metadata": {},
     "output_type": "execute_result"
    }
   ],
   "source": [
    "result_pl[\"test_results_alpha\"].collect().to_pandas()"
   ]
  },
  {
   "cell_type": "code",
   "execution_count": 12,
   "id": "0a3ff627-8075-40ea-8b6a-d328bb3eae55",
   "metadata": {},
   "outputs": [
    {
     "data": {
      "text/html": [
       "<div>\n",
       "<style scoped>\n",
       "    .dataframe tbody tr th:only-of-type {\n",
       "        vertical-align: middle;\n",
       "    }\n",
       "\n",
       "    .dataframe tbody tr th {\n",
       "        vertical-align: top;\n",
       "    }\n",
       "\n",
       "    .dataframe thead th {\n",
       "        text-align: right;\n",
       "    }\n",
       "</style>\n",
       "<table border=\"1\" class=\"dataframe\">\n",
       "  <thead>\n",
       "    <tr style=\"text-align: right;\">\n",
       "      <th></th>\n",
       "      <th>Dataset_Name</th>\n",
       "      <th>Grid_Variable</th>\n",
       "      <th>Parameters</th>\n",
       "      <th>Recall</th>\n",
       "      <th>ROC_AUC</th>\n",
       "      <th>Accuracy</th>\n",
       "      <th>Fit_Time</th>\n",
       "    </tr>\n",
       "  </thead>\n",
       "  <tbody>\n",
       "    <tr>\n",
       "      <th>0</th>\n",
       "      <td>Under_Sample_1:1_threshold_20</td>\n",
       "      <td>activation</td>\n",
       "      <td>{'activation': 'logistic'}</td>\n",
       "      <td>0.660207</td>\n",
       "      <td>0.793378</td>\n",
       "      <td>0.753255</td>\n",
       "      <td>154.2702</td>\n",
       "    </tr>\n",
       "  </tbody>\n",
       "</table>\n",
       "</div>"
      ],
      "text/plain": [
       "                    Dataset_Name Grid_Variable                  Parameters  \\\n",
       "0  Under_Sample_1:1_threshold_20    activation  {'activation': 'logistic'}   \n",
       "\n",
       "     Recall   ROC_AUC  Accuracy  Fit_Time  \n",
       "0  0.660207  0.793378  0.753255  154.2702  "
      ]
     },
     "execution_count": 12,
     "metadata": {},
     "output_type": "execute_result"
    }
   ],
   "source": [
    "result_pl[\"test_results_activation\"].collect().to_pandas()"
   ]
  },
  {
   "cell_type": "code",
   "execution_count": 13,
   "id": "473f776a-7005-4963-9283-ce52b25993fd",
   "metadata": {},
   "outputs": [
    {
     "data": {
      "text/html": [
       "<div>\n",
       "<style scoped>\n",
       "    .dataframe tbody tr th:only-of-type {\n",
       "        vertical-align: middle;\n",
       "    }\n",
       "\n",
       "    .dataframe tbody tr th {\n",
       "        vertical-align: top;\n",
       "    }\n",
       "\n",
       "    .dataframe thead th {\n",
       "        text-align: right;\n",
       "    }\n",
       "</style>\n",
       "<table border=\"1\" class=\"dataframe\">\n",
       "  <thead>\n",
       "    <tr style=\"text-align: right;\">\n",
       "      <th></th>\n",
       "      <th>Dataset_Name</th>\n",
       "      <th>Grid_Variable</th>\n",
       "      <th>Parameters</th>\n",
       "      <th>Recall</th>\n",
       "      <th>ROC_AUC</th>\n",
       "      <th>Accuracy</th>\n",
       "      <th>Fit_Time</th>\n",
       "    </tr>\n",
       "  </thead>\n",
       "  <tbody>\n",
       "    <tr>\n",
       "      <th>0</th>\n",
       "      <td>Under_Sample_1:1_threshold_20</td>\n",
       "      <td>batch_size</td>\n",
       "      <td>{'batch_size': 100}</td>\n",
       "      <td>0.736729</td>\n",
       "      <td>0.815755</td>\n",
       "      <td>0.74262</td>\n",
       "      <td>150.978772</td>\n",
       "    </tr>\n",
       "  </tbody>\n",
       "</table>\n",
       "</div>"
      ],
      "text/plain": [
       "                    Dataset_Name Grid_Variable           Parameters    Recall  \\\n",
       "0  Under_Sample_1:1_threshold_20    batch_size  {'batch_size': 100}  0.736729   \n",
       "\n",
       "    ROC_AUC  Accuracy    Fit_Time  \n",
       "0  0.815755   0.74262  150.978772  "
      ]
     },
     "execution_count": 13,
     "metadata": {},
     "output_type": "execute_result"
    }
   ],
   "source": [
    "result_pl[\"test_results_batch_size\"].collect().to_pandas()"
   ]
  },
  {
   "cell_type": "code",
   "execution_count": 14,
   "id": "f4fa46e7-6732-4111-9a0d-a11f52bb908f",
   "metadata": {},
   "outputs": [
    {
     "data": {
      "text/html": [
       "<div>\n",
       "<style scoped>\n",
       "    .dataframe tbody tr th:only-of-type {\n",
       "        vertical-align: middle;\n",
       "    }\n",
       "\n",
       "    .dataframe tbody tr th {\n",
       "        vertical-align: top;\n",
       "    }\n",
       "\n",
       "    .dataframe thead th {\n",
       "        text-align: right;\n",
       "    }\n",
       "</style>\n",
       "<table border=\"1\" class=\"dataframe\">\n",
       "  <thead>\n",
       "    <tr style=\"text-align: right;\">\n",
       "      <th></th>\n",
       "      <th>Dataset_Name</th>\n",
       "      <th>Grid_Variable</th>\n",
       "      <th>Parameters</th>\n",
       "      <th>Recall</th>\n",
       "      <th>ROC_AUC</th>\n",
       "      <th>Accuracy</th>\n",
       "      <th>Fit_Time</th>\n",
       "    </tr>\n",
       "  </thead>\n",
       "  <tbody>\n",
       "    <tr>\n",
       "      <th>0</th>\n",
       "      <td>Under_Sample_1:1_threshold_20</td>\n",
       "      <td>iter_no_change</td>\n",
       "      <td>{'n_iter_no_change': 100}</td>\n",
       "      <td>0.712601</td>\n",
       "      <td>0.808466</td>\n",
       "      <td>0.745294</td>\n",
       "      <td>399.201779</td>\n",
       "    </tr>\n",
       "  </tbody>\n",
       "</table>\n",
       "</div>"
      ],
      "text/plain": [
       "                    Dataset_Name   Grid_Variable                 Parameters  \\\n",
       "0  Under_Sample_1:1_threshold_20  iter_no_change  {'n_iter_no_change': 100}   \n",
       "\n",
       "     Recall   ROC_AUC  Accuracy    Fit_Time  \n",
       "0  0.712601  0.808466  0.745294  399.201779  "
      ]
     },
     "execution_count": 14,
     "metadata": {},
     "output_type": "execute_result"
    }
   ],
   "source": [
    "result_pl[\"test_results_iter_no_change\"].collect().to_pandas()"
   ]
  },
  {
   "cell_type": "code",
   "execution_count": 15,
   "id": "4a5a4bee-be8c-46ad-a6d9-fd7e2a8546b7",
   "metadata": {},
   "outputs": [
    {
     "data": {
      "text/html": [
       "<div>\n",
       "<style scoped>\n",
       "    .dataframe tbody tr th:only-of-type {\n",
       "        vertical-align: middle;\n",
       "    }\n",
       "\n",
       "    .dataframe tbody tr th {\n",
       "        vertical-align: top;\n",
       "    }\n",
       "\n",
       "    .dataframe thead th {\n",
       "        text-align: right;\n",
       "    }\n",
       "</style>\n",
       "<table border=\"1\" class=\"dataframe\">\n",
       "  <thead>\n",
       "    <tr style=\"text-align: right;\">\n",
       "      <th></th>\n",
       "      <th>Dataset_Name</th>\n",
       "      <th>Grid_Variable</th>\n",
       "      <th>Parameters</th>\n",
       "      <th>Recall</th>\n",
       "      <th>ROC_AUC</th>\n",
       "      <th>Accuracy</th>\n",
       "      <th>Fit_Time</th>\n",
       "    </tr>\n",
       "  </thead>\n",
       "  <tbody>\n",
       "    <tr>\n",
       "      <th>0</th>\n",
       "      <td>Under_Sample_1:1_threshold_20</td>\n",
       "      <td>layers</td>\n",
       "      <td>{'hidden_layer_sizes': [100, 100, 100, 100, 100]}</td>\n",
       "      <td>0.518116</td>\n",
       "      <td>0.760817</td>\n",
       "      <td>0.809887</td>\n",
       "      <td>832.888808</td>\n",
       "    </tr>\n",
       "  </tbody>\n",
       "</table>\n",
       "</div>"
      ],
      "text/plain": [
       "                    Dataset_Name Grid_Variable  \\\n",
       "0  Under_Sample_1:1_threshold_20        layers   \n",
       "\n",
       "                                          Parameters    Recall   ROC_AUC  \\\n",
       "0  {'hidden_layer_sizes': [100, 100, 100, 100, 100]}  0.518116  0.760817   \n",
       "\n",
       "   Accuracy    Fit_Time  \n",
       "0  0.809887  832.888808  "
      ]
     },
     "execution_count": 15,
     "metadata": {},
     "output_type": "execute_result"
    }
   ],
   "source": [
    "result_pl[\"test_results_layers\"].collect().to_pandas()"
   ]
  },
  {
   "cell_type": "code",
   "execution_count": 16,
   "id": "168f7184-83ed-45bd-8d89-4f197b1fb1aa",
   "metadata": {},
   "outputs": [
    {
     "data": {
      "text/html": [
       "<div>\n",
       "<style scoped>\n",
       "    .dataframe tbody tr th:only-of-type {\n",
       "        vertical-align: middle;\n",
       "    }\n",
       "\n",
       "    .dataframe tbody tr th {\n",
       "        vertical-align: top;\n",
       "    }\n",
       "\n",
       "    .dataframe thead th {\n",
       "        text-align: right;\n",
       "    }\n",
       "</style>\n",
       "<table border=\"1\" class=\"dataframe\">\n",
       "  <thead>\n",
       "    <tr style=\"text-align: right;\">\n",
       "      <th></th>\n",
       "      <th>Dataset_Name</th>\n",
       "      <th>Grid_Variable</th>\n",
       "      <th>Parameters</th>\n",
       "      <th>Recall</th>\n",
       "      <th>ROC_AUC</th>\n",
       "      <th>Accuracy</th>\n",
       "      <th>Fit_Time</th>\n",
       "    </tr>\n",
       "  </thead>\n",
       "  <tbody>\n",
       "    <tr>\n",
       "      <th>0</th>\n",
       "      <td>Under_Sample_1:1_threshold_20</td>\n",
       "      <td>learning_rate</td>\n",
       "      <td>{'learning_rate': 'constant'}</td>\n",
       "      <td>0.752738</td>\n",
       "      <td>0.814254</td>\n",
       "      <td>0.732085</td>\n",
       "      <td>96.904531</td>\n",
       "    </tr>\n",
       "  </tbody>\n",
       "</table>\n",
       "</div>"
      ],
      "text/plain": [
       "                    Dataset_Name  Grid_Variable  \\\n",
       "0  Under_Sample_1:1_threshold_20  learning_rate   \n",
       "\n",
       "                      Parameters    Recall   ROC_AUC  Accuracy   Fit_Time  \n",
       "0  {'learning_rate': 'constant'}  0.752738  0.814254  0.732085  96.904531  "
      ]
     },
     "execution_count": 16,
     "metadata": {},
     "output_type": "execute_result"
    }
   ],
   "source": [
    "result_pl[\"test_results_learning_rate\"].collect().to_pandas()"
   ]
  },
  {
   "cell_type": "code",
   "execution_count": 17,
   "id": "e8f2b5db-8db1-40e8-9041-6b53aa2fd4a3",
   "metadata": {},
   "outputs": [
    {
     "data": {
      "text/html": [
       "<div>\n",
       "<style scoped>\n",
       "    .dataframe tbody tr th:only-of-type {\n",
       "        vertical-align: middle;\n",
       "    }\n",
       "\n",
       "    .dataframe tbody tr th {\n",
       "        vertical-align: top;\n",
       "    }\n",
       "\n",
       "    .dataframe thead th {\n",
       "        text-align: right;\n",
       "    }\n",
       "</style>\n",
       "<table border=\"1\" class=\"dataframe\">\n",
       "  <thead>\n",
       "    <tr style=\"text-align: right;\">\n",
       "      <th></th>\n",
       "      <th>Dataset_Name</th>\n",
       "      <th>Grid_Variable</th>\n",
       "      <th>Parameters</th>\n",
       "      <th>Recall</th>\n",
       "      <th>ROC_AUC</th>\n",
       "      <th>Accuracy</th>\n",
       "      <th>Fit_Time</th>\n",
       "    </tr>\n",
       "  </thead>\n",
       "  <tbody>\n",
       "    <tr>\n",
       "      <th>0</th>\n",
       "      <td>Under_Sample_1:1_threshold_20</td>\n",
       "      <td>learning_rate_init</td>\n",
       "      <td>{'learning_rate_init': 0.01}</td>\n",
       "      <td>0.767905</td>\n",
       "      <td>0.816309</td>\n",
       "      <td>0.73001</td>\n",
       "      <td>72.824502</td>\n",
       "    </tr>\n",
       "  </tbody>\n",
       "</table>\n",
       "</div>"
      ],
      "text/plain": [
       "                    Dataset_Name       Grid_Variable  \\\n",
       "0  Under_Sample_1:1_threshold_20  learning_rate_init   \n",
       "\n",
       "                     Parameters    Recall   ROC_AUC  Accuracy   Fit_Time  \n",
       "0  {'learning_rate_init': 0.01}  0.767905  0.816309   0.73001  72.824502  "
      ]
     },
     "execution_count": 17,
     "metadata": {},
     "output_type": "execute_result"
    }
   ],
   "source": [
    "result_pl[\"test_results_learning_rate_init\"].collect().to_pandas()"
   ]
  },
  {
   "cell_type": "code",
   "execution_count": 18,
   "id": "32cdc33a-d1c0-478e-84a2-7f811e1f8b97",
   "metadata": {},
   "outputs": [
    {
     "data": {
      "text/html": [
       "<div>\n",
       "<style scoped>\n",
       "    .dataframe tbody tr th:only-of-type {\n",
       "        vertical-align: middle;\n",
       "    }\n",
       "\n",
       "    .dataframe tbody tr th {\n",
       "        vertical-align: top;\n",
       "    }\n",
       "\n",
       "    .dataframe thead th {\n",
       "        text-align: right;\n",
       "    }\n",
       "</style>\n",
       "<table border=\"1\" class=\"dataframe\">\n",
       "  <thead>\n",
       "    <tr style=\"text-align: right;\">\n",
       "      <th></th>\n",
       "      <th>Dataset_Name</th>\n",
       "      <th>Grid_Variable</th>\n",
       "      <th>Parameters</th>\n",
       "      <th>Recall</th>\n",
       "      <th>ROC_AUC</th>\n",
       "      <th>Accuracy</th>\n",
       "      <th>Fit_Time</th>\n",
       "    </tr>\n",
       "  </thead>\n",
       "  <tbody>\n",
       "    <tr>\n",
       "      <th>0</th>\n",
       "      <td>Under_Sample_1:1_threshold_20</td>\n",
       "      <td>max_iter</td>\n",
       "      <td>{'max_iter': 100}</td>\n",
       "      <td>0.752738</td>\n",
       "      <td>0.814254</td>\n",
       "      <td>0.732085</td>\n",
       "      <td>105.687169</td>\n",
       "    </tr>\n",
       "  </tbody>\n",
       "</table>\n",
       "</div>"
      ],
      "text/plain": [
       "                    Dataset_Name Grid_Variable         Parameters    Recall  \\\n",
       "0  Under_Sample_1:1_threshold_20      max_iter  {'max_iter': 100}  0.752738   \n",
       "\n",
       "    ROC_AUC  Accuracy    Fit_Time  \n",
       "0  0.814254  0.732085  105.687169  "
      ]
     },
     "execution_count": 18,
     "metadata": {},
     "output_type": "execute_result"
    }
   ],
   "source": [
    "result_pl[\"test_results_max_iter\"].collect().to_pandas()"
   ]
  },
  {
   "cell_type": "code",
   "execution_count": 19,
   "id": "b02d871b-009a-4688-a359-b463e48f6426",
   "metadata": {},
   "outputs": [
    {
     "data": {
      "text/html": [
       "<div>\n",
       "<style scoped>\n",
       "    .dataframe tbody tr th:only-of-type {\n",
       "        vertical-align: middle;\n",
       "    }\n",
       "\n",
       "    .dataframe tbody tr th {\n",
       "        vertical-align: top;\n",
       "    }\n",
       "\n",
       "    .dataframe thead th {\n",
       "        text-align: right;\n",
       "    }\n",
       "</style>\n",
       "<table border=\"1\" class=\"dataframe\">\n",
       "  <thead>\n",
       "    <tr style=\"text-align: right;\">\n",
       "      <th></th>\n",
       "      <th>Dataset_Name</th>\n",
       "      <th>Grid_Variable</th>\n",
       "      <th>Parameters</th>\n",
       "      <th>Recall</th>\n",
       "      <th>ROC_AUC</th>\n",
       "      <th>Accuracy</th>\n",
       "      <th>Fit_Time</th>\n",
       "    </tr>\n",
       "  </thead>\n",
       "  <tbody>\n",
       "    <tr>\n",
       "      <th>0</th>\n",
       "      <td>Under_Sample_1:1_threshold_20</td>\n",
       "      <td>momentum</td>\n",
       "      <td>{'momentum': 0.0}</td>\n",
       "      <td>0.752738</td>\n",
       "      <td>0.814254</td>\n",
       "      <td>0.732085</td>\n",
       "      <td>108.784148</td>\n",
       "    </tr>\n",
       "  </tbody>\n",
       "</table>\n",
       "</div>"
      ],
      "text/plain": [
       "                    Dataset_Name Grid_Variable         Parameters    Recall  \\\n",
       "0  Under_Sample_1:1_threshold_20      momentum  {'momentum': 0.0}  0.752738   \n",
       "\n",
       "    ROC_AUC  Accuracy    Fit_Time  \n",
       "0  0.814254  0.732085  108.784148  "
      ]
     },
     "execution_count": 19,
     "metadata": {},
     "output_type": "execute_result"
    }
   ],
   "source": [
    "result_pl[\"test_results_momentum\"].collect().to_pandas()"
   ]
  },
  {
   "cell_type": "code",
   "execution_count": 20,
   "id": "9b78a10a-5d9d-4899-846f-5200293eac50",
   "metadata": {},
   "outputs": [
    {
     "data": {
      "text/html": [
       "<div>\n",
       "<style scoped>\n",
       "    .dataframe tbody tr th:only-of-type {\n",
       "        vertical-align: middle;\n",
       "    }\n",
       "\n",
       "    .dataframe tbody tr th {\n",
       "        vertical-align: top;\n",
       "    }\n",
       "\n",
       "    .dataframe thead th {\n",
       "        text-align: right;\n",
       "    }\n",
       "</style>\n",
       "<table border=\"1\" class=\"dataframe\">\n",
       "  <thead>\n",
       "    <tr style=\"text-align: right;\">\n",
       "      <th></th>\n",
       "      <th>Dataset_Name</th>\n",
       "      <th>Grid_Variable</th>\n",
       "      <th>Parameters</th>\n",
       "      <th>Recall</th>\n",
       "      <th>ROC_AUC</th>\n",
       "      <th>Accuracy</th>\n",
       "      <th>Fit_Time</th>\n",
       "    </tr>\n",
       "  </thead>\n",
       "  <tbody>\n",
       "    <tr>\n",
       "      <th>0</th>\n",
       "      <td>Under_Sample_1:1_threshold_20</td>\n",
       "      <td>neurons</td>\n",
       "      <td>{'hidden_layer_sizes': 500}</td>\n",
       "      <td>0.448487</td>\n",
       "      <td>0.729403</td>\n",
       "      <td>0.79575</td>\n",
       "      <td>379.136686</td>\n",
       "    </tr>\n",
       "  </tbody>\n",
       "</table>\n",
       "</div>"
      ],
      "text/plain": [
       "                    Dataset_Name Grid_Variable                   Parameters  \\\n",
       "0  Under_Sample_1:1_threshold_20       neurons  {'hidden_layer_sizes': 500}   \n",
       "\n",
       "     Recall   ROC_AUC  Accuracy    Fit_Time  \n",
       "0  0.448487  0.729403   0.79575  379.136686  "
      ]
     },
     "execution_count": 20,
     "metadata": {},
     "output_type": "execute_result"
    }
   ],
   "source": [
    "result_pl[\"test_results_neurons\"].collect().to_pandas()"
   ]
  },
  {
   "cell_type": "code",
   "execution_count": 21,
   "id": "754c1063-c580-4673-96fd-4157cb662e53",
   "metadata": {},
   "outputs": [
    {
     "data": {
      "text/html": [
       "<div>\n",
       "<style scoped>\n",
       "    .dataframe tbody tr th:only-of-type {\n",
       "        vertical-align: middle;\n",
       "    }\n",
       "\n",
       "    .dataframe tbody tr th {\n",
       "        vertical-align: top;\n",
       "    }\n",
       "\n",
       "    .dataframe thead th {\n",
       "        text-align: right;\n",
       "    }\n",
       "</style>\n",
       "<table border=\"1\" class=\"dataframe\">\n",
       "  <thead>\n",
       "    <tr style=\"text-align: right;\">\n",
       "      <th></th>\n",
       "      <th>Dataset_Name</th>\n",
       "      <th>Grid_Variable</th>\n",
       "      <th>Parameters</th>\n",
       "      <th>Recall</th>\n",
       "      <th>ROC_AUC</th>\n",
       "      <th>Accuracy</th>\n",
       "      <th>Fit_Time</th>\n",
       "    </tr>\n",
       "  </thead>\n",
       "  <tbody>\n",
       "    <tr>\n",
       "      <th>0</th>\n",
       "      <td>Under_Sample_1:1_threshold_20</td>\n",
       "      <td>solver</td>\n",
       "      <td>{'solver': 'adam'}</td>\n",
       "      <td>0.752738</td>\n",
       "      <td>0.814254</td>\n",
       "      <td>0.732085</td>\n",
       "      <td>76.121285</td>\n",
       "    </tr>\n",
       "  </tbody>\n",
       "</table>\n",
       "</div>"
      ],
      "text/plain": [
       "                    Dataset_Name Grid_Variable          Parameters    Recall  \\\n",
       "0  Under_Sample_1:1_threshold_20        solver  {'solver': 'adam'}  0.752738   \n",
       "\n",
       "    ROC_AUC  Accuracy   Fit_Time  \n",
       "0  0.814254  0.732085  76.121285  "
      ]
     },
     "execution_count": 21,
     "metadata": {},
     "output_type": "execute_result"
    }
   ],
   "source": [
    "result_pl[\"test_results_solver\"].collect().to_pandas()"
   ]
  }
 ],
 "metadata": {
  "kernelspec": {
   "display_name": "203C",
   "language": "python",
   "name": "203c"
  },
  "language_info": {
   "codemirror_mode": {
    "name": "ipython",
    "version": 3
   },
   "file_extension": ".py",
   "mimetype": "text/x-python",
   "name": "python",
   "nbconvert_exporter": "python",
   "pygments_lexer": "ipython3",
   "version": "3.10.14"
  }
 },
 "nbformat": 4,
 "nbformat_minor": 5
}
