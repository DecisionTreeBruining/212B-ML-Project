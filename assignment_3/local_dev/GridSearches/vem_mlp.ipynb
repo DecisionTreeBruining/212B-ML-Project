{
 "cells": [
  {
   "cell_type": "markdown",
   "metadata": {},
   "source": [
    "# Frankenstein Model"
   ]
  },
  {
   "cell_type": "markdown",
   "metadata": {},
   "source": [
    "## Summary\n",
    "\n",
    "- "
   ]
  },
  {
   "cell_type": "markdown",
   "metadata": {},
   "source": [
    "## Table of Contents\n",
    "\n",
    "- [Notebook Setup](#Notebook-Setup)\n",
    "- [MLP GridSearch](#MLP-GridSearch)\n",
    "- [MLP Parameters](#MLP-Parameters)\n",
    "- [Results](#Results)"
   ]
  },
  {
   "cell_type": "markdown",
   "metadata": {},
   "source": [
    "## Notebook Setup\n",
    "\n",
    "Significant functions from [assignment_3_tools.py](./assignment_3_tools.py)"
   ]
  },
  {
   "cell_type": "code",
   "execution_count": 41,
   "metadata": {},
   "outputs": [],
   "source": [
    "import os # List \n",
    "import time # Runtime\n",
    "import pickle # Model Saving\n",
    "import logging # Log Checkpoints\n",
    "import numpy as np # Flatten y vectors\n",
    "import pandas as pd # DataFrame\n",
    "import polars as pl # LazyFrame\n",
    "from sklearn.preprocessing import StandardScaler # X Standardization\n",
    "from sklearn.neural_network import MLPClassifier as mlp # model\n",
    "from sklearn.metrics import recall_score, roc_auc_score, accuracy_score, auc, roc_curve  # Scoring\n",
    "from sklearn.model_selection import GridSearchCV, StratifiedKFold, ParameterGrid\n",
    "from great_tables import GT, md, html, from_column, style, loc, vals\n",
    "from assignment_3_tools import parquet_to_dict, unq_df_names, corr_testset\n",
    "import xgboost as xgb"
   ]
  },
  {
   "cell_type": "markdown",
   "metadata": {},
   "source": [
    "## MLP GridSearch"
   ]
  },
  {
   "cell_type": "code",
   "execution_count": 8,
   "metadata": {},
   "outputs": [],
   "source": [
    "def mlp_gridsearch(lazy_dict, unq_names, param_grid, save_pth, test_name, threads=None):\n",
    "    \"\"\"\n",
    "    MLP GridSearch using 5-fold Cross Validation. Saves best model and results.\n",
    "    ---\n",
    "    Args:\n",
    "        lazy_dict: Dictionary with names and LazyFrames of train and test sets.\n",
    "        unq_names: List of unique names of parent datasets.\n",
    "        param_grid: Dictionary of parameters for MLPClassifier. CHANGE FOR BAESIAN\n",
    "        save_pth: String of the path to save the best model.\n",
    "        test_name: String of the test performed. PARAMETER BEING TESTED\n",
    "        threads: Integer of CPU threads for cross-validation (optional).\n",
    "    Return:\n",
    "        None\n",
    "    \"\"\"\n",
    "    ## Initializing\n",
    "    # Define number of threads to be used in GridSearch\n",
    "    if threads is None:\n",
    "        threads = os.cpu_count() - 4\n",
    "        print(f\"Using {threads} CPU threads!\")\n",
    "\n",
    "    # Log for debugging\n",
    "    logging.basicConfig(\n",
    "        filename=f\"./log/MLP_{test_name}.log\",\n",
    "        filemode='w', \n",
    "        level=logging.INFO, \n",
    "        format='%(asctime)s - %(levelname)s - %(message)s')\n",
    "    \n",
    "    ## GridSearch and Results\n",
    "    for name in unq_names:\n",
    "        # Results from prediction on test_set. FOR TEST TABLE\n",
    "        best_results = {\n",
    "            \"Dataset_Name\": [],\n",
    "            \"Grid_Variable\": [],\n",
    "            \"Parameters\": [],\n",
    "            \"Recall\": [], \n",
    "            \"ROC_AUC\": [], \n",
    "            \"Accuracy\": [],\n",
    "            \"Fit_Time\": []}\n",
    "        \n",
    "        # Results from prediction on Cross Validation Set. FOR CV TABLE\n",
    "        param_results = {\n",
    "            \"Dataset_Name\": [],\n",
    "            \"Grid_Variable\": [],\n",
    "            \"Parameters\": [],\n",
    "            \"Recall\": [], \n",
    "            \"Fit_Time\": []}\n",
    "        \n",
    "        ## Reading and Preparing Data\n",
    "        # Dataset names in path\n",
    "        X_train_name = f\"{name}_X_train\"\n",
    "        y_train_name = f\"{name}_y_train\"\n",
    "        X_test_name = f\"{name}_X_test\"\n",
    "        y_test_name = f\"{name}_y_test\"\n",
    "\n",
    "        # Train and test sets.\n",
    "        X_train = lazy_dict[X_train_name].collect().to_pandas()\n",
    "        y_train = lazy_dict[y_train_name].collect().to_pandas()\n",
    "        X_test = lazy_dict[X_test_name].collect().to_pandas()\n",
    "        y_test = lazy_dict[y_test_name].collect().to_pandas()\n",
    "\n",
    "        # Drop index column\n",
    "        X_train.drop(columns=['__index_level_0__'], errors='ignore', inplace=True)\n",
    "        y_train.drop(columns=['__index_level_0__'], errors='ignore', inplace=True)\n",
    "        X_test.drop(columns=['__index_level_0__'], errors='ignore', inplace=True)\n",
    "        y_test.drop(columns=['__index_level_0__'], errors='ignore', inplace=True)\n",
    "\n",
    "        # Flatten response sets\n",
    "        y_train = y_train.to_numpy().ravel()\n",
    "        y_test = y_test.to_numpy().ravel()\n",
    "\n",
    "        # Standardize predictor sets\n",
    "        scaler = StandardScaler()\n",
    "        X_train_scaled = scaler.fit_transform(X_train)\n",
    "        X_test_scaled = scaler.transform(X_test)\n",
    "\n",
    "        ## Defining Modeling and GridSearch. CHANGE FOR BEASIAN\n",
    "        # Define cross-validation folds\n",
    "        cv = StratifiedKFold(n_splits=5, shuffle=True, random_state=212)\n",
    "\n",
    "        # Define mlp model\n",
    "        mlp_model = mlp()\n",
    "\n",
    "        # Define GridSearch. CHANGE TO BEASIAN!!!\n",
    "        grid_search = GridSearchCV(\n",
    "            mlp_model, #mlp model\n",
    "            param_grid=param_grid, #parameter dictionary\n",
    "            cv=cv, # cv\n",
    "            scoring='recall', # best is by recall\n",
    "            n_jobs=threads,\n",
    "            verbose=3, \n",
    "            return_train_score=True) # For making CV table\n",
    "\n",
    "\n",
    "        ## Performing GridSearch\n",
    "        # Debugging Checkpoint\n",
    "        logging.info(f\"Processing dataset: {name}\")\n",
    "        print(f\"Training on {name}...\", flush=True)\n",
    "\n",
    "        # GridSearch Training and Results\n",
    "        grid_search.fit(X_train_scaled, y_train)\n",
    "\n",
    "        # Debugging Checkpoint\n",
    "        print(f\"GridSearch completed\", flush=True)\n",
    "        logging.info(f\"GridSearch for {test_name} completed.\")\n",
    "\n",
    "        ## Results from GridSearch\n",
    "        # Storing Results for each parameter combination\n",
    "        for i in range(len(grid_search.cv_results_['params'])):\n",
    "            param_combination = grid_search.cv_results_['params'][i]\n",
    "            recall = grid_search.cv_results_['mean_test_score'][i]\n",
    "            fit_time = grid_search.cv_results_['mean_fit_time'][i]\n",
    "            param_results[\"Dataset_Name\"].append(name)\n",
    "            param_results[\"Grid_Variable\"].append(test_name)\n",
    "            param_results[\"Parameters\"].append(param_combination)\n",
    "            param_results[\"Recall\"].append(recall)\n",
    "            param_results[\"Fit_Time\"].append(fit_time)\n",
    "        \n",
    "        # Convert to DataFrame\n",
    "        param_results_df = pd.DataFrame(param_results)\n",
    "        param_results_df = param_results_df.sort_values(by=\"Recall\", ascending=False)\n",
    "\n",
    "        # Best model by Recall on Cross Validation data\n",
    "        best_fit_time = param_results_df.iloc[0][\"Fit_Time\"]\n",
    "        best_model = grid_search.best_estimator_\n",
    "\n",
    "        # Metrics on test set\n",
    "        y_pred_test = best_model.predict(X_test_scaled)\n",
    "        test_recall = recall_score(y_test, y_pred_test)\n",
    "        test_roc_auc = roc_auc_score(y_test, best_model.predict_proba(X_test_scaled)[:, 1])\n",
    "        test_accuracy = accuracy_score(y_test, y_pred_test)\n",
    "\n",
    "        # Save best model as pickle\n",
    "        # example: best_model_neurons-hidden_layer_sizes.pkl\n",
    "        with open(f\"{save_pth}best_model{test_name}-{name}.pkl\", 'wb') as file:\n",
    "            pickle.dump(best_model, file)\n",
    "\n",
    "        # Debugging Checkpoint\n",
    "        logging.info(f\"Model saved to {save_pth}\")\n",
    "\n",
    "        # Results from predicting test data using the best model.\n",
    "        best_results[\"Dataset_Name\"].append(name)\n",
    "        best_results[\"Grid_Variable\"].append(test_name)\n",
    "        best_results[\"Parameters\"].append(grid_search.best_params_)\n",
    "        best_results[\"Recall\"].append(test_recall)\n",
    "        best_results[\"ROC_AUC\"].append(test_roc_auc)\n",
    "        best_results[\"Accuracy\"].append(test_accuracy)\n",
    "        best_results[\"Fit_Time\"].append(best_fit_time)\n",
    "\n",
    "        # Convert to DataFrame\n",
    "        best_results_df = pd.DataFrame(best_results)\n",
    "        \n",
    "        # Save results as Parquet\n",
    "        # example: test_results_layers-hidden_layer_sizes.parquet\n",
    "        best_results_df.to_parquet(f\"{save_pth}test_results{test_name}-{name}.parquet\", index=False)\n",
    "        # example: grid_results_neurons-hidden_layer_sizes.parquet\n",
    "        param_results_df.to_parquet(f\"{save_pth}grid_results{test_name}-{name}.parquet\", index=False)\n",
    "\n",
    "        # Debugging Checkpoint\n",
    "        print(f\"{test_name} GridSearch completed!\", flush=True)\n",
    "        logging.info(f\"{test_name} GridSearch completed!\")"
   ]
  },
  {
   "cell_type": "markdown",
   "metadata": {},
   "source": [
    "## MLP Parameters\n",
    "\n",
    "Change the `param_grid` and `test_name` to match the test being performed."
   ]
  },
  {
   "cell_type": "code",
   "execution_count": 9,
   "metadata": {},
   "outputs": [],
   "source": [
    "# Train and test sets are in MLP_Dataset.\n",
    "# Save results and best model to MLP_Results.\n",
    "data_pth = \"../../../Data/GoogleDrive/MLP_Dataset/\"\n",
    "save_pth = \"../../../Data/GoogleDrive/MLP_Results/\"\n",
    "\n",
    "# Read in Parquet files in path and add to a LazyFrame dictionary.\n",
    "pq_jar = parquet_to_dict(data_pth) # all lazy\n",
    "\n",
    "# Record the unique dataset names (drop X_train, etc.).\n",
    "unq_names = unq_df_names(pq_jar)\n",
    "\n",
    "# A dictionary of parmeter dictionaries\n",
    "# Schema {testname:{parameter:values}}\n",
    "\n",
    "all_test_parameters = {\n",
    "    '_best_params':{\n",
    "        'hidden_layer_sizes': [(47, 46, 46, 46)],\n",
    "        'learning_rate_init': [0.01]}\n",
    "}\n",
    "\n",
    "frank_param = {\n",
    "    '_best_params':{\n",
    "        'hidden_layer_sizes': [(47, 46, 46, 46)],  # Number of neurons and layers, represented as a tuple\n",
    "        'activation': ['relu'],         # Activation function\n",
    "        'alpha': [0.0001],              # Regularization parameter\n",
    "        'batch_size': ['auto'],         # Size of minibatches\n",
    "        'learning_rate': ['constant'],  # Learning rate schedule\n",
    "        'learning_rate_init': [0.01],   # Initial learning rate\n",
    "        'max_iter': [200],              # Maximum number of iterations\n",
    "        'momentum': [0.9],              # Momentum for gradient descent\n",
    "        'n_iter_no_change': [10],       # Number of iterations with no improvement to stop training\n",
    "        'solver': ['adam']              # Solver for weight optimization\n",
    "}\n",
    "}\n",
    "\n",
    "test = '_best_params_vem'\n",
    "\n",
    "param_dict = frank_param"
   ]
  },
  {
   "cell_type": "code",
   "execution_count": 10,
   "metadata": {},
   "outputs": [
    {
     "name": "stdout",
     "output_type": "stream",
     "text": [
      "Using 8 CPU threads!\n",
      "Training on Under_Sample_1:1_threshold_20...\n",
      "Fitting 5 folds for each of 1 candidates, totalling 5 fits\n",
      "[CV 5/5] END hidden_layer_sizes=(47, 46, 46, 46), learning_rate_init=0.01;, score=(train=0.880, test=0.871) total time= 1.8min\n",
      "[CV 1/5] END hidden_layer_sizes=(47, 46, 46, 46), learning_rate_init=0.01;, score=(train=0.933, test=0.927) total time= 2.7min\n",
      "[CV 3/5] END hidden_layer_sizes=(47, 46, 46, 46), learning_rate_init=0.01;, score=(train=0.915, test=0.908) total time= 2.8min\n",
      "[CV 2/5] END hidden_layer_sizes=(47, 46, 46, 46), learning_rate_init=0.01;, score=(train=0.947, test=0.939) total time= 2.8min\n",
      "[CV 4/5] END hidden_layer_sizes=(47, 46, 46, 46), learning_rate_init=0.01;, score=(train=0.928, test=0.920) total time= 3.4min\n",
      "GridSearch completed\n",
      "_best_params GridSearch completed!\n",
      "CPU times: user 1h 42min 13s, sys: 3min 23s, total: 1h 45min 36s\n",
      "Wall time: 12min 37s\n"
     ]
    }
   ],
   "source": [
    "%%time\n",
    "# Run the model\n",
    "for test, param_dict in all_test_parameters.items():\n",
    "    mlp_gridsearch(pq_jar, unq_names, param_dict, save_pth, test)"
   ]
  },
  {
   "cell_type": "markdown",
   "metadata": {},
   "source": [
    "## Results"
   ]
  },
  {
   "cell_type": "code",
   "execution_count": 12,
   "metadata": {},
   "outputs": [],
   "source": [
    "## Reading in Results\n",
    "\n",
    "name = 'best_params-Under_Sample_1:1_threshold_20'\n",
    "\n",
    "# Best model by Recall\n",
    "with open(f\"{save_pth}best_model_{name}.pkl\", 'rb') as file:\n",
    "    model = pickle.load(file)\n",
    "\n",
    "# Test set prediction results\n",
    "results_df = pd.read_parquet(f\"{save_pth}test_results_{name}.parquet\")\n",
    "\n",
    "# Cross Validation results\n",
    "grid_df = pd.read_parquet(f\"{save_pth}grid_results_{name}.parquet\")"
   ]
  },
  {
   "cell_type": "code",
   "execution_count": 37,
   "metadata": {},
   "outputs": [
    {
     "data": {
      "text/html": [
       "<div>\n",
       "<style scoped>\n",
       "    .dataframe tbody tr th:only-of-type {\n",
       "        vertical-align: middle;\n",
       "    }\n",
       "\n",
       "    .dataframe tbody tr th {\n",
       "        vertical-align: top;\n",
       "    }\n",
       "\n",
       "    .dataframe thead th {\n",
       "        text-align: right;\n",
       "    }\n",
       "</style>\n",
       "<table border=\"1\" class=\"dataframe\">\n",
       "  <thead>\n",
       "    <tr style=\"text-align: right;\">\n",
       "      <th></th>\n",
       "      <th>Result_Type</th>\n",
       "      <th>Recall</th>\n",
       "      <th>ROC_AUC</th>\n",
       "      <th>Accuracy</th>\n",
       "    </tr>\n",
       "  </thead>\n",
       "  <tbody>\n",
       "    <tr>\n",
       "      <th>0</th>\n",
       "      <td>Test</td>\n",
       "      <td>0.811796</td>\n",
       "      <td>0.814387</td>\n",
       "      <td>0.691627</td>\n",
       "    </tr>\n",
       "    <tr>\n",
       "      <th>0</th>\n",
       "      <td>CV</td>\n",
       "      <td>0.912884</td>\n",
       "      <td>NaN</td>\n",
       "      <td>NaN</td>\n",
       "    </tr>\n",
       "  </tbody>\n",
       "</table>\n",
       "</div>"
      ],
      "text/plain": [
       "  Result_Type    Recall   ROC_AUC  Accuracy\n",
       "0        Test  0.811796  0.814387  0.691627\n",
       "0          CV  0.912884       NaN       NaN"
      ]
     },
     "execution_count": 37,
     "metadata": {},
     "output_type": "execute_result"
    }
   ],
   "source": [
    "# data type of the model\n",
    "frank_results_df = pd.concat([results_df, grid_df], axis=0)\n",
    "frank_results_df = frank_results_df[['Recall', \n",
    "                                     'ROC_AUC', \n",
    "                                       'Accuracy']]\n",
    "frank_results_df['Result_Type'] = ['Test'] * len(results_df) + ['CV'] * len(grid_df)\n",
    "frank_results_df = frank_results_df[['Result_Type', 'Recall', 'ROC_AUC', 'Accuracy']]\n",
    "frank_results_df"
   ]
  },
  {
   "cell_type": "markdown",
   "metadata": {},
   "source": [
    "# XGBoost Model"
   ]
  },
  {
   "cell_type": "code",
   "execution_count": 45,
   "metadata": {},
   "outputs": [],
   "source": [
    "# Prepare data for XGBoost model\n",
    "\n",
    "name = 'Under_Sample_1:1_threshold_20'\n",
    "X_train_name = f\"{data_pth}{name}_X_train.parquet\"\n",
    "y_train_name = f\"{data_pth}{name}_y_train.parquet\"\n",
    "X_test_name = f\"{data_pth}{name}_X_test.parquet\"\n",
    "y_test_name = f\"{data_pth}{name}_y_test.parquet\"\n",
    "\n",
    "# Train and test sets.\n",
    "X_train = pd.read_parquet(X_train_name)\n",
    "y_train = pd.read_parquet(y_train_name)\n",
    "X_test = pd.read_parquet(X_test_name)\n",
    "y_test = pd.read_parquet(y_test_name)\n",
    "\n",
    "# Drop index column\n",
    "X_train.drop(columns=['__index_level_0__'], errors='ignore', inplace=True)\n",
    "y_train.drop(columns=['__index_level_0__'], errors='ignore', inplace=True)\n",
    "X_test.drop(columns=['__index_level_0__'], errors='ignore', inplace=True)\n",
    "y_test.drop(columns=['__index_level_0__'], errors='ignore', inplace=True)\n",
    "\n",
    "# Flatten response sets\n",
    "y_train = y_train.to_numpy().ravel()\n",
    "y_test = y_test.to_numpy().ravel()\n",
    "\n",
    "# Standardize predictor sets\n",
    "scaler = StandardScaler()\n",
    "X_train_scaled = scaler.fit_transform(X_train)\n",
    "X_test_scaled = scaler.transform(X_test)"
   ]
  },
  {
   "cell_type": "code",
   "execution_count": 46,
   "metadata": {},
   "outputs": [
    {
     "name": "stderr",
     "output_type": "stream",
     "text": [
      "/opt/anaconda3/lib/python3.11/site-packages/joblib/externals/loky/process_executor.py:700: UserWarning: A worker stopped while some jobs were given to the executor. This can be caused by a too short worker timeout or by a memory leak.\n",
      "  warnings.warn(\n"
     ]
    },
    {
     "name": "stdout",
     "output_type": "stream",
     "text": [
      "Best set of hyperparameters:  {'learning_rate': 0.001, 'max_depth': 3, 'subsample': 1}\n",
      "Best score:  0.8345360549838865\n"
     ]
    }
   ],
   "source": [
    "# Perform GridSearch\n",
    "\n",
    "# Define cross-validation folds\n",
    "cv = StratifiedKFold(n_splits=5, shuffle=True, random_state=212)\n",
    "\n",
    "# Define XGBoost model\n",
    "xgb_model = xgb.XGBClassifier()\n",
    "\n",
    "param_grid = {\n",
    "    'max_depth': [3, 5, 7],\n",
    "    'learning_rate': [0.1, 0.01, 0.001],\n",
    "    'subsample': [0.5, 0.7, 1],\n",
    "}\n",
    "\n",
    "# Define GridSearch\n",
    "grid_search = GridSearchCV(\n",
    "    xgb_model,\n",
    "    param_grid=param_grid,\n",
    "    cv=cv,\n",
    "    scoring='recall',\n",
    "    n_jobs=8,\n",
    "    return_train_score=True)\n",
    "\n",
    "# Grid search training and results\n",
    "grid_search.fit(X_train_scaled, y_train)\n",
    "\n",
    "# Print the best set of hyperparameters and the corresponding score\n",
    "print(\"Best set of hyperparameters: \", grid_search.best_params_)\n",
    "print(\"Best score: \", grid_search.best_score_)"
   ]
  },
  {
   "cell_type": "code",
   "execution_count": 47,
   "metadata": {},
   "outputs": [
    {
     "name": "stdout",
     "output_type": "stream",
     "text": [
      "ROC AUC Score: 0.7073852000260137\n"
     ]
    }
   ],
   "source": [
    "# Final XGBoost model\n",
    "\n",
    "# Get the best model\n",
    "best_xgb_model = grid_search.best_estimator_\n",
    "\n",
    "# Use the best model to make predictions on the testing data\n",
    "predictions = best_xgb_model.predict(X_test)\n",
    "\n",
    "# Get predicted probabilities for the positive class\n",
    "y_probs = best_xgb_model.predict_proba(X_test)[:, 1]\n",
    "\n",
    "# Calculate false positive rate, true positive rate, and thresholds\n",
    "fpr, tpr, thresholds = roc_curve(y_test, y_probs)\n",
    "\n",
    "# Calculate AUC-ROC\n",
    "roc_auc = auc(fpr, tpr)\n",
    "print(\"ROC AUC Score:\", roc_auc)\n",
    "\n",
    "# Save XG Model\n",
    "pickle.dump(best_xgb_model, open(save_pth + 'xgb_model.pkl', 'wb'))"
   ]
  },
  {
   "cell_type": "code",
   "execution_count": 54,
   "metadata": {},
   "outputs": [],
   "source": [
    "# Save XGBoost results\n",
    "xgb_results = {\n",
    "    \"Recall\": recall_score(y_test, predictions),\n",
    "    \"ROC_AUC\": roc_auc,\n",
    "    \"Accuracy\": accuracy_score(y_test, predictions)\n",
    "}\n",
    "xgb_results_df = pd.DataFrame(xgb_results, index=[0])\n",
    "xgb_results_df.to_parquet(f\"{save_pth}xgb_results.parquet\", index=False)\n",
    "\n",
    "# Read in XGBoost results\n",
    "xgb_results_df = pd.read_parquet(f\"{save_pth}xgb_results.parquet\")\n",
    "\n",
    "# Save grid search results\n",
    "grid_results = pd.DataFrame(grid_search.cv_results_)\n",
    "grid_results.to_parquet(f\"{save_pth}grid_results_xgb.parquet\", index=False)\n",
    "\n",
    "# Read in grid search results\n",
    "grid_results_df = pd.read_parquet(f\"{save_pth}grid_results_xgb.parquet\")"
   ]
  },
  {
   "cell_type": "code",
   "execution_count": 62,
   "metadata": {},
   "outputs": [
    {
     "data": {
      "text/html": [
       "<div>\n",
       "<style scoped>\n",
       "    .dataframe tbody tr th:only-of-type {\n",
       "        vertical-align: middle;\n",
       "    }\n",
       "\n",
       "    .dataframe tbody tr th {\n",
       "        vertical-align: top;\n",
       "    }\n",
       "\n",
       "    .dataframe thead th {\n",
       "        text-align: right;\n",
       "    }\n",
       "</style>\n",
       "<table border=\"1\" class=\"dataframe\">\n",
       "  <thead>\n",
       "    <tr style=\"text-align: right;\">\n",
       "      <th></th>\n",
       "      <th>Result_Type</th>\n",
       "      <th>Recall</th>\n",
       "    </tr>\n",
       "  </thead>\n",
       "  <tbody>\n",
       "    <tr>\n",
       "      <th>20</th>\n",
       "      <td>CV</td>\n",
       "      <td>0.834536</td>\n",
       "    </tr>\n",
       "  </tbody>\n",
       "</table>\n",
       "</div>"
      ],
      "text/plain": [
       "   Result_Type    Recall\n",
       "20          CV  0.834536"
      ]
     },
     "execution_count": 62,
     "metadata": {},
     "output_type": "execute_result"
    }
   ],
   "source": [
    "# Filter for best rank_test_score from grid_results_df\n",
    "best_cv_xgb = grid_results_df[grid_results_df['rank_test_score'] == 1]\n",
    "best_cv_xgb = best_cv_xgb['mean_test_score']\n",
    "# Convert to DataFrame\n",
    "best_cv_xgb = pd.DataFrame(best_cv_xgb)\n",
    "best_cv_xgb['Result_Type'] = 'CV'\n",
    "best_cv_xgb = best_cv_xgb[['Result_Type', 'mean_test_score']]\n",
    "# Change column name\n",
    "best_cv_xgb.columns = ['Result_Type', 'Recall']\n",
    "best_cv_xgb"
   ]
  },
  {
   "cell_type": "code",
   "execution_count": 63,
   "metadata": {},
   "outputs": [
    {
     "data": {
      "text/html": [
       "<div>\n",
       "<style scoped>\n",
       "    .dataframe tbody tr th:only-of-type {\n",
       "        vertical-align: middle;\n",
       "    }\n",
       "\n",
       "    .dataframe tbody tr th {\n",
       "        vertical-align: top;\n",
       "    }\n",
       "\n",
       "    .dataframe thead th {\n",
       "        text-align: right;\n",
       "    }\n",
       "</style>\n",
       "<table border=\"1\" class=\"dataframe\">\n",
       "  <thead>\n",
       "    <tr style=\"text-align: right;\">\n",
       "      <th></th>\n",
       "      <th>Result_Type</th>\n",
       "      <th>Recall</th>\n",
       "      <th>ROC_AUC</th>\n",
       "      <th>Accuracy</th>\n",
       "    </tr>\n",
       "  </thead>\n",
       "  <tbody>\n",
       "    <tr>\n",
       "      <th>0</th>\n",
       "      <td>Test</td>\n",
       "      <td>0.705783</td>\n",
       "      <td>0.707385</td>\n",
       "      <td>0.662288</td>\n",
       "    </tr>\n",
       "    <tr>\n",
       "      <th>20</th>\n",
       "      <td>CV</td>\n",
       "      <td>0.834536</td>\n",
       "      <td>NaN</td>\n",
       "      <td>NaN</td>\n",
       "    </tr>\n",
       "  </tbody>\n",
       "</table>\n",
       "</div>"
      ],
      "text/plain": [
       "   Result_Type    Recall   ROC_AUC  Accuracy\n",
       "0         Test  0.705783  0.707385  0.662288\n",
       "20          CV  0.834536       NaN       NaN"
      ]
     },
     "execution_count": 63,
     "metadata": {},
     "output_type": "execute_result"
    }
   ],
   "source": [
    "# Prepare results for table\n",
    "xgb_results_df['Result_Type'] = 'Test'\n",
    "xgb_results_df = xgb_results_df[['Result_Type', 'Recall', 'ROC_AUC', 'Accuracy']]\n",
    "\n",
    "# Combine results\n",
    "final_xgb_results_df = pd.concat([xgb_results_df, best_cv_xgb], axis=0)\n",
    "final_xgb_results_df"
   ]
  },
  {
   "cell_type": "markdown",
   "metadata": {},
   "source": [
    "# Bayesian Optimization"
   ]
  }
 ],
 "metadata": {
  "kernelspec": {
   "display_name": "base",
   "language": "python",
   "name": "python3"
  },
  "language_info": {
   "codemirror_mode": {
    "name": "ipython",
    "version": 3
   },
   "file_extension": ".py",
   "mimetype": "text/x-python",
   "name": "python",
   "nbconvert_exporter": "python",
   "pygments_lexer": "ipython3",
   "version": "3.11.8"
  }
 },
 "nbformat": 4,
 "nbformat_minor": 2
}
