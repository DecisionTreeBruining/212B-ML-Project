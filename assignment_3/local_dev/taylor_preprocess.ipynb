{
 "cells": [
  {
   "cell_type": "markdown",
   "id": "70ed3961-be02-4542-a2f0-2dcce621eda3",
   "metadata": {},
   "source": [
    "# Preprocessing for Neural Network"
   ]
  },
  {
   "cell_type": "markdown",
   "id": "00140337-dc8d-4440-8b6c-1872e8e441a3",
   "metadata": {},
   "source": [
    "## Notebook Summary\n",
    "\n",
    "- [Notebook Setup](#Notebook-Setup)\n",
    "- [Read in Parquet](#Read-in-Parquet)\n",
    "- [Encode Features](#Encode-Features)\n",
    "- [Balance Target Features](#Balance-Target-Features)\n",
    "- [Results](#Results)\n",
    "- [Save as Parquet](#Save-as_Parquet)"
   ]
  },
  {
   "cell_type": "markdown",
   "id": "80270561-8b47-42cb-b419-b91dc7c45a9c",
   "metadata": {},
   "source": [
    "## Notebook Setup"
   ]
  },
  {
   "cell_type": "code",
   "execution_count": 1,
   "id": "b75cac1f-91ff-45e5-8480-c318f275644b",
   "metadata": {
    "tags": []
   },
   "outputs": [],
   "source": [
    "from assignment_3_tools import (\n",
    "    parquet_to_dict, dict_to_parquet, encode_cvd_var,\n",
    "    rand_under_sample, rand_over_sample, balanced_dict)\n",
    "import polars as pl\n",
    "import pandas as pd\n",
    "import seaborn as sns"
   ]
  },
  {
   "cell_type": "markdown",
   "id": "8c94376f-ec61-41db-b3e8-0da52a5f490b",
   "metadata": {},
   "source": [
    "## Read in Parquet"
   ]
  },
  {
   "cell_type": "code",
   "execution_count": 2,
   "id": "50a9e583-0ba4-44c0-a1e0-96330a86d193",
   "metadata": {
    "tags": []
   },
   "outputs": [],
   "source": [
    "pq_jar = parquet_to_dict('../../Data/GoogleDrive/')"
   ]
  },
  {
   "cell_type": "markdown",
   "id": "45872f98-880e-4d58-99ba-eb8377746e93",
   "metadata": {},
   "source": [
    "## Encode Features"
   ]
  },
  {
   "cell_type": "code",
   "execution_count": 3,
   "id": "e6fbc792-f745-4d32-8abe-c319c5a531d4",
   "metadata": {
    "tags": []
   },
   "outputs": [],
   "source": [
    "df_heart_drop_05_imp = pq_jar['df_heart_drop_05_imp'].collect().to_pandas()\n",
    "\n",
    "X_train, X_test, y_train, y_test = encode_cvd_var(df_heart_drop_05_imp)"
   ]
  },
  {
   "cell_type": "markdown",
   "id": "677212b3-e50a-4c7d-8aec-08de78cd724a",
   "metadata": {
    "tags": []
   },
   "source": [
    "## Balance Target Features"
   ]
  },
  {
   "cell_type": "code",
   "execution_count": 4,
   "id": "9eab77b8-6c8f-4640-bb1e-5b6faa5d466c",
   "metadata": {
    "tags": []
   },
   "outputs": [],
   "source": [
    "ratios = [1,2,3,5,7]\n",
    "balanced_X_trains, balanced_y_trains = balanced_dict(X_train, y_train, ratios)\n",
    "balanced_X_trains['Baseline'] = X_train\n",
    "balanced_y_trains['Baseline'] = y_train "
   ]
  },
  {
   "cell_type": "markdown",
   "id": "3a731d0f-2fb0-4525-b269-41d3262f06b6",
   "metadata": {},
   "source": [
    "## Results\n",
    "\n",
    "- [x] Make a table of over/under sampled datasets\n",
    "- [] Add MLP performance"
   ]
  },
  {
   "cell_type": "code",
   "execution_count": 5,
   "id": "0464ce24-35a7-474f-ac33-7691c8b3336a",
   "metadata": {
    "tags": []
   },
   "outputs": [
    {
     "data": {
      "text/html": [
       "<div>\n",
       "<style scoped>\n",
       "    .dataframe tbody tr th:only-of-type {\n",
       "        vertical-align: middle;\n",
       "    }\n",
       "\n",
       "    .dataframe tbody tr th {\n",
       "        vertical-align: top;\n",
       "    }\n",
       "\n",
       "    .dataframe thead th {\n",
       "        text-align: right;\n",
       "    }\n",
       "</style>\n",
       "<table border=\"1\" class=\"dataframe\">\n",
       "  <thead>\n",
       "    <tr style=\"text-align: right;\">\n",
       "      <th></th>\n",
       "      <th>Balance_Method</th>\n",
       "      <th>No_CVD</th>\n",
       "      <th>Yes_CVD</th>\n",
       "      <th>Total_Obs</th>\n",
       "    </tr>\n",
       "  </thead>\n",
       "  <tbody>\n",
       "    <tr>\n",
       "      <th>10</th>\n",
       "      <td>Baseline</td>\n",
       "      <td>260572</td>\n",
       "      <td>35453</td>\n",
       "      <td>296025</td>\n",
       "    </tr>\n",
       "    <tr>\n",
       "      <th>1</th>\n",
       "      <td>Over_Sample_1:1</td>\n",
       "      <td>260572</td>\n",
       "      <td>260572</td>\n",
       "      <td>521144</td>\n",
       "    </tr>\n",
       "    <tr>\n",
       "      <th>3</th>\n",
       "      <td>Over_Sample_1:2</td>\n",
       "      <td>521144</td>\n",
       "      <td>260572</td>\n",
       "      <td>781716</td>\n",
       "    </tr>\n",
       "    <tr>\n",
       "      <th>5</th>\n",
       "      <td>Over_Sample_1:3</td>\n",
       "      <td>781716</td>\n",
       "      <td>260572</td>\n",
       "      <td>1042288</td>\n",
       "    </tr>\n",
       "    <tr>\n",
       "      <th>7</th>\n",
       "      <td>Over_Sample_1:5</td>\n",
       "      <td>1302860</td>\n",
       "      <td>260572</td>\n",
       "      <td>1563432</td>\n",
       "    </tr>\n",
       "    <tr>\n",
       "      <th>9</th>\n",
       "      <td>Over_Sample_1:7</td>\n",
       "      <td>1824004</td>\n",
       "      <td>260572</td>\n",
       "      <td>2084576</td>\n",
       "    </tr>\n",
       "    <tr>\n",
       "      <th>0</th>\n",
       "      <td>Under_Sample_1:1</td>\n",
       "      <td>35453</td>\n",
       "      <td>35453</td>\n",
       "      <td>70906</td>\n",
       "    </tr>\n",
       "    <tr>\n",
       "      <th>2</th>\n",
       "      <td>Under_Sample_2:1</td>\n",
       "      <td>70906</td>\n",
       "      <td>35453</td>\n",
       "      <td>106359</td>\n",
       "    </tr>\n",
       "    <tr>\n",
       "      <th>4</th>\n",
       "      <td>Under_Sample_3:1</td>\n",
       "      <td>106359</td>\n",
       "      <td>35453</td>\n",
       "      <td>141812</td>\n",
       "    </tr>\n",
       "    <tr>\n",
       "      <th>6</th>\n",
       "      <td>Under_Sample_5:1</td>\n",
       "      <td>177265</td>\n",
       "      <td>35453</td>\n",
       "      <td>212718</td>\n",
       "    </tr>\n",
       "    <tr>\n",
       "      <th>8</th>\n",
       "      <td>Under_Sample_7:1</td>\n",
       "      <td>248171</td>\n",
       "      <td>35453</td>\n",
       "      <td>283624</td>\n",
       "    </tr>\n",
       "  </tbody>\n",
       "</table>\n",
       "</div>"
      ],
      "text/plain": [
       "      Balance_Method   No_CVD  Yes_CVD  Total_Obs\n",
       "10          Baseline   260572    35453     296025\n",
       "1    Over_Sample_1:1   260572   260572     521144\n",
       "3    Over_Sample_1:2   521144   260572     781716\n",
       "5    Over_Sample_1:3   781716   260572    1042288\n",
       "7    Over_Sample_1:5  1302860   260572    1563432\n",
       "9    Over_Sample_1:7  1824004   260572    2084576\n",
       "0   Under_Sample_1:1    35453    35453      70906\n",
       "2   Under_Sample_2:1    70906    35453     106359\n",
       "4   Under_Sample_3:1   106359    35453     141812\n",
       "6   Under_Sample_5:1   177265    35453     212718\n",
       "8   Under_Sample_7:1   248171    35453     283624"
      ]
     },
     "execution_count": 5,
     "metadata": {},
     "output_type": "execute_result"
    }
   ],
   "source": [
    "Balance_Method = list()\n",
    "No_CVD = list()\n",
    "Yes_CVD = list()\n",
    "Total_Obs = list()\n",
    "\n",
    "for key, value in balanced_y_trains.items():\n",
    "    Balance_Method.append(key)\n",
    "    No_CVD.append(value.value_counts()[0])\n",
    "    Yes_CVD.append(value.value_counts()[1])\n",
    "    Total_Obs.append(value.value_counts()[1] + value.value_counts()[0])\n",
    "\n",
    "tbl_balanced = pd.DataFrame({\n",
    "    'Balance_Method': Balance_Method,\n",
    "    'No_CVD': No_CVD,\n",
    "    'Yes_CVD': Yes_CVD,\n",
    "    'Total_Obs': Total_Obs})\n",
    "\n",
    "tbl_balanced.sort_values(by='Balance_Method', ascending=True)"
   ]
  },
  {
   "cell_type": "markdown",
   "id": "3b09053b-523e-4766-9e5b-3c9cd9f533f4",
   "metadata": {},
   "source": [
    "## Save as Parquet"
   ]
  },
  {
   "cell_type": "code",
   "execution_count": null,
   "id": "f0f0b863-4ff9-4443-9155-9485cccaec51",
   "metadata": {},
   "outputs": [],
   "source": []
  },
  {
   "cell_type": "code",
   "execution_count": null,
   "id": "7294540a-1988-4d21-97bc-bcfcd071356d",
   "metadata": {},
   "outputs": [],
   "source": []
  }
 ],
 "metadata": {
  "kernelspec": {
   "display_name": "203C",
   "language": "python",
   "name": "203c"
  },
  "language_info": {
   "codemirror_mode": {
    "name": "ipython",
    "version": 3
   },
   "file_extension": ".py",
   "mimetype": "text/x-python",
   "name": "python",
   "nbconvert_exporter": "python",
   "pygments_lexer": "ipython3",
   "version": "3.11.6"
  }
 },
 "nbformat": 4,
 "nbformat_minor": 5
}
