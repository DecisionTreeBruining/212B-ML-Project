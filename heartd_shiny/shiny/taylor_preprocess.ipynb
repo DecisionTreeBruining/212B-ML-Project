{
 "cells": [
  {
   "cell_type": "markdown",
   "id": "70ed3961-be02-4542-a2f0-2dcce621eda3",
   "metadata": {},
   "source": [
    "# Preprocessing for Neural Network\n",
    "### Finalized 5/9/24"
   ]
  },
  {
   "cell_type": "markdown",
   "id": "00140337-dc8d-4440-8b6c-1872e8e441a3",
   "metadata": {},
   "source": [
    "## Summary\n",
    "\n",
    "Multiple datasets were created to document combinations of null-threshold filtering and target variable balancing applied to the BRFSS Kaggle dataset.\n",
    "\n",
    "| Operation | Parameters | Notes | Filename |\n",
    "|---|---|---|---|\n",
    "|Null-Threshold Filtering|0, 1, 3, 5, 10, 20, 40| 0 = No missing and 40 = all missing |---|\n",
    "|Random Over Sampling (n:y)| 1:1, 1:2, 1:3, 1:5, 1:7 | Randomly select CVD observations with replacement |---|\n",
    "|Random Under Sampling (n:y)| 1:1, 2:1, 3:1, 5:1, 7:1 | Randomly remove Healthy observations |---|\n",
    "|Baseline test sets| 7 (14 files) | Null-threshold datasets without over/under sampling | `df_heart_drop_[threshold]_imp_[X/y]_test`|\n",
    "|Baseline Training Sets | 7 (14 files) | Null-threshold datasets without over/under sampling | `df_heart_drop_[threshold]_imp[X/y]_train`|\n",
    "|Preprocessing Training Sets| 70 (140 files) | Null-threshold * (Under + Over) sampling | `[Over/Under]_Sample_[ratio]-_threshold_[threshold]_[X/y]_train`|\n",
    "|Total datasets| 84 (168 files) | All datasets are imputed and encoded but not standardized.| All files are in parquet format in `./Data/GoogleDrive/Encoded_Data/`|"
   ]
  },
  {
   "cell_type": "markdown",
   "id": "7bdf650d-180a-4e01-b04e-721949dc4365",
   "metadata": {},
   "source": [
    "## Table of Contents\n",
    "\n",
    "- [Notebook Setup](#Notebook-Setup)\n",
    "- [Read in Parquet](#Read-in-Parquet)\n",
    "- [Encode Features](#Encode-Features)\n",
    "- [Balance Target Features](#Balance-Target-Features)\n",
    "- [Results](#Results)\n",
    "- [Save as Parquet](#Save-as-Parquet)"
   ]
  },
  {
   "cell_type": "markdown",
   "id": "80270561-8b47-42cb-b419-b91dc7c45a9c",
   "metadata": {},
   "source": [
    "## Notebook Setup\n",
    "\n",
    "Significant functions used can be found in [assignment_3_tools.py](./assignment_3_tools.py)\n",
    "\n",
    " To Run this notebook __100GB of ram/swap__ is required until the notebook is optimized by iterative reading, encoding, and balancing are used."
   ]
  },
  {
   "cell_type": "code",
   "execution_count": 4,
   "id": "b75cac1f-91ff-45e5-8480-c318f275644b",
   "metadata": {
    "tags": []
   },
   "outputs": [],
   "source": [
    "from app_tools import (\n",
    "    parquet_to_dict,\n",
    "    pickle_to_dict,\n",
    "    encode_cvd_var,\n",
    "    load_and_transform_new_data\n",
    ")\n",
    "import polars as pl\n",
    "import pandas as pd"
   ]
  },
  {
   "cell_type": "markdown",
   "id": "8c94376f-ec61-41db-b3e8-0da52a5f490b",
   "metadata": {},
   "source": [
    "## Read in Parquet\n",
    "\n",
    "Read in all null-threshold datasets"
   ]
  },
  {
   "cell_type": "code",
   "execution_count": 5,
   "id": "50a9e583-0ba4-44c0-a1e0-96330a86d193",
   "metadata": {
    "tags": []
   },
   "outputs": [
    {
     "name": "stdout",
     "output_type": "stream",
     "text": [
      "CPU times: user 485 ms, sys: 278 ms, total: 763 ms\n",
      "Wall time: 407 ms\n"
     ]
    }
   ],
   "source": [
    "%%time\n",
    "pq_jar = parquet_to_dict('../../Data/GoogleDrive/Assignment_2_Archive/') #lazy read all parquet\n",
    "\n",
    "thresholds = [20]\n",
    "all_heart_drop = dict()\n",
    "\n",
    "# Select all drop threshold datasets and convert to pandas\n",
    "for threshold in thresholds:\n",
    "    df_name = f\"df_heart_drop_{threshold:02}_imp\"\n",
    "    all_heart_drop[df_name] = pq_jar[df_name].collect().to_pandas()"
   ]
  },
  {
   "cell_type": "markdown",
   "id": "45872f98-880e-4d58-99ba-eb8377746e93",
   "metadata": {},
   "source": [
    "## Encode Features\n",
    "\n",
    "Encode all null-threshold datasets. Encoding operations from [`encode_cvd_varencode_cvd_var()`](./assignment_3_tools.py) were applied to all null-thresholds."
   ]
  },
  {
   "cell_type": "code",
   "execution_count": 6,
   "id": "512be963-36ff-47c8-90fc-aa7d9e6c3abd",
   "metadata": {
    "tags": []
   },
   "outputs": [
    {
     "name": "stdout",
     "output_type": "stream",
     "text": [
      "CPU times: user 2.14 s, sys: 386 ms, total: 2.52 s\n",
      "Wall time: 2.63 s\n"
     ]
    }
   ],
   "source": [
    "%%time\n",
    "split_encoded = dict()\n",
    "# Encode all null-threshold datasets\n",
    "for key, value in all_heart_drop.items():\n",
    "    X_train = f\"{key}_X_train\"\n",
    "    X_test = f\"{key}_X_test\"\n",
    "    y_train = f\"{key}_y_train\"\n",
    "    y_test = f\"{key}_y_test\"\n",
    "    (split_encoded[X_train], \n",
    "     split_encoded[X_test], \n",
    "     split_encoded[y_train], \n",
    "     split_encoded[y_test]) = encode_cvd_var(value)"
   ]
  },
  {
   "cell_type": "markdown",
   "id": "677212b3-e50a-4c7d-8aec-08de78cd724a",
   "metadata": {
    "tags": []
   },
   "source": [
    "## Balance Target Features\n",
    "\n",
    "Balance all null-threshold datasets."
   ]
  },
  {
   "cell_type": "code",
   "execution_count": 9,
   "id": "9eab77b8-6c8f-4640-bb1e-5b6faa5d466c",
   "metadata": {
    "tags": []
   },
   "outputs": [
    {
     "name": "stdout",
     "output_type": "stream",
     "text": [
      "CPU times: user 1.24 s, sys: 554 ms, total: 1.8 s\n",
      "Wall time: 1.85 s\n"
     ]
    }
   ],
   "source": [
    "%%time\n",
    "ratios = [1]\n",
    "balanced_X_trains = dict()\n",
    "balanced_y_trains = dict()\n",
    "\n",
    "# Apply Balancing to all null-threshold datasets\n",
    "for key in all_heart_drop:\n",
    "    X_train = split_encoded[f\"{key}_X_train\"]\n",
    "    y_train = split_encoded[f\"{key}_y_train\"]\n",
    "    for ratio in ratios:\n",
    "        (balanced_X_trains[f\"Over_Sample_1:{ratio}_threshold_{key[-6:-4]}_X_train\"], \n",
    "         balanced_y_trains[f\"Over_Sample_1:{ratio}_threshold_{key[-6:-4]}_y_train\"]) = rand_over_sample(X_train, y_train, ratio)\n",
    "        (balanced_X_trains[f\"Under_Sample_{ratio}:1_threshold_{key[-6:-4]}_X_train\"], \n",
    "         balanced_y_trains[f\"Under_Sample_{ratio}:1_threshold_{key[-6:-4]}_y_train\"]) = rand_over_sample(X_train, y_train, ratio)"
   ]
  },
  {
   "cell_type": "markdown",
   "id": "3a731d0f-2fb0-4525-b269-41d3262f06b6",
   "metadata": {},
   "source": [
    "## Results\n",
    "\n",
    "- [x] Make a table of over/under sampled datasets\n",
    "- [] Add MLP performance"
   ]
  },
  {
   "cell_type": "code",
   "execution_count": 10,
   "id": "0464ce24-35a7-474f-ac33-7691c8b3336a",
   "metadata": {
    "tags": []
   },
   "outputs": [
    {
     "name": "stdout",
     "output_type": "stream",
     "text": [
      "CPU times: user 54 ms, sys: 8.63 ms, total: 62.7 ms\n",
      "Wall time: 66 ms\n"
     ]
    },
    {
     "data": {
      "text/html": [
       "<div id=\"itjqcizmii\" style=\"padding-left:0px;padding-right:0px;padding-top:10px;padding-bottom:10px;overflow-x:auto;overflow-y:auto;width:auto;height:auto;\">\n",
       "<style>\n",
       "#itjqcizmii table {\n",
       "          font-family: -apple-system, BlinkMacSystemFont, 'Segoe UI', Roboto, Oxygen, Ubuntu, Cantarell, 'Helvetica Neue', 'Fira Sans', 'Droid Sans', Arial, sans-serif;\n",
       "          -webkit-font-smoothing: antialiased;\n",
       "          -moz-osx-font-smoothing: grayscale;\n",
       "        }\n",
       "\n",
       "#itjqcizmii thead, tbody, tfoot, tr, td, th { border-style: none; }\n",
       " tr { background-color: transparent; }\n",
       "#itjqcizmii p { margin: 0; padding: 0; }\n",
       " #itjqcizmii .gt_table { display: table; border-collapse: collapse; line-height: normal; margin-left: auto; margin-right: auto; color: #333333; font-size: 16px; font-weight: normal; font-style: normal; background-color: #FFFFFF; width: auto; border-top-style: solid; border-top-width: 2px; border-top-color: #A8A8A8; border-right-style: none; border-right-width: 2px; border-right-color: #D3D3D3; border-bottom-style: solid; border-bottom-width: 2px; border-bottom-color: #A8A8A8; border-left-style: none; border-left-width: 2px; border-left-color: #D3D3D3; }\n",
       " #itjqcizmii .gt_caption { padding-top: 4px; padding-bottom: 4px; }\n",
       " #itjqcizmii .gt_title { color: #333333; font-size: 125%; font-weight: initial; padding-top: 4px; padding-bottom: 4px; padding-left: 5px; padding-right: 5px; border-bottom-color: #FFFFFF; border-bottom-width: 0; }\n",
       " #itjqcizmii .gt_subtitle { color: #333333; font-size: 85%; font-weight: initial; padding-top: 3px; padding-bottom: 5px; padding-left: 5px; padding-right: 5px; border-top-color: #FFFFFF; border-top-width: 0; }\n",
       " #itjqcizmii .gt_heading { background-color: #FFFFFF; text-align: center; border-bottom-color: #FFFFFF; border-left-style: none; border-left-width: 1px; border-left-color: #D3D3D3; border-right-style: none; border-right-width: 1px; border-right-color: #D3D3D3; }\n",
       " #itjqcizmii .gt_bottom_border { border-bottom-style: solid; border-bottom-width: 2px; border-bottom-color: #D3D3D3; }\n",
       " #itjqcizmii .gt_col_headings { border-top-style: solid; border-top-width: 2px; border-top-color: #D3D3D3; border-bottom-style: solid; border-bottom-width: 2px; border-bottom-color: #D3D3D3; border-left-style: none; border-left-width: 1px; border-left-color: #D3D3D3; border-right-style: none; border-right-width: 1px; border-right-color: #D3D3D3; }\n",
       " #itjqcizmii .gt_col_heading { color: #333333; background-color: #FFFFFF; font-size: 100%; font-weight: normal; text-transform: inherit; border-left-style: none; border-left-width: 1px; border-left-color: #D3D3D3; border-right-style: none; border-right-width: 1px; border-right-color: #D3D3D3; vertical-align: bottom; padding-top: 5px; padding-bottom: 5px; padding-left: 5px; padding-right: 5px; overflow-x: hidden; }\n",
       " #itjqcizmii .gt_column_spanner_outer { color: #333333; background-color: #FFFFFF; font-size: 100%; font-weight: normal; text-transform: inherit; padding-top: 0; padding-bottom: 0; padding-left: 4px; padding-right: 4px; }\n",
       " #itjqcizmii .gt_column_spanner_outer:first-child { padding-left: 0; }\n",
       " #itjqcizmii .gt_column_spanner_outer:last-child { padding-right: 0; }\n",
       " #itjqcizmii .gt_column_spanner { border-bottom-style: solid; border-bottom-width: 2px; border-bottom-color: #D3D3D3; vertical-align: bottom; padding-top: 5px; padding-bottom: 5px; overflow-x: hidden; display: inline-block; width: 100%; }\n",
       " #itjqcizmii .gt_spanner_row { border-bottom-style: hidden; }\n",
       " #itjqcizmii .gt_group_heading { padding-top: 8px; padding-bottom: 8px; padding-left: 5px; padding-right: 5px; color: #333333; background-color: #FFFFFF; font-size: 100%; font-weight: initial; text-transform: inherit; border-top-style: solid; border-top-width: 2px; border-top-color: #D3D3D3; border-bottom-style: solid; border-bottom-width: 2px; border-bottom-color: #D3D3D3; border-left-style: none; border-left-width: 1px; border-left-color: #D3D3D3; border-right-style: none; border-right-width: 1px; border-right-color: #D3D3D3; vertical-align: middle; text-align: left; }\n",
       " #itjqcizmii .gt_empty_group_heading { padding: 0.5px; color: #333333; background-color: #FFFFFF; font-size: 100%; font-weight: initial; border-top-style: solid; border-top-width: 2px; border-top-color: #D3D3D3; border-bottom-style: solid; border-bottom-width: 2px; border-bottom-color: #D3D3D3; vertical-align: middle; }\n",
       " #itjqcizmii .gt_from_md> :first-child { margin-top: 0; }\n",
       " #itjqcizmii .gt_from_md> :last-child { margin-bottom: 0; }\n",
       " #itjqcizmii .gt_row { padding-top: 8px; padding-bottom: 8px; padding-left: 5px; padding-right: 5px; margin: 10px; border-top-style: solid; border-top-width: 1px; border-top-color: #D3D3D3; border-left-style: none; border-left-width: 1px; border-left-color: #D3D3D3; border-right-style: none; border-right-width: 1px; border-right-color: #D3D3D3; vertical-align: middle; overflow-x: hidden; }\n",
       " #itjqcizmii .gt_stub { color: #333333; background-color: #FFFFFF; font-size: 100%; font-weight: initial; text-transform: inherit; border-right-style: solid; border-right-width: 2px; border-right-color: #D3D3D3; padding-left: 5px; padding-right: 5px; }\n",
       " #itjqcizmii .gt_stub_row_group { color: #333333; background-color: #FFFFFF; font-size: 100%; font-weight: initial; text-transform: inherit; border-right-style: solid; border-right-width: 2px; border-right-color: #D3D3D3; padding-left: 5px; padding-right: 5px; vertical-align: top; }\n",
       " #itjqcizmii .gt_row_group_first td { border-top-width: 2px; }\n",
       " #itjqcizmii .gt_row_group_first th { border-top-width: 2px; }\n",
       " #itjqcizmii .gt_table_body { border-top-style: solid; border-top-width: 2px; border-top-color: #D3D3D3; border-bottom-style: solid; border-bottom-width: 2px; border-bottom-color: #D3D3D3; }\n",
       " #itjqcizmii .gt_sourcenotes { color: #333333; background-color: #FFFFFF; border-bottom-style: none; border-bottom-width: 2px; border-bottom-color: #D3D3D3; border-left-style: none; border-left-width: 2px; border-left-color: #D3D3D3; border-right-style: none; border-right-width: 2px; border-right-color: #D3D3D3; }\n",
       " #itjqcizmii .gt_sourcenote { font-size: 90%; padding-top: 4px; padding-bottom: 4px; padding-left: 5px; padding-right: 5px; text-align: left; }\n",
       " #itjqcizmii .gt_left { text-align: left; }\n",
       " #itjqcizmii .gt_center { text-align: center; }\n",
       " #itjqcizmii .gt_right { text-align: right; font-variant-numeric: tabular-nums; }\n",
       " #itjqcizmii .gt_font_normal { font-weight: normal; }\n",
       " #itjqcizmii .gt_font_bold { font-weight: bold; }\n",
       " #itjqcizmii .gt_font_italic { font-style: italic; }\n",
       " #itjqcizmii .gt_super { font-size: 65%; }\n",
       " #itjqcizmii .gt_footnote_marks { font-size: 75%; vertical-align: 0.4em; position: initial; }\n",
       " #itjqcizmii .gt_asterisk { font-size: 100%; vertical-align: 0; }\n",
       " \n",
       "</style>\n",
       "<table class=\"gt_table\" data-quarto-disable-processing=\"false\" data-quarto-bootstrap=\"false\">\n",
       "\n",
       "<tr class=\"gt_col_headings\">\n",
       "  <th class=\"gt_col_heading gt_columns_bottom_border gt_left\" rowspan=\"1\" colspan=\"1\" scope=\"col\" id=\"Balance_Method\">Balance_Method</th>\n",
       "  <th class=\"gt_col_heading gt_columns_bottom_border gt_right\" rowspan=\"1\" colspan=\"1\" scope=\"col\" id=\"No_CVD\">No_CVD</th>\n",
       "  <th class=\"gt_col_heading gt_columns_bottom_border gt_right\" rowspan=\"1\" colspan=\"1\" scope=\"col\" id=\"Yes_CVD\">Yes_CVD</th>\n",
       "  <th class=\"gt_col_heading gt_columns_bottom_border gt_right\" rowspan=\"1\" colspan=\"1\" scope=\"col\" id=\"Total_Obs\">Total_Obs</th>\n",
       "</tr>\n",
       "<tbody class=\"gt_table_body\">\n",
       "<tr>\n",
       "  <td class=\"gt_row gt_left\">Over_Sample_1:1_threshold_20</td>\n",
       "  <td class=\"gt_row gt_right\">290589</td>\n",
       "  <td class=\"gt_row gt_right\">290589</td>\n",
       "  <td class=\"gt_row gt_right\">581178</td>\n",
       "</tr>\n",
       "<tr>\n",
       "  <td class=\"gt_row gt_left\">Under_Sample_1:1_threshold_20</td>\n",
       "  <td class=\"gt_row gt_right\">290589</td>\n",
       "  <td class=\"gt_row gt_right\">290589</td>\n",
       "  <td class=\"gt_row gt_right\">581178</td>\n",
       "</tr>\n",
       "</tbody>\n",
       "\n",
       "\n",
       "</table>\n",
       "\n",
       "</div>\n",
       "        "
      ],
      "text/plain": [
       "GT(_tbl_data=                  Balance_Method  No_CVD  Yes_CVD  Total_Obs\n",
       "0   Over_Sample_1:1_threshold_20  290589   290589     581178\n",
       "1  Under_Sample_1:1_threshold_20  290589   290589     581178, _body=<great_tables._gt_data.Body object at 0x32b4babc0>, _boxhead=Boxhead([ColInfo(var='Balance_Method', type=<ColInfoTypeEnum.default: 1>, column_label='Balance_Method', column_align='left', column_width=None), ColInfo(var='No_CVD', type=<ColInfoTypeEnum.default: 1>, column_label='No_CVD', column_align='right', column_width=None), ColInfo(var='Yes_CVD', type=<ColInfoTypeEnum.default: 1>, column_label='Yes_CVD', column_align='right', column_width=None), ColInfo(var='Total_Obs', type=<ColInfoTypeEnum.default: 1>, column_label='Total_Obs', column_align='right', column_width=None)]), _stub=Stub([RowInfo(rownum_i=0, group_id=None, rowname=None, group_label=None, built=False), RowInfo(rownum_i=1, group_id=None, rowname=None, group_label=None, built=False)]), _row_groups=[], _group_rows=GroupRows([]), _spanners=Spanners([]), _heading=Heading(title=None, subtitle=None, preheader=None), _stubhead=None, _source_notes=[], _footnotes=[], _styles=[], _locale=<great_tables._gt_data.Locale object at 0x32b4b9900>, _formats=[], _substitutions=[], _options=Options(table_id=OptionsInfo(scss=False, category='table', type='value', value=None), table_caption=OptionsInfo(scss=False, category='table', type='value', value=None), table_width=OptionsInfo(scss=True, category='table', type='px', value='auto'), table_layout=OptionsInfo(scss=True, category='table', type='value', value='fixed'), table_margin_left=OptionsInfo(scss=True, category='table', type='px', value='auto'), table_margin_right=OptionsInfo(scss=True, category='table', type='px', value='auto'), table_background_color=OptionsInfo(scss=True, category='table', type='value', value='#FFFFFF'), table_font_names=OptionsInfo(scss=False, category='table', type='values', value=['-apple-system', 'BlinkMacSystemFont', 'Segoe UI', 'Roboto', 'Oxygen', 'Ubuntu', 'Cantarell', 'Helvetica Neue', 'Fira Sans', 'Droid Sans', 'Arial', 'sans-serif']), table_font_size=OptionsInfo(scss=True, category='table', type='px', value='16px'), table_font_weight=OptionsInfo(scss=True, category='table', type='value', value='normal'), table_font_style=OptionsInfo(scss=True, category='table', type='value', value='normal'), table_font_color=OptionsInfo(scss=True, category='table', type='value', value='#333333'), table_font_color_light=OptionsInfo(scss=True, category='table', type='value', value='#FFFFFF'), table_border_top_include=OptionsInfo(scss=False, category='table', type='boolean', value=True), table_border_top_style=OptionsInfo(scss=True, category='table', type='value', value='solid'), table_border_top_width=OptionsInfo(scss=True, category='table', type='px', value='2px'), table_border_top_color=OptionsInfo(scss=True, category='table', type='value', value='#A8A8A8'), table_border_right_style=OptionsInfo(scss=True, category='table', type='value', value='none'), table_border_right_width=OptionsInfo(scss=True, category='table', type='px', value='2px'), table_border_right_color=OptionsInfo(scss=True, category='table', type='value', value='#D3D3D3'), table_border_bottom_include=OptionsInfo(scss=False, category='table', type='boolean', value=True), table_border_bottom_style=OptionsInfo(scss=True, category='table', type='value', value='solid'), table_border_bottom_width=OptionsInfo(scss=True, category='table', type='px', value='2px'), table_border_bottom_color=OptionsInfo(scss=True, category='table', type='value', value='#A8A8A8'), table_border_left_style=OptionsInfo(scss=True, category='table', type='value', value='none'), table_border_left_width=OptionsInfo(scss=True, category='table', type='px', value='2px'), table_border_left_color=OptionsInfo(scss=True, category='table', type='value', value='#D3D3D3'), heading_background_color=OptionsInfo(scss=True, category='heading', type='value', value=None), heading_align=OptionsInfo(scss=True, category='heading', type='value', value='center'), heading_title_font_size=OptionsInfo(scss=True, category='heading', type='px', value='125%'), heading_title_font_weight=OptionsInfo(scss=True, category='heading', type='value', value='initial'), heading_subtitle_font_size=OptionsInfo(scss=True, category='heading', type='px', value='85%'), heading_subtitle_font_weight=OptionsInfo(scss=True, category='heading', type='value', value='initial'), heading_padding=OptionsInfo(scss=True, category='heading', type='px', value='4px'), heading_padding_horizontal=OptionsInfo(scss=True, category='heading', type='px', value='5px'), heading_border_bottom_style=OptionsInfo(scss=True, category='heading', type='value', value='solid'), heading_border_bottom_width=OptionsInfo(scss=True, category='heading', type='px', value='2px'), heading_border_bottom_color=OptionsInfo(scss=True, category='heading', type='value', value='#D3D3D3'), heading_border_lr_style=OptionsInfo(scss=True, category='heading', type='value', value='none'), heading_border_lr_width=OptionsInfo(scss=True, category='heading', type='px', value='1px'), heading_border_lr_color=OptionsInfo(scss=True, category='heading', type='value', value='#D3D3D3'), column_labels_background_color=OptionsInfo(scss=True, category='column_labels', type='value', value=None), column_labels_font_size=OptionsInfo(scss=True, category='column_labels', type='px', value='100%'), column_labels_font_weight=OptionsInfo(scss=True, category='column_labels', type='value', value='normal'), column_labels_text_transform=OptionsInfo(scss=True, category='column_labels', type='value', value='inherit'), column_labels_padding=OptionsInfo(scss=True, category='column_labels', type='px', value='5px'), column_labels_padding_horizontal=OptionsInfo(scss=True, category='column_labels', type='px', value='5px'), column_labels_vlines_style=OptionsInfo(scss=True, category='table_body', type='value', value='none'), column_labels_vlines_width=OptionsInfo(scss=True, category='table_body', type='px', value='1px'), column_labels_vlines_color=OptionsInfo(scss=True, category='table_body', type='value', value='#D3D3D3'), column_labels_border_top_style=OptionsInfo(scss=True, category='column_labels', type='value', value='solid'), column_labels_border_top_width=OptionsInfo(scss=True, category='column_labels', type='px', value='2px'), column_labels_border_top_color=OptionsInfo(scss=True, category='column_labels', type='value', value='#D3D3D3'), column_labels_border_bottom_style=OptionsInfo(scss=True, category='column_labels', type='value', value='solid'), column_labels_border_bottom_width=OptionsInfo(scss=True, category='column_labels', type='px', value='2px'), column_labels_border_bottom_color=OptionsInfo(scss=True, category='column_labels', type='value', value='#D3D3D3'), column_labels_border_lr_style=OptionsInfo(scss=True, category='column_labels', type='value', value='none'), column_labels_border_lr_width=OptionsInfo(scss=True, category='column_labels', type='px', value='1px'), column_labels_border_lr_color=OptionsInfo(scss=True, category='column_labels', type='value', value='#D3D3D3'), column_labels_hidden=OptionsInfo(scss=False, category='column_labels', type='boolean', value=False), row_group_background_color=OptionsInfo(scss=True, category='row_group', type='value', value=None), row_group_font_size=OptionsInfo(scss=True, category='row_group', type='px', value='100%'), row_group_font_weight=OptionsInfo(scss=True, category='row_group', type='value', value='initial'), row_group_text_transform=OptionsInfo(scss=True, category='row_group', type='value', value='inherit'), row_group_padding=OptionsInfo(scss=True, category='row_group', type='px', value='8px'), row_group_padding_horizontal=OptionsInfo(scss=True, category='row_group', type='px', value='5px'), row_group_border_top_style=OptionsInfo(scss=True, category='row_group', type='value', value='solid'), row_group_border_top_width=OptionsInfo(scss=True, category='row_group', type='px', value='2px'), row_group_border_top_color=OptionsInfo(scss=True, category='row_group', type='value', value='#D3D3D3'), row_group_border_right_style=OptionsInfo(scss=True, category='row_group', type='value', value='none'), row_group_border_right_width=OptionsInfo(scss=True, category='row_group', type='px', value='1px'), row_group_border_right_color=OptionsInfo(scss=True, category='row_group', type='value', value='#D3D3D3'), row_group_border_bottom_style=OptionsInfo(scss=True, category='row_group', type='value', value='solid'), row_group_border_bottom_width=OptionsInfo(scss=True, category='row_group', type='px', value='2px'), row_group_border_bottom_color=OptionsInfo(scss=True, category='row_group', type='value', value='#D3D3D3'), row_group_border_left_style=OptionsInfo(scss=True, category='row_group', type='value', value='none'), row_group_border_left_width=OptionsInfo(scss=True, category='row_group', type='px', value='1px'), row_group_border_left_color=OptionsInfo(scss=True, category='row_group', type='value', value='#D3D3D3'), row_group_as_column=OptionsInfo(scss=False, category='row_group', type='boolean', value=False), table_body_hlines_style=OptionsInfo(scss=True, category='table_body', type='value', value='solid'), table_body_hlines_width=OptionsInfo(scss=True, category='table_body', type='px', value='1px'), table_body_hlines_color=OptionsInfo(scss=True, category='table_body', type='value', value='#D3D3D3'), table_body_vlines_style=OptionsInfo(scss=True, category='table_body', type='value', value='none'), table_body_vlines_width=OptionsInfo(scss=True, category='table_body', type='px', value='1px'), table_body_vlines_color=OptionsInfo(scss=True, category='table_body', type='value', value='#D3D3D3'), table_body_border_top_style=OptionsInfo(scss=True, category='table_body', type='value', value='solid'), table_body_border_top_width=OptionsInfo(scss=True, category='table_body', type='px', value='2px'), table_body_border_top_color=OptionsInfo(scss=True, category='table_body', type='value', value='#D3D3D3'), table_body_border_bottom_style=OptionsInfo(scss=True, category='table_body', type='value', value='solid'), table_body_border_bottom_width=OptionsInfo(scss=True, category='table_body', type='px', value='2px'), table_body_border_bottom_color=OptionsInfo(scss=True, category='table_body', type='value', value='#D3D3D3'), data_row_padding=OptionsInfo(scss=True, category='data_row', type='px', value='8px'), data_row_padding_horizontal=OptionsInfo(scss=True, category='data_row', type='px', value='5px'), stub_background_color=OptionsInfo(scss=True, category='stub', type='value', value=None), stub_font_size=OptionsInfo(scss=True, category='stub', type='px', value='100%'), stub_font_weight=OptionsInfo(scss=True, category='stub', type='value', value='initial'), stub_text_transform=OptionsInfo(scss=True, category='stub', type='value', value='inherit'), stub_border_style=OptionsInfo(scss=True, category='stub', type='value', value='solid'), stub_border_width=OptionsInfo(scss=True, category='stub', type='px', value='2px'), stub_border_color=OptionsInfo(scss=True, category='stub', type='value', value='#D3D3D3'), stub_row_group_background_color=OptionsInfo(scss=True, category='stub', type='value', value=None), stub_row_group_font_size=OptionsInfo(scss=True, category='stub', type='px', value='100%'), stub_row_group_font_weight=OptionsInfo(scss=True, category='stub', type='value', value='initial'), stub_row_group_text_transform=OptionsInfo(scss=True, category='stub', type='value', value='inherit'), stub_row_group_border_style=OptionsInfo(scss=True, category='stub', type='value', value='solid'), stub_row_group_border_width=OptionsInfo(scss=True, category='stub', type='px', value='2px'), stub_row_group_border_color=OptionsInfo(scss=True, category='stub', type='value', value='#D3D3D3'), source_notes_padding=OptionsInfo(scss=True, category='source_notes', type='px', value='4px'), source_notes_padding_horizontal=OptionsInfo(scss=True, category='source_notes', type='px', value='5px'), source_notes_background_color=OptionsInfo(scss=True, category='source_notes', type='value', value=None), source_notes_font_size=OptionsInfo(scss=True, category='source_notes', type='px', value='90%'), source_notes_border_bottom_style=OptionsInfo(scss=True, category='source_notes', type='value', value='none'), source_notes_border_bottom_width=OptionsInfo(scss=True, category='source_notes', type='px', value='2px'), source_notes_border_bottom_color=OptionsInfo(scss=True, category='source_notes', type='value', value='#D3D3D3'), source_notes_border_lr_style=OptionsInfo(scss=True, category='source_notes', type='value', value='none'), source_notes_border_lr_width=OptionsInfo(scss=True, category='source_notes', type='px', value='2px'), source_notes_border_lr_color=OptionsInfo(scss=True, category='source_notes', type='value', value='#D3D3D3'), source_notes_multiline=OptionsInfo(scss=False, category='source_notes', type='boolean', value=True), source_notes_sep=OptionsInfo(scss=False, category='source_notes', type='value', value=' '), container_width=OptionsInfo(scss=False, category='container', type='px', value='auto'), container_height=OptionsInfo(scss=False, category='container', type='px', value='auto'), container_padding_x=OptionsInfo(scss=False, category='container', type='px', value='0px'), container_padding_y=OptionsInfo(scss=False, category='container', type='px', value='10px'), container_overflow_x=OptionsInfo(scss=False, category='container', type='overflow', value='auto'), container_overflow_y=OptionsInfo(scss=False, category='container', type='overflow', value='auto'), quarto_disable_processing=OptionsInfo(scss=False, category='quarto', type='logical', value=False), quarto_use_bootstrap=OptionsInfo(scss=False, category='quarto', type='logical', value=False)), _has_built=False)"
      ]
     },
     "execution_count": 10,
     "metadata": {},
     "output_type": "execute_result"
    }
   ],
   "source": [
    "%%time\n",
    "Balance_Method = list()\n",
    "No_CVD = list()\n",
    "Yes_CVD = list()\n",
    "Total_Obs = list()\n",
    "\n",
    "for key, value in balanced_y_trains.items():\n",
    "    Balance_Method.append(key[:-8])\n",
    "    No_CVD.append(value.value_counts()[0])\n",
    "    Yes_CVD.append(value.value_counts()[1])\n",
    "    Total_Obs.append(value.value_counts()[1] + value.value_counts()[0])\n",
    "\n",
    "tbl_balanced = pd.DataFrame({\n",
    "    'Balance_Method': Balance_Method,\n",
    "    'No_CVD': No_CVD,\n",
    "    'Yes_CVD': Yes_CVD,\n",
    "    'Total_Obs': Total_Obs})\n",
    "\n",
    "GT(tbl_balanced.sort_values(by='Balance_Method', ascending=True))"
   ]
  },
  {
   "cell_type": "markdown",
   "id": "3b09053b-523e-4766-9e5b-3c9cd9f533f4",
   "metadata": {},
   "source": [
    "## Save as Parquet"
   ]
  },
  {
   "cell_type": "code",
   "execution_count": 7,
   "id": "f0f0b863-4ff9-4443-9155-9485cccaec51",
   "metadata": {
    "tags": []
   },
   "outputs": [
    {
     "name": "stdout",
     "output_type": "stream",
     "text": [
      "CPU times: user 1min 52s, sys: 1min 2s, total: 2min 55s\n",
      "Wall time: 2min 27s\n"
     ]
    }
   ],
   "source": [
    "%%time\n",
    "pd_dict_to_parquet(balanced_X_trains, \"../../Data/GoogleDrive/Encoded_Data/\")\n",
    "pd_dict_to_parquet(balanced_y_trains, \"../../Data/GoogleDrive/Encoded_Data/\")\n",
    "pd_dict_to_parquet(split_encoded, \"../../Data/GoogleDrive/Encoded_Data/\")\n",
    "tbl_balanced.to_parquet(\"../../Data/GoogleDrive/tbl_of_balanced.parquet\")"
   ]
  }
 ],
 "metadata": {
  "kernelspec": {
   "display_name": "203C",
   "language": "python",
   "name": "203c"
  },
  "language_info": {
   "codemirror_mode": {
    "name": "ipython",
    "version": 3
   },
   "file_extension": ".py",
   "mimetype": "text/x-python",
   "name": "python",
   "nbconvert_exporter": "python",
   "pygments_lexer": "ipython3",
   "version": "3.10.14"
  }
 },
 "nbformat": 4,
 "nbformat_minor": 5
}
